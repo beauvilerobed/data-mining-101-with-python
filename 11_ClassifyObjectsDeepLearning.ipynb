{
 "cells": [
  {
   "cell_type": "markdown",
   "metadata": {},
   "source": [
    "# Classifying Objects in Images Using Deep Learning\n",
    "\n",
    "We used basic neural networks in Chapter 8, Beating CAPTCHAs with Neural Networks.\n",
    "A recent flood of research in the area has led to a number of significant advances to\n",
    "that base design. Today, research in neural networks is creating some of the most\n",
    "advanced and accurate classification algorithms in many areas.\n",
    "These advances have come on the back of improvements in computational power,\n",
    "allowing us to train larger and more complex networks. However, the advances are\n",
    "much more than simply throwing more computational power at the problem.\n",
    "New algorithms and layer types have drastically improved performance, outside\n",
    "computational power.\n",
    "\n",
    "In this chapter, we will look at determining what object is represented in an\n",
    "image. The pixel values will be used as input, and the neural network will then\n",
    "automatically find useful combinations of pixels to form higher-level features.\n",
    "These will then be used for the actual classification. Overall, in this chapter,\n",
    "we will examine the following:\n",
    "\n",
    "- Classifying objects in images\n",
    "- The different types of deep neural networks\n",
    "- Theano, Lasagne, and Nolearn; libraries to build and train neural networks\n",
    "- Using a GPU to improve the speed of the algorithms"
   ]
  }
 ],
 "metadata": {
  "language_info": {
   "name": "python"
  }
 },
 "nbformat": 4,
 "nbformat_minor": 2
}
