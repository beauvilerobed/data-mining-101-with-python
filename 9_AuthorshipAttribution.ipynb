{
 "cells": [
  {
   "cell_type": "markdown",
   "metadata": {},
   "source": [
    "# Authorship Attribution\n",
    "\n",
    "Authorship analysis is, predominately, a text mining task that aims to identify certain aspects about an author, based only on the content of their writings. This\n",
    "could include characteristics such as age, gender, or background. In the specific\n",
    "authorship attribution task, we aim to identify who out of a set of authors wrote\n",
    "a particular document. This is a classic case of a classification task. In many ways,\n",
    "authorship analysis tasks are performed using standard data mining methodologies,\n",
    "such as cross fold validation, feature extraction, and classification algorithms.\n",
    "\n",
    "In this chapter, we will use the problem of authorship attribution to piece together\n",
    "the parts of the data mining methodology we developed in the previous chapters.\n",
    "We identify the problem and discuss the background and knowledge of the problem.\n",
    "This lets us choose features to extract, which we will build a pipeline for achieving.\n",
    "We will test two different types of features: function words and character n-grams.\n",
    "Finally, we will perform an in-depth analysis of the results. We will work with a\n",
    "book dataset, and then a very messy real-world corpus of e-mails.\n",
    "\n",
    "The topics we will cover in this chapter are as follows:\n",
    "- Feature engineering and how the features differ based on application\n",
    "- Revisiting the bag-of-words model with a specific goal in mind\n",
    "- Feature types and the character n-grams model\n",
    "- Support vector machines\n",
    "- Cleaning up a messy dataset for data mining"
   ]
  }
 ],
 "metadata": {
  "language_info": {
   "name": "python"
  }
 },
 "nbformat": 4,
 "nbformat_minor": 2
}
