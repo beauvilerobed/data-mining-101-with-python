{
 "cells": [
  {
   "cell_type": "markdown",
   "metadata": {},
   "source": [
    "# Getting Started with Data Mining\n",
    "\n",
    "Data mining is a methodology that we can employ to train computers to make decisions with data and forms the backbone of many high-tech systems of today.\n",
    "\n",
    "The Python language is fast growing in popularity, for a good reason. It gives the programmer a lot of flexibility; it has a large number of modules to perform different tasks; and Python code is usually more readable and concise than in any other languages. There is a large and an active community of researchers, practitioners, and beginners using Python for data mining.\n",
    "\n",
    "- **Introducing data mining**\n",
    "- **A simple affiniy analysis example**\n",
    "- **A simple classification example**\n",
    "- **What is classification**\n",
    "\n",
    "## Introducing data mining\n",
    "\n",
    "Data mining provides a way for a computer to learn how to make decisions with data. This decision could be predicting tomorrow's weather, blocking a spam email from entering your inbox, detecting the language of a website, or finding a new romance on a dating site. \n",
    "\n",
    "Data mining is part of algorithms, statistics, engineering, optimization, and computer science. We also use concepts and knowledge from other fields such as linguistics, neuroscience, or town planning. Applying it effectively usually requires this domain-specific knowledge to be integrated with the algorithms.\n",
    "\n",
    "We start our data mining process by creating a dataset, describing an aspect of the real world. Datasets comprise of two aspects:\n",
    "\n",
    "- Samples that are objects in the real world. This can be a book, photograph, animal, person, or any other object.\n",
    "- Features that are descriptions of the samples in our dataset. They could be the length, frequency of a given word, number of legs, date it was created, and so on. \n",
    "\n",
    "The next step is tuning the data mining algorithm. Each data mining algorithm has parameters, either within the algorithm or supplied by the user. This tuning allows the algorithm to learn how to make decisions about the data.\n",
    "\n",
    "## A simple affinity analysis example\n",
    "\n",
    "A common use case for data mining is to improve sales by asking a customer who is buying a product if he/she would like another similar product as well. This can be done through affinity analysis, which is the study of when things exist together.\n",
    "\n",
    "## What is affinity analysis?\n",
    "\n",
    "Affinity analysis is a type of data mining that gives similarity between samples (objects). This could be the similarity between the following:\n",
    "\n",
    "- users on a website, in order to provide varied services or targeted advertising\n",
    "- items to sell to those users, in order to provide recommended movies or products\n",
    "- human genes, in order to find people that share the same ancestors\n",
    "\n",
    "We can measure affinity in a number of ways. For instance, we can record how frequently two products are purchased together. We can also record the accuracy of the statement when a person buys object 1 and also when they buy object 2. \n",
    "\n",
    "## Product recommendations\n",
    "\n",
    "One of the issues with moving a traditional business online, such as commerce, is that tasks that used to be done by humans need to be automated in order for the online business to scale. One example of this is up-selling, or selling an extra item to a customer who is already buying. Automated product recommendations through data mining are one of the driving forces behind the e-commerce revolution that is turning billions of dollars per year into revenue.S"
   ]
  },
  {
   "cell_type": "code",
   "execution_count": null,
   "metadata": {},
   "outputs": [],
   "source": [
    "DATA = 'data/'\n",
    "\n",
    "AFFINITY_DATASET = DATA + 'affinity_dataset.txt"
   ]
  }
 ],
 "metadata": {
  "language_info": {
   "name": "python"
  }
 },
 "nbformat": 4,
 "nbformat_minor": 2
}
