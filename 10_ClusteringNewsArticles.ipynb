{
 "cells": [
  {
   "cell_type": "markdown",
   "metadata": {},
   "source": [
    "# Clustering News Articles\n",
    "\n",
    "Previously, we performed data mining knowing what we were looking for. Our use of target classes allowed us to learn how our variables model those targets during the training phase. This type of learning, where we have targets to train against, is called **supervised learning**. Here, we consider what we do without those targets. This is **unsupervised learning** and is much more of an exploratory task. Rather than wanting to classify with our model, the goal in unsupervised learning is more about exploring the data to find insights.\n",
    "\n",
    "We will look at clustering news articles to find trends and patterns in the data. We look at how we can extract data from different websites using a link aggregation website to show a variety of news stories.\n",
    "\n",
    "The key concepts covered in this chapter include:\n",
    "- Obtaining text from arbitrary websites\n",
    "- Using the reddit API to collect interesting news stories\n",
    "- Cluster analysis for unsupervised data mining\n",
    "- Extracting topics from documents\n",
    "- Online learning for updating a model without retraining it\n",
    "- Cluster ensembling to combine different models\n",
    "\n",
    "## Obtaining news articles\n",
    "\n",
    "We will build a system that takes a news articles and groups them together, where the groups have similar topics. Our goal is to generate 500 fake news articles in python and then cluster them to\n",
    "see any major themes or concepts that occur.\n",
    "\n",
    "## Generate news articles"
   ]
  },
  {
   "cell_type": "code",
   "execution_count": 1,
   "metadata": {},
   "outputs": [],
   "source": [
    "import faker\n",
    "import random\n",
    "from datetime import datetime, timedelta"
   ]
  },
  {
   "cell_type": "code",
   "execution_count": 2,
   "metadata": {},
   "outputs": [],
   "source": [
    "fake = faker.Faker()"
   ]
  },
  {
   "cell_type": "code",
   "execution_count": 3,
   "metadata": {},
   "outputs": [
    {
     "name": "stdout",
     "output_type": "stream",
     "text": [
      "Fixed random sample: [['bar', 'cheesecake', 'danish'], ['Ice', 'wafer', 'Lollipop'], ['Lollipop', 'sugar', 'cheesecake'], ['bar', 'Ice', 'beans'], ['cheesecake', 'pie', 'sesame'], ['danish', 'oat', 'cheesecake']]\n"
     ]
    }
   ],
   "source": [
    "my_word_list = [\n",
    "    'danish','cheesecake','sugar',\n",
    "    'Lollipop','wafer','Gummies',\n",
    "    'sesame','Jelly','beans',\n",
    "    'pie','bar','Ice','oat' ]\n",
    "\n",
    "random.seed(42)\n",
    "sample_size = 3\n",
    "num_of_iters = 6\n",
    "samples = []\n",
    "for _ in range(num_of_iters):\n",
    "    random_sample = random.sample(my_word_list, sample_size)\n",
    "    samples.append(random_sample)\n",
    "\n",
    "print(\"Fixed random sample:\", samples)\n"
   ]
  },
  {
   "cell_type": "code",
   "execution_count": 4,
   "metadata": {},
   "outputs": [],
   "source": [
    "def generate_title():\n",
    "    max_words = 5  # Maximum number of words\n",
    "    num_words = random.randint(1, max_words)\n",
    "    return ' '.join(fake.word() for _ in range(num_words))\n",
    "\n",
    "def generate_author():\n",
    "    return f\"{fake.first_name()} {fake.last_name()}\"\n",
    "\n",
    "def generate_content(sample, num_indicators=1):\n",
    "    lines = []\n",
    "    for _ in range(300):\n",
    "        lines.append(fake.text())\n",
    "    for _ in range(num_indicators):\n",
    "        lines.append(fake.sentence(ext_word_list=sample))\n",
    "    \n",
    "    random.shuffle(lines)\n",
    "    \n",
    "    text = '/n'.join(lines)\n",
    "\n",
    "    return text"
   ]
  },
  {
   "cell_type": "code",
   "execution_count": 5,
   "metadata": {},
   "outputs": [
    {
     "name": "stdout",
     "output_type": "stream",
     "text": [
      "360\n"
     ]
    }
   ],
   "source": [
    "documents = []\n",
    "def generate_article(i, samples, num_indicators=1):\n",
    "    docs = []\n",
    "    for sample in samples:\n",
    "        title = generate_title()\n",
    "        author = generate_author()\n",
    "        content = generate_content(sample, num_indicators)\n",
    "\n",
    "        article = f\"\"\"\n",
    "        Title: {title}\n",
    "        Author: {author}\n",
    "\n",
    "        {content}\n",
    "        \"\"\"\n",
    "        \n",
    "        docs.append(article)\n",
    "    return docs\n",
    "\n",
    "def return_docs(return_docs=60, num_indicators=1):\n",
    "    dcuments = []\n",
    "    for i in range(return_docs):\n",
    "        dcuments += generate_article(i, samples, num_indicators)\n",
    "\n",
    "    return dcuments\n",
    "\n",
    "documents = return_docs()\n",
    "print(len(documents))\n"
   ]
  },
  {
   "cell_type": "code",
   "execution_count": 6,
   "metadata": {},
   "outputs": [
    {
     "name": "stdout",
     "output_type": "stream",
     "text": [
      "\n",
      "        Title: similar real\n",
      "        Author: Nicholas Villarreal\n",
      "\n",
      "        Cut amount serve movie no news. Art stop field truth common throw. Cost alone get I simple stand. Board back artist technology every leave rule discussion./nGreen speak teach kitchen nothing bag. Receive wear history.\n",
      "Strategy leader practice training standard structure build. Present recent professor we. Nice tree couple gr\n"
     ]
    }
   ],
   "source": [
    "print(documents[0][:400])"
   ]
  },
  {
   "cell_type": "code",
   "execution_count": 7,
   "metadata": {},
   "outputs": [],
   "source": [
    "from sklearn.cluster import KMeans\n",
    "from sklearn.feature_extraction.text import CountVectorizer, TfidfVectorizer"
   ]
  },
  {
   "cell_type": "code",
   "execution_count": 8,
   "metadata": {},
   "outputs": [],
   "source": [
    "from sklearn.pipeline import Pipeline\n",
    "\n",
    "n_clusters = 10\n",
    "pipeline = Pipeline([('feature_extraction', TfidfVectorizer(max_df=0.4)),\n",
    "                     ('clusterer', KMeans(n_clusters=n_clusters))])\n"
   ]
  },
  {
   "cell_type": "code",
   "execution_count": 9,
   "metadata": {},
   "outputs": [
    {
     "name": "stdout",
     "output_type": "stream",
     "text": [
      "Cluster 0 contains 29 samples\n",
      "Cluster 1 contains 40 samples\n",
      "Cluster 2 contains 38 samples\n",
      "Cluster 3 contains 43 samples\n",
      "Cluster 4 contains 34 samples\n",
      "Cluster 5 contains 28 samples\n",
      "Cluster 6 contains 40 samples\n",
      "Cluster 7 contains 37 samples\n",
      "Cluster 8 contains 34 samples\n",
      "Cluster 9 contains 37 samples\n"
     ]
    }
   ],
   "source": [
    "pipeline.fit(documents)\n",
    "labels = pipeline.predict(documents)\n",
    "\n",
    "from collections import Counter\n",
    "c = Counter(labels)\n",
    "for cluster_number in range(n_clusters):\n",
    "    print(\"Cluster {} contains {} samples\".format(cluster_number, c[cluster_number]))"
   ]
  },
  {
   "cell_type": "code",
   "execution_count": 10,
   "metadata": {},
   "outputs": [
    {
     "data": {
      "text/plain": [
       "29"
      ]
     },
     "execution_count": 10,
     "metadata": {},
     "output_type": "execute_result"
    }
   ],
   "source": [
    "c[0]"
   ]
  },
  {
   "cell_type": "code",
   "execution_count": 11,
   "metadata": {},
   "outputs": [
    {
     "data": {
      "text/plain": [
       "268.97646664392266"
      ]
     },
     "execution_count": 11,
     "metadata": {},
     "output_type": "execute_result"
    }
   ],
   "source": [
    "pipeline.named_steps['clusterer'].inertia_"
   ]
  },
  {
   "cell_type": "code",
   "execution_count": 12,
   "metadata": {},
   "outputs": [
    {
     "name": "stdout",
     "output_type": "stream",
     "text": [
      "starting n_clusster: 2\n",
      "starting n_clusster: 3\n",
      "starting n_clusster: 4\n",
      "starting n_clusster: 5\n",
      "starting n_clusster: 6\n",
      "starting n_clusster: 7\n",
      "starting n_clusster: 8\n",
      "starting n_clusster: 9\n"
     ]
    }
   ],
   "source": [
    "import numpy as np\n",
    "\n",
    "inertia_scores = []\n",
    "n_cluster_values = list(range(2, 10))\n",
    "for n_clusters in n_cluster_values:\n",
    "    print(f'starting n_clusster: {n_clusters}')\n",
    "    cur_inertia_scores = []\n",
    "    X = TfidfVectorizer(max_df=0.4).fit_transform(documents)\n",
    "    for i in range(15):\n",
    "        km = KMeans(n_clusters=n_clusters).fit(X)\n",
    "        cur_inertia_scores.append(km.inertia_)\n",
    "    inertia_scores.append(cur_inertia_scores)\n",
    "inertia_scores = np.array(inertia_scores)"
   ]
  },
  {
   "cell_type": "code",
   "execution_count": 13,
   "metadata": {},
   "outputs": [
    {
     "data": {
      "image/png": "[encoded data removed]",
      "text/plain": [
       "<Figure size 2880x1440 with 1 Axes>"
      ]
     },
     "metadata": {
      "needs_background": "light"
     },
     "output_type": "display_data"
    }
   ],
   "source": [
    "%matplotlib inline\n",
    "from matplotlib import pyplot as plt\n",
    "\n",
    "inertia_means = np.mean(inertia_scores, axis=1)\n",
    "inertia_stderr = np.std(inertia_scores, axis=1)\n",
    "\n",
    "fig = plt.figure(figsize=(40,20))\n",
    "plt.errorbar(n_cluster_values, inertia_means, inertia_stderr, color='green')\n",
    "plt.show()"
   ]
  },
  {
   "cell_type": "code",
   "execution_count": 14,
   "metadata": {},
   "outputs": [
    {
     "data": {
      "text/plain": [
       "Pipeline(steps=[('feature_extraction', TfidfVectorizer(max_df=0.4)),\n",
       "                ('clusterer', KMeans(n_clusters=6))])"
      ]
     },
     "execution_count": 14,
     "metadata": {},
     "output_type": "execute_result"
    }
   ],
   "source": [
    "n_clusters = 6\n",
    "\n",
    "pipeline = Pipeline([('feature_extraction', TfidfVectorizer(max_df=0.4)),\n",
    "                     ('clusterer', KMeans(n_clusters=n_clusters))\n",
    "                     ])\n",
    "pipeline.fit(documents)"
   ]
  },
  {
   "cell_type": "code",
   "execution_count": 15,
   "metadata": {},
   "outputs": [],
   "source": [
    "labels = pipeline.predict(documents)"
   ]
  },
  {
   "cell_type": "code",
   "execution_count": 16,
   "metadata": {},
   "outputs": [],
   "source": [
    "# Note: the higher the number of indicatorers the more perfect the model\n",
    "# trivial_docs = return_docs(num_indicators=10)\n",
    "# pipeline.fit(trivial_docs)\n",
    "# trivial_labels = pipeline.predict(trivial_docs)\n",
    "\n",
    "# from collections import Counter\n",
    "# c = Counter(trivial_labels)\n",
    "# for cluster_number in range(n_clusters):\n",
    "#     print(\"Cluster {} contains {} samples\".format(cluster_number, c[cluster_number]))"
   ]
  },
  {
   "cell_type": "code",
   "execution_count": 17,
   "metadata": {},
   "outputs": [
    {
     "name": "stdout",
     "output_type": "stream",
     "text": [
      "Cluster 0 contains 64 samples\n",
      "  Most important terms\n",
      "  1) danish (score: 0.0505)\n",
      "  2) nits (score: 0.0271)\n",
      "  3) nopen (score: 0.0270)\n",
      "  4) ncall (score: 0.0269)\n",
      "  5) noutside (score: 0.0264)\n",
      "\n",
      "Cluster 1 contains 60 samples\n",
      "  Most important terms\n",
      "  1) lollipop (score: 0.0287)\n",
      "  2) ice (score: 0.0285)\n",
      "  3) ngreen (score: 0.0282)\n",
      "  4) nthing (score: 0.0274)\n",
      "  5) nreturn (score: 0.0272)\n",
      "\n",
      "Cluster 2 contains 49 samples\n",
      "  Most important terms\n",
      "  1) sugar (score: 0.0331)\n",
      "  2) nright (score: 0.0308)\n",
      "  3) lollipop (score: 0.0304)\n",
      "  4) nfood (score: 0.0282)\n",
      "  5) nclose (score: 0.0275)\n",
      "\n",
      "Cluster 3 contains 70 samples\n",
      "  Most important terms\n",
      "  1) pie (score: 0.0372)\n",
      "  2) ntown (score: 0.0277)\n",
      "  3) ncreate (score: 0.0272)\n",
      "  4) nperformance (score: 0.0252)\n",
      "  5) nback (score: 0.0252)\n",
      "\n",
      "Cluster 4 contains 54 samples\n",
      "  Most important terms\n",
      "  1) lollipop (score: 0.0602)\n",
      "  2) nthus (score: 0.0315)\n",
      "  3) nleft (score: 0.0314)\n",
      "  4) nteam (score: 0.0292)\n",
      "  5) nfour (score: 0.0263)\n",
      "\n",
      "Cluster 5 contains 63 samples\n",
      "  Most important terms\n",
      "  1) beans (score: 0.0518)\n",
      "  2) ice (score: 0.0460)\n",
      "  3) nbetter (score: 0.0305)\n",
      "  4) ncentury (score: 0.0291)\n",
      "  5) nair (score: 0.0269)\n",
      "\n"
     ]
    },
    {
     "name": "stderr",
     "output_type": "stream",
     "text": [
      "/Library/Frameworks/Python.framework/Versions/3.7/lib/python3.7/site-packages/sklearn/utils/deprecation.py:87: FutureWarning: Function get_feature_names is deprecated; get_feature_names is deprecated in 1.0 and will be removed in 1.2. Please use get_feature_names_out instead.\n",
      "  warnings.warn(msg, category=FutureWarning)\n"
     ]
    }
   ],
   "source": [
    "\n",
    "c = Counter(labels)\n",
    "\n",
    "terms = pipeline.named_steps['feature_extraction'].get_feature_names()\n",
    "\n",
    "for cluster_number in range(n_clusters):\n",
    "    print(\"Cluster {} contains {} samples\".format(cluster_number, c[cluster_number]))\n",
    "    print(\"  Most important terms\")\n",
    "    centroid = pipeline.named_steps['clusterer'].cluster_centers_[cluster_number]\n",
    "    most_important = centroid.argsort()\n",
    "    for i in range(5):\n",
    "        term_index = most_important[-(i+1)]\n",
    "        print(\"  {0}) {1} (score: {2:.4f})\".format(i+1, terms[term_index], centroid[term_index]))\n",
    "    print()"
   ]
  },
  {
   "cell_type": "code",
   "execution_count": 18,
   "metadata": {},
   "outputs": [
    {
     "data": {
      "text/plain": [
       "2.459182419985236e-05"
      ]
     },
     "execution_count": 18,
     "metadata": {},
     "output_type": "execute_result"
    }
   ],
   "source": [
    "from sklearn.metrics import silhouette_score\n",
    "X = pipeline.named_steps['feature_extraction'].transform(documents)\n",
    "silhouette_score(X, labels)"
   ]
  },
  {
   "cell_type": "code",
   "execution_count": 19,
   "metadata": {},
   "outputs": [
    {
     "data": {
      "text/plain": [
       "1441"
      ]
     },
     "execution_count": 19,
     "metadata": {},
     "output_type": "execute_result"
    }
   ],
   "source": [
    "len(terms)"
   ]
  },
  {
   "cell_type": "code",
   "execution_count": 20,
   "metadata": {},
   "outputs": [],
   "source": [
    "Y = pipeline.transform(documents) "
   ]
  },
  {
   "cell_type": "code",
   "execution_count": 21,
   "metadata": {},
   "outputs": [],
   "source": [
    "km = KMeans(n_clusters=n_clusters)\n",
    "labels = km.fit_predict(Y)"
   ]
  },
  {
   "cell_type": "code",
   "execution_count": 22,
   "metadata": {},
   "outputs": [
    {
     "name": "stdout",
     "output_type": "stream",
     "text": [
      "Cluster 0 contains 65 samples\n",
      "Cluster 1 contains 60 samples\n",
      "Cluster 2 contains 48 samples\n",
      "Cluster 3 contains 62 samples\n",
      "Cluster 4 contains 53 samples\n",
      "Cluster 5 contains 72 samples\n"
     ]
    }
   ],
   "source": [
    "c = Counter(labels)\n",
    "for cluster_number in range(n_clusters):\n",
    "    print(\"Cluster {} contains {} samples\".format(cluster_number, c[cluster_number]))"
   ]
  },
  {
   "cell_type": "code",
   "execution_count": 23,
   "metadata": {},
   "outputs": [
    {
     "data": {
      "text/plain": [
       "0.34664932888264827"
      ]
     },
     "execution_count": 23,
     "metadata": {},
     "output_type": "execute_result"
    }
   ],
   "source": [
    "silhouette_score(Y, labels)"
   ]
  },
  {
   "cell_type": "code",
   "execution_count": 24,
   "metadata": {},
   "outputs": [
    {
     "data": {
      "text/plain": [
       "(360, 6)"
      ]
     },
     "execution_count": 24,
     "metadata": {},
     "output_type": "execute_result"
    }
   ],
   "source": [
    "Y.shape"
   ]
  },
  {
   "cell_type": "markdown",
   "metadata": {},
   "source": [
    "## Evidence Accumulation Clustering"
   ]
  },
  {
   "cell_type": "code",
   "execution_count": 25,
   "metadata": {},
   "outputs": [],
   "source": [
    "from scipy.sparse import csr_matrix\n",
    "\n",
    "\n",
    "def create_coassociation_matrix(labels):\n",
    "    rows = []\n",
    "    cols = []\n",
    "    unique_labels = set(labels)\n",
    "    for label in unique_labels:\n",
    "        indices = np.where(labels == label)[0]\n",
    "        for index1 in indices:\n",
    "            for index2 in indices:\n",
    "                rows.append(index1)\n",
    "                cols.append(index2)\n",
    "    data = np.ones((len(rows),))\n",
    "    return csr_matrix((data, (rows, cols)), dtype='float')\n"
   ]
  },
  {
   "cell_type": "code",
   "execution_count": 26,
   "metadata": {},
   "outputs": [],
   "source": [
    "C = create_coassociation_matrix(labels)"
   ]
  },
  {
   "cell_type": "code",
   "execution_count": 27,
   "metadata": {},
   "outputs": [
    {
     "data": {
      "text/plain": [
       "<360x360 sparse matrix of type '<class 'numpy.float64'>'\n",
       "\twith 21966 stored elements in Compressed Sparse Row format>"
      ]
     },
     "execution_count": 27,
     "metadata": {},
     "output_type": "execute_result"
    }
   ],
   "source": [
    "C"
   ]
  },
  {
   "cell_type": "code",
   "execution_count": 28,
   "metadata": {},
   "outputs": [
    {
     "data": {
      "text/plain": [
       "((360, 360), 129600)"
      ]
     },
     "execution_count": 28,
     "metadata": {},
     "output_type": "execute_result"
    }
   ],
   "source": [
    "C.shape, C.shape[0] * C.shape[1]"
   ]
  },
  {
   "cell_type": "code",
   "execution_count": 29,
   "metadata": {},
   "outputs": [
    {
     "data": {
      "text/plain": [
       "0.16949074074074075"
      ]
     },
     "execution_count": 29,
     "metadata": {},
     "output_type": "execute_result"
    }
   ],
   "source": [
    "len(C.nonzero()[0]) / (C.shape[0] * C.shape[1])"
   ]
  },
  {
   "cell_type": "code",
   "execution_count": 30,
   "metadata": {},
   "outputs": [],
   "source": [
    "from scipy.sparse.csgraph import minimum_spanning_tree"
   ]
  },
  {
   "cell_type": "code",
   "execution_count": 31,
   "metadata": {},
   "outputs": [],
   "source": [
    "mst = minimum_spanning_tree(C)"
   ]
  },
  {
   "cell_type": "code",
   "execution_count": 32,
   "metadata": {},
   "outputs": [
    {
     "data": {
      "text/plain": [
       "<360x360 sparse matrix of type '<class 'numpy.float64'>'\n",
       "\twith 354 stored elements in Compressed Sparse Row format>"
      ]
     },
     "execution_count": 32,
     "metadata": {},
     "output_type": "execute_result"
    }
   ],
   "source": [
    "mst"
   ]
  },
  {
   "cell_type": "code",
   "execution_count": 33,
   "metadata": {},
   "outputs": [],
   "source": [
    "pipeline = Pipeline([('feature_extraction', TfidfVectorizer(max_df=0.4)),\n",
    "                     ('clusterer', KMeans(n_clusters=3))\n",
    "                     ])\n",
    "pipeline.fit(documents)\n",
    "labels2 = pipeline.predict(documents)\n",
    "C2 = create_coassociation_matrix(labels2)"
   ]
  },
  {
   "cell_type": "code",
   "execution_count": 34,
   "metadata": {},
   "outputs": [
    {
     "data": {
      "text/plain": [
       "matrix([[1. , 0. , 0. , ..., 0. , 0. , 0. ],\n",
       "        [0. , 1. , 0.5, ..., 0.5, 0.5, 1. ],\n",
       "        [0. , 0.5, 1. , ..., 0. , 0.5, 0.5],\n",
       "        ...,\n",
       "        [0. , 0.5, 0. , ..., 1. , 0. , 0.5],\n",
       "        [0. , 0.5, 0.5, ..., 0. , 1. , 0.5],\n",
       "        [0. , 1. , 0.5, ..., 0.5, 0.5, 1. ]])"
      ]
     },
     "execution_count": 34,
     "metadata": {},
     "output_type": "execute_result"
    }
   ],
   "source": [
    "\n",
    "C_sum = (C + C2) / 2\n",
    "#C_sum.data = C_sum.data\n",
    "C_sum.todense()"
   ]
  },
  {
   "cell_type": "code",
   "execution_count": 35,
   "metadata": {},
   "outputs": [
    {
     "data": {
      "text/plain": [
       "<360x360 sparse matrix of type '<class 'numpy.float64'>'\n",
       "\twith 359 stored elements in Compressed Sparse Row format>"
      ]
     },
     "execution_count": 35,
     "metadata": {},
     "output_type": "execute_result"
    }
   ],
   "source": [
    "mst = minimum_spanning_tree(-C_sum)\n",
    "mst"
   ]
  },
  {
   "cell_type": "code",
   "execution_count": 36,
   "metadata": {},
   "outputs": [
    {
     "data": {
      "text/plain": [
       "<360x360 sparse matrix of type '<class 'numpy.float64'>'\n",
       "\twith 342 stored elements in Compressed Sparse Row format>"
      ]
     },
     "execution_count": 36,
     "metadata": {},
     "output_type": "execute_result"
    }
   ],
   "source": [
    "\n",
    "#mst.data[mst.data < 1] = 0\n",
    "mst.data[mst.data > -1] = 0\n",
    "mst.eliminate_zeros()\n",
    "mst"
   ]
  },
  {
   "cell_type": "code",
   "execution_count": 37,
   "metadata": {},
   "outputs": [],
   "source": [
    "from scipy.sparse.csgraph import connected_components\n",
    "number_of_clusters, labels = connected_components(mst)"
   ]
  },
  {
   "cell_type": "code",
   "execution_count": 38,
   "metadata": {},
   "outputs": [],
   "source": [
    "from sklearn.base import BaseEstimator, ClusterMixin\n",
    "\n",
    "class EAC(BaseEstimator, ClusterMixin):\n",
    "    def __init__(self, n_clusterings=10, cut_threshold=0.5, n_clusters_range=(3, 10)):\n",
    "        self.n_clusterings = n_clusterings\n",
    "        self.cut_threshold = cut_threshold\n",
    "        self.n_clusters_range = n_clusters_range\n",
    "    \n",
    "    def fit(self, X, y=None):\n",
    "        C = sum((create_coassociation_matrix(self._single_clustering(X))\n",
    "                 for i in range(self.n_clusterings)))\n",
    "        mst = minimum_spanning_tree(-C)\n",
    "        mst.data[mst.data > -self.cut_threshold] = 0\n",
    "        mst.eliminate_zeros()\n",
    "        self.n_components, self.labels_ = connected_components(mst)\n",
    "        return self\n",
    "    \n",
    "    def _single_clustering(self, X):\n",
    "        n_clusters = np.random.randint(*self.n_clusters_range)\n",
    "        km = KMeans(n_clusters=n_clusters)\n",
    "        return km.fit_predict(X)\n",
    "    \n",
    "    def fit_predict(self, X):\n",
    "        self.fit(X)\n",
    "        return self.labels_"
   ]
  },
  {
   "cell_type": "code",
   "execution_count": 39,
   "metadata": {},
   "outputs": [],
   "source": [
    "\n",
    "pipeline = Pipeline([('feature_extraction', TfidfVectorizer(max_df=0.4)),\n",
    "                     ('clusterer', EAC())])"
   ]
  },
  {
   "cell_type": "code",
   "execution_count": 40,
   "metadata": {},
   "outputs": [
    {
     "data": {
      "text/plain": [
       "Pipeline(steps=[('feature_extraction', TfidfVectorizer(max_df=0.4)),\n",
       "                ('clusterer', EAC())])"
      ]
     },
     "execution_count": 40,
     "metadata": {},
     "output_type": "execute_result"
    }
   ],
   "source": [
    "pipeline.fit(documents)"
   ]
  },
  {
   "cell_type": "code",
   "execution_count": 41,
   "metadata": {},
   "outputs": [],
   "source": [
    "labels = pipeline.named_steps['clusterer'].labels_"
   ]
  },
  {
   "cell_type": "code",
   "execution_count": 42,
   "metadata": {},
   "outputs": [
    {
     "data": {
      "text/plain": [
       "Counter({0: 360})"
      ]
     },
     "execution_count": 42,
     "metadata": {},
     "output_type": "execute_result"
    }
   ],
   "source": [
    "c = Counter(labels)\n",
    "c"
   ]
  },
  {
   "cell_type": "markdown",
   "metadata": {},
   "source": [
    "## Online Learning"
   ]
  },
  {
   "cell_type": "code",
   "execution_count": 43,
   "metadata": {},
   "outputs": [],
   "source": [
    "from sklearn.cluster import MiniBatchKMeans"
   ]
  },
  {
   "cell_type": "code",
   "execution_count": 44,
   "metadata": {},
   "outputs": [],
   "source": [
    "vec = TfidfVectorizer(max_df=0.4)"
   ]
  },
  {
   "cell_type": "code",
   "execution_count": 45,
   "metadata": {},
   "outputs": [],
   "source": [
    "X = vec.fit_transform(documents)"
   ]
  },
  {
   "cell_type": "code",
   "execution_count": 46,
   "metadata": {},
   "outputs": [],
   "source": [
    "mbkm = MiniBatchKMeans(random_state=14, n_clusters=3)\n",
    "batch_size = 500\n",
    "\n",
    "indices = np.arange(0, X.shape[0])\n",
    "for iteration in range(100):\n",
    "    sample = np.random.choice(indices, size=batch_size, replace=True)\n",
    "    mbkm.partial_fit(X[sample[:batch_size]])"
   ]
  },
  {
   "cell_type": "code",
   "execution_count": 47,
   "metadata": {},
   "outputs": [],
   "source": [
    "mbkm = MiniBatchKMeans(random_state=14, n_clusters=3)\n",
    "batch_size = 10\n",
    "\n",
    "for iteration in range(int(X.shape[0] / batch_size)):\n",
    "    start = batch_size * iteration\n",
    "    end = batch_size * (iteration + 1)\n",
    "    mbkm.partial_fit(X[start:end])"
   ]
  },
  {
   "cell_type": "code",
   "execution_count": 48,
   "metadata": {},
   "outputs": [
    {
     "data": {
      "text/plain": [
       "7.7423667398350755"
      ]
     },
     "execution_count": 48,
     "metadata": {},
     "output_type": "execute_result"
    }
   ],
   "source": [
    "labels_mbkm = mbkm.predict(X)\n",
    "mbkm.inertia_"
   ]
  },
  {
   "cell_type": "code",
   "execution_count": 49,
   "metadata": {},
   "outputs": [
    {
     "data": {
      "text/plain": [
       "275.38373423673045"
      ]
     },
     "execution_count": 49,
     "metadata": {},
     "output_type": "execute_result"
    }
   ],
   "source": [
    "km = KMeans(random_state=14, n_clusters=3)\n",
    "labels_km = km.fit_predict(X)\n",
    "km.inertia_"
   ]
  },
  {
   "cell_type": "code",
   "execution_count": 50,
   "metadata": {},
   "outputs": [],
   "source": [
    "from sklearn.metrics import adjusted_mutual_info_score, homogeneity_score\n",
    "from sklearn.metrics import mutual_info_score, v_measure_score"
   ]
  },
  {
   "cell_type": "code",
   "execution_count": 51,
   "metadata": {},
   "outputs": [
    {
     "data": {
      "text/plain": [
       "0.01130035469616235"
      ]
     },
     "execution_count": 51,
     "metadata": {},
     "output_type": "execute_result"
    }
   ],
   "source": [
    "v_measure_score(labels_mbkm, labels_km)"
   ]
  },
  {
   "cell_type": "code",
   "execution_count": 52,
   "metadata": {},
   "outputs": [
    {
     "data": {
      "text/plain": [
       "(360, 1441)"
      ]
     },
     "execution_count": 52,
     "metadata": {},
     "output_type": "execute_result"
    }
   ],
   "source": [
    "X.shape"
   ]
  },
  {
   "cell_type": "code",
   "execution_count": 53,
   "metadata": {},
   "outputs": [
    {
     "data": {
      "text/plain": [
       "array([1, 1, 1, 1, 1, 1, 1, 1, 1, 1, 1, 1, 1, 1, 1, 1, 1, 1, 1, 1, 1, 1,\n",
       "       1, 1, 1, 1, 1, 1, 1, 1, 1, 1, 1, 1, 1, 1, 1, 1, 1, 1, 1, 1, 1, 1,\n",
       "       1, 1, 1, 1, 1, 1, 1, 1, 1, 1, 1, 1, 1, 1, 1, 1, 1, 1, 1, 1, 1, 1,\n",
       "       1, 1, 1, 1, 1, 1, 1, 1, 1, 1, 1, 1, 1, 1, 1, 1, 1, 1, 1, 1, 1, 1,\n",
       "       1, 1, 1, 1, 1, 1, 1, 1, 1, 1, 1, 1, 1, 1, 1, 1, 1, 1, 1, 1, 1, 1,\n",
       "       1, 1, 1, 1, 1, 1, 1, 1, 1, 1, 1, 1, 1, 1, 1, 1, 1, 1, 1, 1, 1, 1,\n",
       "       1, 1, 1, 1, 1, 1, 1, 1, 1, 1, 1, 1, 1, 1, 1, 1, 1, 1, 1, 1, 1, 1,\n",
       "       1, 1, 1, 1, 1, 1, 1, 1, 1, 1, 1, 1, 1, 1, 1, 1, 1, 1, 1, 1, 1, 1,\n",
       "       1, 1, 1, 1, 1, 1, 1, 1, 1, 1, 1, 1, 1, 1, 1, 1, 1, 1, 1, 1, 1, 1,\n",
       "       1, 1, 1, 1, 1, 1, 1, 1, 1, 1, 1, 1, 1, 1, 1, 1, 1, 1, 1, 1, 1, 1,\n",
       "       1, 1, 1, 1, 1, 1, 1, 1, 1, 1, 1, 1, 1, 1, 1, 1, 1, 1, 1, 1, 1, 1,\n",
       "       1, 1, 1, 1, 1, 1, 1, 1, 1, 1, 1, 1, 1, 1, 1, 1, 1, 1, 1, 1, 1, 1,\n",
       "       1, 1, 1, 1, 1, 1, 1, 1, 1, 1, 1, 1, 1, 1, 1, 1, 1, 1, 1, 1, 1, 1,\n",
       "       1, 1, 1, 1, 1, 1, 1, 1, 1, 1, 1, 1, 1, 1, 1, 1, 1, 1, 1, 2, 1, 1,\n",
       "       0, 1, 1, 1, 1, 1, 1, 1, 1, 1, 1, 1, 1, 1, 1, 1, 1, 1, 1, 1, 1, 1,\n",
       "       1, 1, 1, 1, 1, 1, 1, 1, 1, 1, 1, 1, 1, 1, 1, 1, 1, 1, 1, 1, 1, 1,\n",
       "       1, 1, 1, 1, 1, 1, 1, 1], dtype=int32)"
      ]
     },
     "execution_count": 53,
     "metadata": {},
     "output_type": "execute_result"
    }
   ],
   "source": [
    "labels_mbkm"
   ]
  },
  {
   "cell_type": "code",
   "execution_count": 54,
   "metadata": {},
   "outputs": [],
   "source": [
    "from sklearn.feature_extraction.text import HashingVectorizer"
   ]
  },
  {
   "cell_type": "code",
   "execution_count": 55,
   "metadata": {},
   "outputs": [],
   "source": [
    "class PartialFitPipeline(Pipeline):\n",
    "    def partial_fit(self, X, y=None):\n",
    "        Xt = X\n",
    "        for name, transform in self.steps[:-1]:\n",
    "            Xt = transform.transform(Xt)\n",
    "        return self.steps[-1][1].partial_fit(Xt, y=y)"
   ]
  },
  {
   "cell_type": "code",
   "execution_count": 56,
   "metadata": {},
   "outputs": [],
   "source": [
    "pipeline = PartialFitPipeline([('feature_extraction', HashingVectorizer()),\n",
    "                             ('clusterer', MiniBatchKMeans(random_state=14, n_clusters=3))])"
   ]
  },
  {
   "cell_type": "code",
   "execution_count": 57,
   "metadata": {},
   "outputs": [],
   "source": [
    "batch_size = 10\n",
    "\n",
    "for iteration in range(int(len(documents) / batch_size)):\n",
    "    start = batch_size * iteration\n",
    "    end = batch_size * (iteration + 1)\n",
    "    pipeline.partial_fit(documents[start:end])"
   ]
  },
  {
   "cell_type": "code",
   "execution_count": 58,
   "metadata": {},
   "outputs": [
    {
     "data": {
      "text/plain": [
       "array([2, 2, 2, 2, 2, 2, 2, 2, 2, 2, 2, 2, 2, 2, 2, 2, 2, 2, 2, 2, 2, 2,\n",
       "       2, 2, 2, 2, 2, 2, 2, 2, 2, 2, 2, 2, 2, 2, 2, 2, 2, 2, 2, 2, 2, 2,\n",
       "       2, 2, 2, 2, 2, 2, 2, 2, 2, 2, 2, 2, 2, 2, 2, 2, 2, 2, 2, 2, 2, 2,\n",
       "       2, 2, 2, 2, 2, 2, 2, 2, 2, 2, 2, 2, 2, 2, 2, 2, 2, 2, 2, 2, 2, 2,\n",
       "       2, 2, 2, 2, 2, 2, 2, 2, 2, 2, 2, 2, 2, 2, 2, 2, 2, 2, 2, 2, 2, 2,\n",
       "       2, 2, 2, 2, 2, 2, 2, 2, 2, 2, 2, 2, 2, 2, 2, 2, 2, 2, 2, 2, 2, 2,\n",
       "       2, 2, 2, 2, 2, 2, 2, 2, 2, 2, 2, 2, 2, 2, 2, 2, 2, 2, 2, 2, 2, 2,\n",
       "       2, 2, 2, 2, 2, 2, 2, 2, 2, 2, 2, 2, 2, 2, 2, 2, 2, 2, 2, 2, 2, 2,\n",
       "       2, 2, 2, 2, 2, 2, 2, 2, 2, 2, 2, 2, 2, 2, 2, 2, 2, 2, 2, 2, 2, 2,\n",
       "       2, 2, 2, 2, 2, 2, 2, 2, 2, 2, 2, 2, 2, 2, 0, 2, 2, 2, 2, 1, 2, 2,\n",
       "       2, 2, 2, 2, 2, 2, 2, 2, 2, 2, 2, 2, 2, 2, 2, 2, 2, 2, 2, 2, 2, 2,\n",
       "       2, 2, 2, 2, 2, 2, 2, 2, 2, 2, 2, 2, 2, 2, 2, 2, 2, 2, 2, 2, 2, 2,\n",
       "       2, 2, 2, 2, 2, 2, 2, 2, 2, 2, 2, 2, 2, 2, 2, 2, 2, 2, 2, 2, 2, 2,\n",
       "       2, 2, 2, 2, 2, 2, 2, 2, 2, 2, 2, 2, 2, 2, 2, 2, 2, 2, 2, 2, 2, 2,\n",
       "       2, 2, 2, 2, 2, 2, 2, 2, 2, 2, 2, 2, 2, 2, 2, 2, 2, 2, 2, 2, 2, 2,\n",
       "       2, 2, 2, 2, 2, 2, 2, 2, 2, 2, 2, 2, 2, 2, 2, 2, 2, 2, 2, 2, 2, 2,\n",
       "       2, 2, 2, 2, 2, 2, 2, 2], dtype=int32)"
      ]
     },
     "execution_count": 58,
     "metadata": {},
     "output_type": "execute_result"
    }
   ],
   "source": [
    "labels = pipeline.predict(documents)\n",
    "labels"
   ]
  }
 ],
 "metadata": {
  "kernelspec": {
   "display_name": "Python 3",
   "language": "python",
   "name": "python3"
  },
  "language_info": {
   "codemirror_mode": {
    "name": "ipython",
    "version": 3
   },
   "file_extension": ".py",
   "mimetype": "text/x-python",
   "name": "python",
   "nbconvert_exporter": "python",
   "pygments_lexer": "ipython3",
   "version": "3.7.0"
  }
 },
 "nbformat": 4,
 "nbformat_minor": 2
}
