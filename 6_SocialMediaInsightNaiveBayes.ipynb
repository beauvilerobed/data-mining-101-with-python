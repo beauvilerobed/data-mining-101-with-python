{
 "cells": [
  {
   "cell_type": "markdown",
   "metadata": {},
   "source": [
    "# Social Media Insight Using Naive Bayes\n",
    "\n",
    "\n",
    "Text-based datasets contain a lot of information, whether they are books, historical documents, social media, e-mail, or any of the other ways we communicate via writing. Extracting features from text-based datasets and using them for classification is a difficult problem. There are, however, some common patterns for text mining. We look at disambiguating terms in social media using the Naive Bayes algorithm, which is a powerful and surprisingly simple algorithm. Naive Bayes takes a few shortcuts to properly compute the probabilities for classification, hence the term naive in the name. It can also be extended to other types of datasets quite easily and doesn't rely on numerical features. The model is a baseline for text mining studies, as the process can work reasonably well for a variety of datasets.\n",
    "\n",
    "We will cover the following topics in this chapter:\n",
    "- Downloading data from social network APIs\n",
    "- Transformers for text\n",
    "- Naive Bayes classifier\n",
    "- Using JSON for saving and loading datasets\n",
    "- The NLTK library for extracting features from text\n",
    "- The F-measure for evaluation\n",
    "\n",
    "## Disambiguation\n",
    "\n",
    "Text is often called an **unstructured** format. There is a lot of information there, but it is just there; no headings, no required format, loose syntax and other problems prohibit the easy extraction of information from text. The data is also highly connected, with lots of mentions and cross-references—just not in a format that allows us to easily extract it!\n",
    "\n",
    "We can compare the information stored in a book with that stored in a large database to see the difference. In the book, there are characters, themes, places, and lots of information. However, the book needs to be read and, more importantly, interpreted to gain this information. The database sits on your server with column names and data types. All the information is there and the level of interpretation needed is quite low. Information about the data, such as its type or meaning is called **metadata**, and text lacks it. A book also contains some metadata in the form of a table of contents and index but the degree is significantly lower than that of a database. \n",
    "\n",
    "One of the problems is the term **disambiguation**. When a person uses the word bank, is this a financial message or an environmental message (such as river bank)? This type of disambiguation is quite easy in many circumstances for humans (although there are still troubles), but much harder for computers to do.\n",
    "\n",
    "Here, we will look at disambiguating the use of the term Python on Twitter's stream. A message on Twitter is called a tweet and is limited to 140 characters. This means there is little room for context. There isn't much metadata available although hashtags are often used to denote the topic of the tweet.\n",
    "\n",
    "When people talk about Python, they could be talking about the following things:\n",
    "- The programming language Python\n",
    "- Monty Python, the classic comedy group\n",
    "- The snake Python\n",
    "- A make of shoe called Python\n",
    "\n",
    "There can be many other things called Python. The aim of our experiment is to take a tweet mentioning Python and determine whether it is talking about the programming language, based only on the content of the tweet."
   ]
  },
  {
   "cell_type": "markdown",
   "metadata": {},
   "source": [
    "## Downloading data from a social network\n",
    "\n",
    "We are going to download a corpus of data from Twitter and use it to sort out spam from useful content. Twitter provides a robust API for collecting information from its servers and this API is free for small-scale usage. It is, however, subject to some conditions that you'll need to be aware of if you start using Twitter's data in a commercial setting.\n",
    "\n",
    "First, you'll need to sign up for a Twitter account (which is free). Go to http://twitter.com and register an account if you do not already have one.\n",
    "\n",
    "Next, you'll need to ensure that you only make a certain number of requests per minute. This limit is currently 180 requests per hour. It can be tricky ensuring that you don't breach this limit, so it is highly recommended that you use a library to talk to Twitter's API.\n",
    "\n",
    "You will need a key to access Twitter's data. Go to http://twitter.com and sign in to your account.\n",
    "\n",
    "When you are logged in, go to https://apps.twitter.com/ and click on Create New App.\n",
    "\n",
    "Create a name and description for your app, along with a website address. If you don't have a website to use, insert a placeholder. Leave the Callback URL field blank for this app—we won't need it. Agree to the terms of use (if you do) and click on Create your Twitter application.\n",
    "\n",
    "Keep the resulting website open—you'll need the access keys that are on this page. Next, we need a library to talk to Twitter. There are many options; the one I like is simply called twitter, and is the official Twitter Python library.\n",
    "\n",
    "Note: You can install twitter using pip3 install twitter if you are using pip to install your packages. If you are using another system,check the documentation at https://github.com/sixohsix/ twitter."
   ]
  },
  {
   "cell_type": "code",
   "execution_count": 1,
   "metadata": {},
   "outputs": [],
   "source": [
    "# import twitter\n",
    "# import os\n",
    "# import json\n",
    "\n",
    "# consumer_key = \"<Your Consumer Key Here>\"\n",
    "# consumer_secret = \"<Your Consumer Secret Here>\"\n",
    "# access_token = \"<Your Access Token Here>\"\n",
    "# access_token_secret = \"<Your Access Token Secret Here>\"\n",
    "# authorization = twitter.OAuth(access_token, access_token_secret,\n",
    "# consumer_key, consumer_secret)\n",
    "\n",
    "# output_filename = os.path.join(os.path.expanduser(\"~\"),\n",
    "#  \"Data\", \"twitter\", \"python_tweets.json\")\n",
    "\n",
    "\n",
    "# t = twitter.Twitter(auth=authorization)\n",
    "\n",
    "# with open(output_filename, 'a') as output_file:\n",
    "#     search_results = t.search.tweets(q=\"python\", count=100)['statuses']\n",
    "#     for tweet in search_results:\n",
    "#         if 'text' in tweet:\n",
    "#             output_file.write(json.dumps(tweet))\n",
    "#             output_file.write(\"\\n\\n\")"
   ]
  },
  {
   "cell_type": "markdown",
   "metadata": {},
   "source": [
    "In the preceding loop, we also perform a check to see whether there is text in the tweet or not. Not all of the objects returned by twitter will be actual tweets (some will be actions to delete tweets and others). The key difference is the inclusion of text as a key, which we test for.\n",
    "\n",
    "Running this for a few minutes will result in 100 tweets being added to the\n",
    "output file.\n",
    "\n",
    "## Loading and classifying the dataset\n",
    "\n",
    "After we have collected a set of tweets (our dataset), we need labels to perform classification. The dataset we have stored is nearly in a JSON format. JSON is a format for data that doesn't impose much structure and is directly readable in JavaScript (hence the name, JavaScript Object Notation). JSON defines basic objects such as numbers, strings, lists and dictionaries, making it a good format for storing datasets if they contain data that isn't numerical. If your dataset is fully numerical, you would save space and time using a matrix-based format like in NumPy.\n",
    "\n",
    "To parse it, we can use the json library but we will have to first split the file by newlines to get the actual tweet objects themselves.\n",
    "\n",
    "## Loading data without the twitterAPI\n",
    "We do not need to used the twitterAPI or anything of the like. There is a saved .txt file that has 100 tweets that we will use. If you wish to use the twitterAPI feel free to do so."
   ]
  },
  {
   "cell_type": "code",
   "execution_count": 2,
   "metadata": {},
   "outputs": [],
   "source": [
    "DATA = 'data/social-media-data/'\n",
    "TWITTER = DATA + 'posts.txt'"
   ]
  },
  {
   "cell_type": "code",
   "execution_count": 3,
   "metadata": {},
   "outputs": [
    {
     "name": "stdout",
     "output_type": "stream",
     "text": [
      "Loaded 99 tweets\n"
     ]
    }
   ],
   "source": [
    "tweets_set = {}\n",
    "tweets_list = []\n",
    "with open(TWITTER, \"r\") as file:\n",
    "    content = file.read().split('\\n\\n')\n",
    "    for i, line in enumerate(content):\n",
    "        try: \n",
    "            user, tweet = line.split('\\n')\n",
    "            tweets_set[i] = {'user': user,\n",
    "                            'text': tweet}\n",
    "            tweets_list.append([user, tweet])\n",
    "        except:\n",
    "            continue\n",
    "\n",
    "print(f\"Loaded {len(tweets_list)} tweets\")"
   ]
  },
  {
   "cell_type": "markdown",
   "metadata": {},
   "source": [
    "We are now interested in classifying whether an item is relevant to us or not (in this case, relevant means refers to the programming language Python). We will use the IPython Notebook's ability to embed HTML and talk between JavaScript and Python to create a viewer of tweets to allow us to easily and quickly classify the tweets as spam or not.\n",
    "\n",
    "The code will present a new tweet to the user (you) and ask for a label: is it relevant\n",
    "or not? It will then store the input and present the next tweet to be labeled."
   ]
  },
  {
   "cell_type": "code",
   "execution_count": 4,
   "metadata": {},
   "outputs": [],
   "source": [
    "tweet_sample = tweets_set\n",
    "labels = []"
   ]
  },
  {
   "cell_type": "code",
   "execution_count": 5,
   "metadata": {},
   "outputs": [],
   "source": [
    "# instructions = f\"\"\"\n",
    "# Instructions: Click in textbox. Enter a 1 if the tweet is relevant, enter 2 otherwise.\n",
    "# \"\"\"\n",
    "# print(instructions)\n",
    "# while len(labels) <= len(tweets_list):\n",
    "#     try:\n",
    "#         tweet_text = tweet_sample[len(labels)]['text']\n",
    "#     except:\n",
    "#         print(f'key value {len(labels)} DNE')\n",
    "#         labels.append(-1)\n",
    "\n",
    "#     tweet = f\"\"\"\n",
    "# Tweet: {tweet_sample[len(labels)]['text']}\n",
    "#     \"\"\"\n",
    "#     print(tweet)\n",
    "#     a = input()\n",
    "#     try:\n",
    "#         if a == 'end':\n",
    "#             break\n",
    "#         val = int(a)\n",
    "#         if val in [1,2]:\n",
    "#             labels.append(int(a))\n",
    "#         else:\n",
    "#             print('invalid input: must be 0 or 1')\n",
    "#     except:\n",
    "#         print('invalid input: must be 0 or 1')\n",
    "    "
   ]
  },
  {
   "cell_type": "code",
   "execution_count": 6,
   "metadata": {},
   "outputs": [],
   "source": [
    "# a label with -1 is n/a\n",
    "with open(DATA+'labels.txt', 'r') as f:\n",
    "    content = f.read()\n",
    "    label_vals = content.split('\\n')\n",
    "    for val in label_vals:\n",
    "        labels.append(val)"
   ]
  },
  {
   "cell_type": "code",
   "execution_count": 7,
   "metadata": {},
   "outputs": [],
   "source": [
    "n_samples = min(len(tweet_sample), len(labels))"
   ]
  },
  {
   "cell_type": "markdown",
   "metadata": {},
   "source": [
    "## Creating a replicable dataset from Twitter\n",
    "\n",
    "In data mining, there are lots of variables. These aren't just in the data mining algorithms—they also appear in the data collection, environment, and many other factors. Being able to replicate your results is important as it enables you to verify or improve upon your results.\n",
    "\n",
    "**Note:** Getting 80 percent accuracy on one dataset with algorithm X, and 90 percent accuracy on another dataset with algorithm Y doesn't mean that Y is better. We need to be able to test on the same dataset in the same conditions to be able to properly compare.\n",
    "\n",
    "Your labeling of tweets might be different from what is here. While there are obvious examples where a given tweet relates to the python programming language, there will always be gray areas where the labeling isn't obvious. One tough gray area was tweets in non-English languages that couldn't be read.\n",
    "\n",
    "Due to these factors, it is difficult to replicate experiments on databases that are extracted from social media, and Twitter is no exception. Twitter explicitly disallows sharing datasets directly.\n",
    "\n",
    "One solution to this is to share tweet IDs only, which you can share freely. In this section, we will first create a simulation of tweet ID dataset that we can theoretically be freely share."
   ]
  },
  {
   "cell_type": "code",
   "execution_count": 8,
   "metadata": {},
   "outputs": [],
   "source": [
    "dataset = []\n",
    "\n",
    "for id, label in enumerate(labels):\n",
    "    try:\n",
    "        # print(f\"tweet: {tweet_sample[id]['text']}\")\n",
    "        # print(f\"label: {label} \\n\")\n",
    "        dataset.append([id, label])\n",
    "    except:\n",
    "        # print(f'invalid key: {id} \\n')\n",
    "        continue"
   ]
  },
  {
   "cell_type": "code",
   "execution_count": 9,
   "metadata": {},
   "outputs": [],
   "source": [
    "with open(DATA+'replicable.txt', 'w') as f:\n",
    "    for item in dataset:\n",
    "        f.write(str(item) + '\\n')"
   ]
  },
  {
   "cell_type": "markdown",
   "metadata": {},
   "source": [
    "Now that we have the tweet IDs and labels, we can recreate the original dataset if we wanted to but we will not do that here since the code up until now creates the dataset for you.\n",
    "\n",
    "## Text transformers\n",
    "\n",
    "Now that we have our dataset, how are we going to perform data mining on it?\n",
    "Text-based datasets include books, essays, websites, manuscripts, programming\n",
    "code, and other forms of written expression. All of the algorithms we have seen so\n",
    "far deal with numerical or categorical features, so how do we convert our text into a\n",
    "format that the algorithm can deal with?\n",
    "There are a number of measurements that could be taken. For instance, average\n",
    "word and average sentence length are used to predict the readability of a document.\n",
    "However, there are lots of feature types such as word occurrence which we will\n",
    "now investigate.\n",
    "\n",
    "### Bag-of-words\n",
    "\n",
    "One of the simplest but highly effective models is to simply count each word in the\n",
    "dataset. We create a matrix, where each row represents a document in our dataset\n",
    "and each column represents a word. The value of the cell is the frequency of that\n",
    "word in the document.\n",
    "\n",
    "Here's an excerpt from The Lord of the Rings, J.R.R. Tolkien:\n",
    "Three Rings for the Elven-kings under the sky,\n",
    "Seven for the Dwarf-lords in halls of stone,\n",
    "Nine for Mortal Men, doomed to die,\n",
    "One for the Dark Lord on his dark throne\n",
    "In the Land of Mordor where the Shadows lie.\n",
    "One Ring to rule them all, One Ring to find them,\n",
    "One Ring to bring them all and in the darkness bind them.\n",
    "In the Land of Mordor where the Shadows lie.\n",
    " - J.R.R. Tolkien's epigraph to The Lord of The Rings\n",
    "The word the appears nine times in this quote, while the words in, for, to, and one\n",
    "each appear four times. The word ring appears three times, as does the word of.\n",
    "We can create a dataset from this, choosing a subset of words and counting\n",
    "the frequency:\n",
    "\n",
    "Word the one ring to\n",
    "Frequency 9 4 3 4\n",
    "\n",
    "We can use the counter class to do a simple count for a given string. When counting\n",
    "words, it is normal to convert all letters to lowercase, which we do when creating the\n",
    "string. The code is as follows:"
   ]
  },
  {
   "cell_type": "code",
   "execution_count": null,
   "metadata": {},
   "outputs": [],
   "source": [
    "s = \"\"\"Three Rings for the Elven-kings under the sky,\n",
    "Seven for the Dwarf-lords in halls of stone,\n",
    "Nine for Mortal Men, doomed to die,\n",
    "One for the Dark Lord on his dark throne\n",
    "In the Land of Mordor where the Shadows lie.\n",
    "One Ring to rule them all, One Ring to find them,\n",
    "One Ring to bring them all and in the darkness bind them.\n",
    "In the Land of Mordor where the Shadows lie. \"\"\".lower()\n",
    "words = s.split()\n",
    "from collections import Counter\n",
    "c = Counter(words)"
   ]
  },
  {
   "cell_type": "markdown",
   "metadata": {},
   "source": [
    "Printing c.most_common(5) gives the list of the top five most frequently occurring\n",
    "words. Ties are not handled well as only five are given and a very large number of\n",
    "words all share a tie for fifth place.\n",
    "The bag-of-words model has three major types. The first is to use the raw\n",
    "frequencies, as shown in the preceding example. This does have a drawback when\n",
    "documents vary in size from fewer words to many words, as the overall values\n",
    "will be very different. The second model is to use the normalized frequency,\n",
    "where each document's sum equals 1. This is a much better solution as the length\n",
    "of the document doesn't matter as much. The third type is to simply use binary\n",
    "features—a value is 1 if the word occurs at all and 0 if it doesn't. We will use binary\n",
    "representation in this chapter.\n",
    "Another popular (arguably more popular) method for performing normalization is\n",
    "called term frequency - inverse document frequency, or tf-idf. In this weighting\n",
    "scheme, term counts are first normalized to frequencies and then divided by the\n",
    "number of documents in which it appears in the corpus. We will use tf-idf in Chapter\n",
    "10, Clustering News Articles.\n",
    "There are a number of libraries for working with text data in Python. We will\n",
    "use a major one, called Natural Language ToolKit (NLTK). The scikit-learn\n",
    "library also has the CountVectorizer class that performs a similar action, and\n",
    "it is recommended you take a look at it (we will use it in Chapter 9, Authorship\n",
    "Attribution). However the NLTK version has more options for word tokenization. If\n",
    "you are doing natural language processing in python, NLTK is a great library to use."
   ]
  },
  {
   "cell_type": "code",
   "execution_count": null,
   "metadata": {},
   "outputs": [],
   "source": [
    "sample_tweets = [t.lower() for t in tweets[:n_samples]]\n",
    "labels = labels[:n_samples]"
   ]
  },
  {
   "cell_type": "code",
   "execution_count": null,
   "metadata": {},
   "outputs": [],
   "source": [
    "import numpy as np\n",
    "y_true = np.array(labels)"
   ]
  },
  {
   "cell_type": "code",
   "execution_count": null,
   "metadata": {},
   "outputs": [],
   "source": [
    "print(\"{:.1f}% have class 1\".format(np.mean(y_true == 1) * 100))"
   ]
  },
  {
   "cell_type": "code",
   "execution_count": null,
   "metadata": {},
   "outputs": [],
   "source": [
    "from sklearn.base import TransformerMixin\n",
    "from nltk import word_tokenize\n",
    "\n",
    "class NLTKBOW(TransformerMixin):\n",
    "    def fit(self, X, y=None):\n",
    "        return self\n",
    "\n",
    "    def transform(self, X):\n",
    "        return [{word: True for word in word_tokenize(document)}\n",
    "                 for document in X]"
   ]
  },
  {
   "cell_type": "code",
   "execution_count": null,
   "metadata": {},
   "outputs": [],
   "source": [
    "from sklearn.feature_extraction import DictVectorizer\n",
    "from sklearn.naive_bayes import BernoulliNB\n",
    "from sklearn.cross_validation import cross_val_score\n",
    "from sklearn.pipeline import Pipeline\n",
    "from sklearn.feature_extraction.text import CountVectorizer"
   ]
  },
  {
   "cell_type": "code",
   "execution_count": null,
   "metadata": {},
   "outputs": [],
   "source": [
    "\n",
    "pipeline = Pipeline([('bag-of-words', NLTKBOW()),\n",
    "                     ('vectorizer', DictVectorizer()),\n",
    "                     ('naive-bayes', BernoulliNB())\n",
    "                     ])\n",
    "scores = cross_val_score(pipeline, sample_tweets, y_true, cv=10, scoring='f1')\n",
    "print(\"Score: {:.3f}\".format(np.mean(scores)))"
   ]
  }
 ],
 "metadata": {
  "kernelspec": {
   "display_name": "Python 3",
   "language": "python",
   "name": "python3"
  },
  "language_info": {
   "codemirror_mode": {
    "name": "ipython",
    "version": 3
   },
   "file_extension": ".py",
   "mimetype": "text/x-python",
   "name": "python",
   "nbconvert_exporter": "python",
   "pygments_lexer": "ipython3",
   "version": "3.7.0"
  }
 },
 "nbformat": 4,
 "nbformat_minor": 2
}
