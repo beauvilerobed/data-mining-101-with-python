{
 "cells": [
  {
   "cell_type": "markdown",
   "metadata": {},
   "source": [
    "# Authorship Attribution\n",
    "\n",
    "Authorship analysis is, predominately, a text mining task that aims to identify certain aspects about an author, based only on the content of their writings. This could include characteristics such as age, gender, or background. In the specific authorship attribution task, we aim to identify who out of a set of authors wrote a particular document. This is a classic case of a classification task. In many ways, authorship analysis tasks are performed using standard data mining methodologies, such as cross fold validation, feature extraction, and classification algorithms.\n",
    "\n",
    "In this chapter, we will use the problem of authorship attribution to piece together the parts of the data mining methodology we developed in the previous chapters. We identify the problem and discuss the background and knowledge of the problem. This lets us choose features to extract, which we will build a pipeline for achieving. We will test two different types of features: function words and character n-grams. Finally, we will perform an in-depth analysis of the results. We will work with a book dataset, and then a very messy real-world corpus of e-mails.\n",
    "\n",
    "The topics we will cover in this chapter are as follows:\n",
    "- Feature engineering and how the features differ based on application\n",
    "- Revisiting the bag-of-words model with a specific goal in mind\n",
    "- Feature types and the character n-grams model\n",
    "- Support vector machines\n",
    "- Cleaning up a messy dataset for data mining"
   ]
  },
  {
   "cell_type": "markdown",
   "metadata": {},
   "source": [
    "## Getting the data\n",
    "\n",
    "The data we will use for this chapter is a set of books from Project Gutenberg at www.gutenberg.org, which is a repository of public domain literature works.\n",
    "\n",
    "The books I used for these experiments come from a variety of authors:\n",
    "- Booth Tarkington (22 titles)\n",
    "- Charles Dickens (44 titles)\n",
    "- Edith Nesbit (10 titles)\n",
    "- Arthur Conan Doyle (51 titles)\n",
    "- Mark Twain (29 titles)\n",
    "- Sir Richard Francis Burton (11 titles)\n",
    "- Emile Gaboriau (10 titles)\n",
    "\n",
    "Overall, there are 177 documents from 7 authors, giving a significant amount of text to work with. A full list of the titles, along with download links and a script to automatically fetch them, is given in the code bundle. To download these books, we use the requests library to download the files into our data directory. First, set up the data directory and ensure the following code\n",
    "links to it:"
   ]
  },
  {
   "cell_type": "code",
   "execution_count": 1,
   "metadata": {},
   "outputs": [],
   "source": [
    "import csv\n",
    "from collections import Counter\n",
    "from io import BytesIO\n",
    "from pathlib import Path\n",
    "import requests"
   ]
  },
  {
   "cell_type": "code",
   "execution_count": 2,
   "metadata": {},
   "outputs": [
    {
     "data": {
      "text/plain": [
       "'Total size: 19.28MB'"
      ]
     },
     "execution_count": 2,
     "metadata": {},
     "output_type": "execute_result"
    }
   ],
   "source": [
    "GUTENBERG_CSV_URL = \"https://www.gutenberg.org/cache/epub/feeds/pg_catalog.csv.gz\"\n",
    "\n",
    "r = requests.get(GUTENBERG_CSV_URL)\n",
    "csv_text = r.content.decode(\"utf-8\")\n",
    "\n",
    "f\"Total size: {len(r.content) / 1024**2:0.2f}MB\""
   ]
  },
  {
   "cell_type": "code",
   "execution_count": 3,
   "metadata": {},
   "outputs": [],
   "source": [
    "import requests\n",
    "\n",
    "url = \"https://www.gutenberg.org/feeds/catalog.rdf.bz2\"\n",
    "response = requests.get(url)\n",
    "with open(\"catalog.rdf.bz2\", \"wb\") as f:\n",
    "    f.write(response.content)\n"
   ]
  },
  {
   "cell_type": "code",
   "execution_count": 4,
   "metadata": {},
   "outputs": [
    {
     "name": "stdout",
     "output_type": "stream",
     "text": [
      "Text#,Type,Issued,Title,Language,Authors,Subjects,LoCC,Bookshelves\n",
      "1,Text,1971-12-01,The Declaration of Independence of the United States of America,en,\"Jefferson, Thomas, 1743-1826\",\"United States -- History -- Revolution, 1775-1783 -- Sources; United States. Declaration of Independence\",E201; JK,Politics; American Revolutionary War; United States Law; Browsing: History - American; Browsing: His\n"
     ]
    }
   ],
   "source": [
    "print(csv_text[:400])"
   ]
  },
  {
   "cell_type": "code",
   "execution_count": 5,
   "metadata": {},
   "outputs": [
    {
     "data": {
      "text/html": [
       "<div>\n",
       "<style scoped>\n",
       "    .dataframe tbody tr th:only-of-type {\n",
       "        vertical-align: middle;\n",
       "    }\n",
       "\n",
       "    .dataframe tbody tr th {\n",
       "        vertical-align: top;\n",
       "    }\n",
       "\n",
       "    .dataframe thead th {\n",
       "        text-align: right;\n",
       "    }\n",
       "</style>\n",
       "<table border=\"1\" class=\"dataframe\">\n",
       "  <thead>\n",
       "    <tr style=\"text-align: right;\">\n",
       "      <th></th>\n",
       "      <th>Text#</th>\n",
       "      <th>Type</th>\n",
       "      <th>Issued</th>\n",
       "      <th>Title</th>\n",
       "      <th>Language</th>\n",
       "      <th>Authors</th>\n",
       "      <th>Subjects</th>\n",
       "      <th>LoCC</th>\n",
       "      <th>Bookshelves</th>\n",
       "    </tr>\n",
       "  </thead>\n",
       "  <tbody>\n",
       "    <tr>\n",
       "      <th>0</th>\n",
       "      <td>1</td>\n",
       "      <td>Text</td>\n",
       "      <td>1971-12-01</td>\n",
       "      <td>The Declaration of Independence of the United ...</td>\n",
       "      <td>en</td>\n",
       "      <td>Jefferson, Thomas, 1743-1826</td>\n",
       "      <td>United States -- History -- Revolution, 1775-1...</td>\n",
       "      <td>E201; JK</td>\n",
       "      <td>Politics; American Revolutionary War; United S...</td>\n",
       "    </tr>\n",
       "    <tr>\n",
       "      <th>1</th>\n",
       "      <td>2</td>\n",
       "      <td>Text</td>\n",
       "      <td>1972-12-01</td>\n",
       "      <td>The United States Bill of Rights\\r\\nThe Ten Or...</td>\n",
       "      <td>en</td>\n",
       "      <td>United States</td>\n",
       "      <td>Civil rights -- United States -- Sources; Unit...</td>\n",
       "      <td>JK; KF</td>\n",
       "      <td>Politics; American Revolutionary War; United S...</td>\n",
       "    </tr>\n",
       "    <tr>\n",
       "      <th>2</th>\n",
       "      <td>3</td>\n",
       "      <td>Text</td>\n",
       "      <td>1973-11-01</td>\n",
       "      <td>John F. Kennedy's Inaugural Address</td>\n",
       "      <td>en</td>\n",
       "      <td>Kennedy, John F. (John Fitzgerald), 1917-1963</td>\n",
       "      <td>United States -- Foreign relations -- 1961-196...</td>\n",
       "      <td>E838</td>\n",
       "      <td>Browsing: History - American; Browsing: Politics</td>\n",
       "    </tr>\n",
       "    <tr>\n",
       "      <th>3</th>\n",
       "      <td>4</td>\n",
       "      <td>Text</td>\n",
       "      <td>1973-11-01</td>\n",
       "      <td>Lincoln's Gettysburg Address\\r\\nGiven November...</td>\n",
       "      <td>en</td>\n",
       "      <td>Lincoln, Abraham, 1809-1865</td>\n",
       "      <td>Consecration of cemeteries -- Pennsylvania -- ...</td>\n",
       "      <td>E456</td>\n",
       "      <td>US Civil War; Browsing: History - American; Br...</td>\n",
       "    </tr>\n",
       "    <tr>\n",
       "      <th>4</th>\n",
       "      <td>5</td>\n",
       "      <td>Text</td>\n",
       "      <td>1975-12-01</td>\n",
       "      <td>The United States Constitution</td>\n",
       "      <td>en</td>\n",
       "      <td>United States</td>\n",
       "      <td>United States -- Politics and government -- 17...</td>\n",
       "      <td>JK; KF</td>\n",
       "      <td>United States; Politics; American Revolutionar...</td>\n",
       "    </tr>\n",
       "  </tbody>\n",
       "</table>\n",
       "</div>"
      ],
      "text/plain": [
       "  Text#  Type      Issued                                              Title  \\\n",
       "0     1  Text  1971-12-01  The Declaration of Independence of the United ...   \n",
       "1     2  Text  1972-12-01  The United States Bill of Rights\\r\\nThe Ten Or...   \n",
       "2     3  Text  1973-11-01                John F. Kennedy's Inaugural Address   \n",
       "3     4  Text  1973-11-01  Lincoln's Gettysburg Address\\r\\nGiven November...   \n",
       "4     5  Text  1975-12-01                     The United States Constitution   \n",
       "\n",
       "  Language                                        Authors  \\\n",
       "0       en                   Jefferson, Thomas, 1743-1826   \n",
       "1       en                                  United States   \n",
       "2       en  Kennedy, John F. (John Fitzgerald), 1917-1963   \n",
       "3       en                    Lincoln, Abraham, 1809-1865   \n",
       "4       en                                  United States   \n",
       "\n",
       "                                            Subjects      LoCC  \\\n",
       "0  United States -- History -- Revolution, 1775-1...  E201; JK   \n",
       "1  Civil rights -- United States -- Sources; Unit...    JK; KF   \n",
       "2  United States -- Foreign relations -- 1961-196...      E838   \n",
       "3  Consecration of cemeteries -- Pennsylvania -- ...      E456   \n",
       "4  United States -- Politics and government -- 17...    JK; KF   \n",
       "\n",
       "                                         Bookshelves  \n",
       "0  Politics; American Revolutionary War; United S...  \n",
       "1  Politics; American Revolutionary War; United S...  \n",
       "2   Browsing: History - American; Browsing: Politics  \n",
       "3  US Civil War; Browsing: History - American; Br...  \n",
       "4  United States; Politics; American Revolutionar...  "
      ]
     },
     "execution_count": 5,
     "metadata": {},
     "output_type": "execute_result"
    }
   ],
   "source": [
    "import csv\n",
    "from io import StringIO\n",
    "import pandas as pd\n",
    "\n",
    "books_info = pd.DataFrame(csv.DictReader(StringIO(csv_text)))\n",
    "books_info.head()"
   ]
  },
  {
   "cell_type": "code",
   "execution_count": 6,
   "metadata": {},
   "outputs": [
    {
     "data": {
      "text/plain": [
       "(74652, 9)"
      ]
     },
     "execution_count": 6,
     "metadata": {},
     "output_type": "execute_result"
    }
   ],
   "source": [
    "books_info.shape"
   ]
  },
  {
   "cell_type": "code",
   "execution_count": 7,
   "metadata": {},
   "outputs": [
    {
     "data": {
      "text/plain": [
       "35807"
      ]
     },
     "execution_count": 7,
     "metadata": {},
     "output_type": "execute_result"
    }
   ],
   "source": [
    "len(books_info['Authors'].unique())"
   ]
  },
  {
   "cell_type": "code",
   "execution_count": null,
   "metadata": {},
   "outputs": [
    {
     "data": {
      "text/html": [
       "<div>\n",
       "<style scoped>\n",
       "    .dataframe tbody tr th:only-of-type {\n",
       "        vertical-align: middle;\n",
       "    }\n",
       "\n",
       "    .dataframe tbody tr th {\n",
       "        vertical-align: top;\n",
       "    }\n",
       "\n",
       "    .dataframe thead th {\n",
       "        text-align: right;\n",
       "    }\n",
       "</style>\n",
       "<table border=\"1\" class=\"dataframe\">\n",
       "  <thead>\n",
       "    <tr style=\"text-align: right;\">\n",
       "      <th></th>\n",
       "      <th>Text#</th>\n",
       "      <th>Type</th>\n",
       "      <th>Issued</th>\n",
       "      <th>Title</th>\n",
       "      <th>Language</th>\n",
       "      <th>Authors</th>\n",
       "      <th>Subjects</th>\n",
       "      <th>LoCC</th>\n",
       "      <th>Bookshelves</th>\n",
       "      <th>Authors_parsed</th>\n",
       "    </tr>\n",
       "  </thead>\n",
       "  <tbody>\n",
       "    <tr>\n",
       "      <th>0</th>\n",
       "      <td>1</td>\n",
       "      <td>Text</td>\n",
       "      <td>1971-12-01</td>\n",
       "      <td>The Declaration of Independence of the United ...</td>\n",
       "      <td>en</td>\n",
       "      <td>Jefferson, Thomas, 1743-1826</td>\n",
       "      <td>United States -- History -- Revolution, 1775-1...</td>\n",
       "      <td>E201; JK</td>\n",
       "      <td>Politics; American Revolutionary War; United S...</td>\n",
       "      <td>Jefferson Thomas 1743-1826</td>\n",
       "    </tr>\n",
       "    <tr>\n",
       "      <th>1</th>\n",
       "      <td>2</td>\n",
       "      <td>Text</td>\n",
       "      <td>1972-12-01</td>\n",
       "      <td>The United States Bill of Rights\\r\\nThe Ten Or...</td>\n",
       "      <td>en</td>\n",
       "      <td>United States</td>\n",
       "      <td>Civil rights -- United States -- Sources; Unit...</td>\n",
       "      <td>JK; KF</td>\n",
       "      <td>Politics; American Revolutionary War; United S...</td>\n",
       "      <td>United States</td>\n",
       "    </tr>\n",
       "    <tr>\n",
       "      <th>2</th>\n",
       "      <td>3</td>\n",
       "      <td>Text</td>\n",
       "      <td>1973-11-01</td>\n",
       "      <td>John F. Kennedy's Inaugural Address</td>\n",
       "      <td>en</td>\n",
       "      <td>Kennedy, John F. (John Fitzgerald), 1917-1963</td>\n",
       "      <td>United States -- Foreign relations -- 1961-196...</td>\n",
       "      <td>E838</td>\n",
       "      <td>Browsing: History - American; Browsing: Politics</td>\n",
       "      <td>Kennedy John F. John Fitzgerald 1917-1963</td>\n",
       "    </tr>\n",
       "    <tr>\n",
       "      <th>3</th>\n",
       "      <td>4</td>\n",
       "      <td>Text</td>\n",
       "      <td>1973-11-01</td>\n",
       "      <td>Lincoln's Gettysburg Address\\r\\nGiven November...</td>\n",
       "      <td>en</td>\n",
       "      <td>Lincoln, Abraham, 1809-1865</td>\n",
       "      <td>Consecration of cemeteries -- Pennsylvania -- ...</td>\n",
       "      <td>E456</td>\n",
       "      <td>US Civil War; Browsing: History - American; Br...</td>\n",
       "      <td>Lincoln Abraham 1809-1865</td>\n",
       "    </tr>\n",
       "    <tr>\n",
       "      <th>4</th>\n",
       "      <td>5</td>\n",
       "      <td>Text</td>\n",
       "      <td>1975-12-01</td>\n",
       "      <td>The United States Constitution</td>\n",
       "      <td>en</td>\n",
       "      <td>United States</td>\n",
       "      <td>United States -- Politics and government -- 17...</td>\n",
       "      <td>JK; KF</td>\n",
       "      <td>United States; Politics; American Revolutionar...</td>\n",
       "      <td>United States</td>\n",
       "    </tr>\n",
       "  </tbody>\n",
       "</table>\n",
       "</div>"
      ],
      "text/plain": [
       "  Text#  Type      Issued                                              Title  \\\n",
       "0     1  Text  1971-12-01  The Declaration of Independence of the United ...   \n",
       "1     2  Text  1972-12-01  The United States Bill of Rights\\r\\nThe Ten Or...   \n",
       "2     3  Text  1973-11-01                John F. Kennedy's Inaugural Address   \n",
       "3     4  Text  1973-11-01  Lincoln's Gettysburg Address\\r\\nGiven November...   \n",
       "4     5  Text  1975-12-01                     The United States Constitution   \n",
       "\n",
       "  Language                                        Authors  \\\n",
       "0       en                   Jefferson, Thomas, 1743-1826   \n",
       "1       en                                  United States   \n",
       "2       en  Kennedy, John F. (John Fitzgerald), 1917-1963   \n",
       "3       en                    Lincoln, Abraham, 1809-1865   \n",
       "4       en                                  United States   \n",
       "\n",
       "                                            Subjects      LoCC  \\\n",
       "0  United States -- History -- Revolution, 1775-1...  E201; JK   \n",
       "1  Civil rights -- United States -- Sources; Unit...    JK; KF   \n",
       "2  United States -- Foreign relations -- 1961-196...      E838   \n",
       "3  Consecration of cemeteries -- Pennsylvania -- ...      E456   \n",
       "4  United States -- Politics and government -- 17...    JK; KF   \n",
       "\n",
       "                                         Bookshelves  \\\n",
       "0  Politics; American Revolutionary War; United S...   \n",
       "1  Politics; American Revolutionary War; United S...   \n",
       "2   Browsing: History - American; Browsing: Politics   \n",
       "3  US Civil War; Browsing: History - American; Br...   \n",
       "4  United States; Politics; American Revolutionar...   \n",
       "\n",
       "                              Authors_parsed  \n",
       "0                 Jefferson Thomas 1743-1826  \n",
       "1                              United States  \n",
       "2  Kennedy John F. John Fitzgerald 1917-1963  \n",
       "3                  Lincoln Abraham 1809-1865  \n",
       "4                              United States  "
      ]
     },
     "execution_count": 8,
     "metadata": {},
     "output_type": "execute_result"
    }
   ],
   "source": [
    "books_info['Authors_parsed'] = books_info['Authors'].apply(lambda x:\\\n",
    "                                                        x.replace(',', '').\\\n",
    "                                                        replace('(', '').\\\n",
    "                                                        replace(')', ''))\n",
    "books_info.head()"
   ]
  },
  {
   "cell_type": "code",
   "execution_count": 9,
   "metadata": {},
   "outputs": [
    {
     "data": {
      "text/plain": [
       "[('Booth', 'Tarkington'),\n",
       " ('Charles', 'Dickens'),\n",
       " ('Edith', 'Nesbit'),\n",
       " ('Arthur', 'Conan', 'Doyle'),\n",
       " ('Mark', 'Twain'),\n",
       " ('Sir', 'Richard', 'Francis', 'Burton'),\n",
       " ('Emile', 'Gaboriau')]"
      ]
     },
     "execution_count": 9,
     "metadata": {},
     "output_type": "execute_result"
    }
   ],
   "source": [
    "rel_authors = ['Booth Tarkington', 'Charles Dickens', 'Edith Nesbit', \n",
    "    'Arthur Conan Doyle', 'Mark Twain', 'Sir Richard Francis Burton', \n",
    "    'Emile Gaboriau']\n",
    "\n",
    "authors = [tuple(authors.split()) for authors in rel_authors]\n",
    "authors"
   ]
  },
  {
   "cell_type": "code",
   "execution_count": 10,
   "metadata": {},
   "outputs": [
    {
     "data": {
      "text/plain": [
       "[('Jefferson', 'Thomas', '1743-1826'), ('United', 'States')]"
      ]
     },
     "execution_count": 10,
     "metadata": {},
     "output_type": "execute_result"
    }
   ],
   "source": [
    "authors_to_check = books_info['Authors_parsed'].unique()\n",
    "authors_to_check = [tuple(authors.split()) for authors in authors_to_check]\n",
    "authors_to_check[:2]"
   ]
  },
  {
   "cell_type": "code",
   "execution_count": 11,
   "metadata": {},
   "outputs": [
    {
     "data": {
      "text/plain": [
       "{'Bland Rosamund E. Nesbit Rosamund Edith Nesbit 1886-1950; Hardy E. Stuart 1865-1935 [Illustrator]',\n",
       " 'Nesbit E. Edith 1858-1924',\n",
       " 'Nesbit E. Edith 1858-1924 [Editor]',\n",
       " 'Nesbit E. Edith 1858-1924; Barraud George [Illustrator]',\n",
       " 'Nesbit E. Edith 1858-1924; Birch Reginald Bathurst 1856-1943 [Illustrator]',\n",
       " 'Nesbit E. Edith 1858-1924; Bland Hubert 1856-1914',\n",
       " 'Nesbit E. Edith 1858-1924; Bowley May 1864-1960 [Illustrator]; Brundage Frances 1854-1937 [Illustrator]',\n",
       " 'Nesbit E. Edith 1858-1924; Brock C. E. Charles Edmund 1870-1938 [Illustrator]; Millar H. R. Harold Robert 1869-1942 [Illustrator]',\n",
       " 'Nesbit E. Edith 1858-1924; Brooke Caris 1844-1899; Smith H. Bellingham [Illustrator]',\n",
       " 'Nesbit E. Edith 1858-1924; Fell Herbert Granville 1872-1951 [Illustrator]; Millar H. R. Harold Robert 1869-1942 [Illustrator]',\n",
       " 'Nesbit E. Edith 1858-1924; Kemp-Welch Lucy 1869-1958 [Illustrator]',\n",
       " 'Nesbit E. Edith 1858-1924; Millar H. R. Harold Robert 1869-1942 [Illustrator]',\n",
       " 'Nesbit E. Edith 1858-1924; Millar H. R. Harold Robert 1869-1942 [Illustrator]; Pryse Gerald Spencer 1882-1956 [Illustrator]',\n",
       " 'Nesbit E. Edith 1858-1924; Millar H. R. Harold Robert 1869-1942 [Illustrator]; Shepperson Claude A. Claude Allin 1867-1921 [Illustrator]',\n",
       " 'Nesbit E. Edith 1858-1924; Shakespeare William 1564-1616',\n",
       " 'Thomas Charles Swain 1868-1943 [Editor]; Ashe Elizabeth; Butler Katharine; Canby Henry Seidel 1878-1961; Comer Cornelia A. P. Cornelia Atwood Pratt 1865-1929; Dobie Charles Caldwell 1881-1943; Doty Madeleine Z. Madeleine Zabriskie 1877-1963; Dwight H. G. Harrison Griswold 1875-1959; Galsworthy John 1867-1933; Gerould Katharine Fullerton 1879-1944; Humphrey Zephine 1874-1956; Lerner Mary; Louriet F. J.; Lucas E. V. Edward Verrall 1868-1938; Lynn Margaret; Mercer C. A.; Montague Margaret Prescott 1878-1955; Nesbit E. Edith 1858-1924; Sedgwick Anne Douglas 1873-1935; Sharp Dallas Lore 1870-1929; Sherwood Margaret Pollock 1864-1955; Starr Ernest; Stone Amy Wentworth; Taylor Arthur Russell'}"
      ]
     },
     "execution_count": 11,
     "metadata": {},
     "output_type": "execute_result"
    }
   ],
   "source": [
    "from collections import defaultdict\n",
    "\n",
    "authors_to_keep = defaultdict(set)\n",
    "authors_to_keep_for_df = []\n",
    "for author_to_check in authors_to_check:\n",
    "    for author in authors:\n",
    "        if set(author).issubset(set(author_to_check)):\n",
    "            authors_to_keep[author].add(' '.join(author_to_check))\n",
    "            authors_to_keep_for_df.append( ' '.join(author_to_check))\n",
    "\n",
    "\n",
    "authors_to_keep[('Edith', 'Nesbit')]"
   ]
  },
  {
   "cell_type": "code",
   "execution_count": 12,
   "metadata": {},
   "outputs": [
    {
     "data": {
      "text/plain": [
       "167"
      ]
     },
     "execution_count": 12,
     "metadata": {},
     "output_type": "execute_result"
    }
   ],
   "source": [
    "len(authors_to_keep_for_df)"
   ]
  },
  {
   "cell_type": "code",
   "execution_count": 13,
   "metadata": {},
   "outputs": [
    {
     "data": {
      "text/plain": [
       "(787, 10)"
      ]
     },
     "execution_count": 13,
     "metadata": {},
     "output_type": "execute_result"
    }
   ],
   "source": [
    "books_for_training = books_info[books_info['Authors_parsed'].isin(authors_to_keep_for_df)]\n",
    "books_for_training.shape"
   ]
  },
  {
   "cell_type": "code",
   "execution_count": 14,
   "metadata": {},
   "outputs": [
    {
     "data": {
      "text/html": [
       "<div>\n",
       "<style scoped>\n",
       "    .dataframe tbody tr th:only-of-type {\n",
       "        vertical-align: middle;\n",
       "    }\n",
       "\n",
       "    .dataframe tbody tr th {\n",
       "        vertical-align: top;\n",
       "    }\n",
       "\n",
       "    .dataframe thead th {\n",
       "        text-align: right;\n",
       "    }\n",
       "</style>\n",
       "<table border=\"1\" class=\"dataframe\">\n",
       "  <thead>\n",
       "    <tr style=\"text-align: right;\">\n",
       "      <th></th>\n",
       "      <th>Text#</th>\n",
       "      <th>Type</th>\n",
       "      <th>Issued</th>\n",
       "      <th>Title</th>\n",
       "      <th>Language</th>\n",
       "      <th>Authors</th>\n",
       "      <th>Subjects</th>\n",
       "      <th>LoCC</th>\n",
       "      <th>Bookshelves</th>\n",
       "      <th>Authors_parsed</th>\n",
       "    </tr>\n",
       "  </thead>\n",
       "  <tbody>\n",
       "    <tr>\n",
       "      <th>45</th>\n",
       "      <td>46</td>\n",
       "      <td>Text</td>\n",
       "      <td>2004-08-11</td>\n",
       "      <td>A Christmas Carol in Prose; Being a Ghost Stor...</td>\n",
       "      <td>en</td>\n",
       "      <td>Dickens, Charles, 1812-1870; Leech, John, 1817...</td>\n",
       "      <td>Christmas stories; London (England) -- Fiction...</td>\n",
       "      <td>PR</td>\n",
       "      <td>Children's Literature; Christmas; Browsing: Ch...</td>\n",
       "      <td>Dickens Charles 1812-1870; Leech John 1817-186...</td>\n",
       "    </tr>\n",
       "    <tr>\n",
       "      <th>69</th>\n",
       "      <td>70</td>\n",
       "      <td>Text</td>\n",
       "      <td>2004-09-13</td>\n",
       "      <td>What Is Man? and Other Essays</td>\n",
       "      <td>en</td>\n",
       "      <td>Twain, Mark, 1835-1910</td>\n",
       "      <td>American essays</td>\n",
       "      <td>PS</td>\n",
       "      <td>Browsing: History - American; Browsing: Litera...</td>\n",
       "      <td>Twain Mark 1835-1910</td>\n",
       "    </tr>\n",
       "    <tr>\n",
       "      <th>73</th>\n",
       "      <td>74</td>\n",
       "      <td>Text</td>\n",
       "      <td>2004-07-01</td>\n",
       "      <td>The Adventures of Tom Sawyer, Complete</td>\n",
       "      <td>en</td>\n",
       "      <td>Twain, Mark, 1835-1910</td>\n",
       "      <td>Humorous stories; Bildungsromans; Boys -- Fict...</td>\n",
       "      <td>PS</td>\n",
       "      <td>Banned Books from Anne Haight's list; Banned B...</td>\n",
       "      <td>Twain Mark 1835-1910</td>\n",
       "    </tr>\n",
       "    <tr>\n",
       "      <th>75</th>\n",
       "      <td>76</td>\n",
       "      <td>Text</td>\n",
       "      <td>2004-06-29</td>\n",
       "      <td>Adventures of Huckleberry Finn</td>\n",
       "      <td>en</td>\n",
       "      <td>Twain, Mark, 1835-1910; Kemble, E. W. (Edward ...</td>\n",
       "      <td>Humorous stories; Bildungsromans; Boys -- Fict...</td>\n",
       "      <td>PS</td>\n",
       "      <td>Best Books Ever Listings; Banned Books from An...</td>\n",
       "      <td>Twain Mark 1835-1910; Kemble E. W. Edward Wind...</td>\n",
       "    </tr>\n",
       "    <tr>\n",
       "      <th>85</th>\n",
       "      <td>86</td>\n",
       "      <td>Text</td>\n",
       "      <td>2004-07-07</td>\n",
       "      <td>A Connecticut Yankee in King Arthur's Court</td>\n",
       "      <td>en</td>\n",
       "      <td>Twain, Mark, 1835-1910</td>\n",
       "      <td>Fantasy fiction; Satire; Knights and knighthoo...</td>\n",
       "      <td>PS</td>\n",
       "      <td>Precursors of Science Fiction; Arthurian Legen...</td>\n",
       "      <td>Twain Mark 1835-1910</td>\n",
       "    </tr>\n",
       "  </tbody>\n",
       "</table>\n",
       "</div>"
      ],
      "text/plain": [
       "   Text#  Type      Issued                                              Title  \\\n",
       "45    46  Text  2004-08-11  A Christmas Carol in Prose; Being a Ghost Stor...   \n",
       "69    70  Text  2004-09-13                      What Is Man? and Other Essays   \n",
       "73    74  Text  2004-07-01             The Adventures of Tom Sawyer, Complete   \n",
       "75    76  Text  2004-06-29                     Adventures of Huckleberry Finn   \n",
       "85    86  Text  2004-07-07        A Connecticut Yankee in King Arthur's Court   \n",
       "\n",
       "   Language                                            Authors  \\\n",
       "45       en  Dickens, Charles, 1812-1870; Leech, John, 1817...   \n",
       "69       en                             Twain, Mark, 1835-1910   \n",
       "73       en                             Twain, Mark, 1835-1910   \n",
       "75       en  Twain, Mark, 1835-1910; Kemble, E. W. (Edward ...   \n",
       "85       en                             Twain, Mark, 1835-1910   \n",
       "\n",
       "                                             Subjects LoCC  \\\n",
       "45  Christmas stories; London (England) -- Fiction...   PR   \n",
       "69                                    American essays   PS   \n",
       "73  Humorous stories; Bildungsromans; Boys -- Fict...   PS   \n",
       "75  Humorous stories; Bildungsromans; Boys -- Fict...   PS   \n",
       "85  Fantasy fiction; Satire; Knights and knighthoo...   PS   \n",
       "\n",
       "                                          Bookshelves  \\\n",
       "45  Children's Literature; Christmas; Browsing: Ch...   \n",
       "69  Browsing: History - American; Browsing: Litera...   \n",
       "73  Banned Books from Anne Haight's list; Banned B...   \n",
       "75  Best Books Ever Listings; Banned Books from An...   \n",
       "85  Precursors of Science Fiction; Arthurian Legen...   \n",
       "\n",
       "                                       Authors_parsed  \n",
       "45  Dickens Charles 1812-1870; Leech John 1817-186...  \n",
       "69                               Twain Mark 1835-1910  \n",
       "73                               Twain Mark 1835-1910  \n",
       "75  Twain Mark 1835-1910; Kemble E. W. Edward Wind...  \n",
       "85                               Twain Mark 1835-1910  "
      ]
     },
     "execution_count": 14,
     "metadata": {},
     "output_type": "execute_result"
    }
   ],
   "source": [
    "books_for_training.head()"
   ]
  },
  {
   "cell_type": "code",
   "execution_count": 15,
   "metadata": {},
   "outputs": [
    {
     "name": "stdout",
     "output_type": "stream",
     "text": [
      "<!DOCTYPE HTML PUBLIC \"-//W3C//DTD HTML 4.01//EN\" \"http://www.w3.org/TR/html4/strict.dtd\">\n",
      "\n",
      "<html lang=\"en\">\n",
      "  <head>\n",
      "    <meta http-equiv=\"Content-Type\" content=\"text/html; charset=UTF-8\">\n",
      "    <title>All Files (offset: 0, filetypes: txt) - Project Gutenberg</title>\n",
      "  </head>\n",
      "  <body>\n",
      "    <h1>All Files (offset: 0, filetypes: txt)</h1>    <p><a href=\"http://aleph.gutenberg.org/1/2/3/7/12370/12370-8.zip\">http://aleph.gutenberg.org/1/2/3/7/12370/12370-8.zip</a></p>\n",
      "\n",
      "    <p><a href=\"http://aleph.gutenberg.org/1/2/3/7/12370/12370.zip\">http://aleph.gutenberg.org/1/2/3/7/12370/12370.zip</a></p>\n",
      "\n",
      "    <p><a href=\"http://aleph.gutenberg.org/1/2/3/7/12372/12372-8.zip\">http://aleph.gutenberg.org/1/2/3/7/12372/12372-8.zip</a></p>\n",
      "\n",
      "    <p><a href=\"http://aleph.gutenberg.org/1/2/3/7/12372/12372.zip\">http://aleph.gutenberg.org/1/2/3/7/12372/12372.zip</a></p>\n",
      "\n",
      "    <p><a href=\"http://aleph.gutenberg.org/1/2/3/7/12373/12373-8.zip\">http://aleph.gutenberg.org/1/2/3/7/12373/12373-8.zip</a></p>\n",
      "\n",
      "    <p><a hr\n"
     ]
    }
   ],
   "source": [
    "GUTENBERG_TEXT_URL = \"https://www.gutenberg.org/ebooks/{id}.txt.utf-8\"\n",
    "\n",
    "book_id = books_for_training.iloc[0][\"Text#\"]\n",
    "\n",
    "# r = requests.get(GUTENBERG_TEXT_URL.format(id=book_id))\n",
    "# text = r.text\n",
    "\n",
    "GUTENBERG_ROBOT_URL = \"https://www.gutenberg.org/robot/harvest?filetypes[]=txt\"\n",
    "r = requests.get(GUTENBERG_ROBOT_URL)\n",
    "\n",
    "print(r.text[:1000])"
   ]
  },
  {
   "cell_type": "code",
   "execution_count": 16,
   "metadata": {},
   "outputs": [
    {
     "data": {
      "text/plain": [
       "'http://aleph.gutenberg.org'"
      ]
     },
     "execution_count": 16,
     "metadata": {},
     "output_type": "execute_result"
    }
   ],
   "source": [
    "import re\n",
    "\n",
    "GUTENBERG_MIRROR = re.search('(https?://[^/]+)[^\"]*.zip', r.text).group(1)\n",
    "GUTENBERG_MIRROR"
   ]
  },
  {
   "cell_type": "code",
   "execution_count": 17,
   "metadata": {},
   "outputs": [
    {
     "data": {
      "text/plain": [
       "['http://aleph.gutenberg.org/4/46/46.zip',\n",
       " 'http://aleph.gutenberg.org/4/46/46-8.zip',\n",
       " 'http://aleph.gutenberg.org/4/46/46-0.zip']"
      ]
     },
     "execution_count": 17,
     "metadata": {},
     "output_type": "execute_result"
    }
   ],
   "source": [
    "def gutenberg_text_urls(id: str, mirror=GUTENBERG_MIRROR, suffixes=(\"\", \"-8\", \"-0\")):\n",
    "    path = \"/\".join(id[:-1]) or \"0\"\n",
    "    return [f\"{mirror}/{path}/{id}/{id}{suffix}.zip\" for suffix in suffixes]\n",
    "\n",
    "gutenberg_text_urls(book_id) "
   ]
  },
  {
   "cell_type": "code",
   "execution_count": 18,
   "metadata": {},
   "outputs": [],
   "source": [
    "import logging\n",
    "import zipfile\n",
    "\n",
    "def download_gutenberg(id):\n",
    "    for url in gutenberg_text_urls(id):\n",
    "        r = requests.get(url)\n",
    "        if r.status_code == 404:\n",
    "            logging.warning(f\"404 for {url}\")\n",
    "            continue\n",
    "        r.raise_for_status()\n",
    "        break\n",
    "    \n",
    "    z = zipfile.ZipFile(BytesIO(r.content))\n",
    "    \n",
    "    if len(z.namelist()) != 1:\n",
    "        raise Exception(f\"Expected 1 file in {z.namelist()}\")\n",
    "        \n",
    "    return z.read(z.namelist()[0]).decode('utf-8')"
   ]
  },
  {
   "cell_type": "code",
   "execution_count": 19,
   "metadata": {},
   "outputs": [
    {
     "name": "stderr",
     "output_type": "stream",
     "text": [
      "WARNING:root:404 for http://aleph.gutenberg.org/4/46/46.zip\n",
      "WARNING:root:404 for http://aleph.gutenberg.org/4/46/46-8.zip\n",
      "WARNING:root:404 for http://aleph.gutenberg.org/4/46/46-0.zip\n"
     ]
    },
    {
     "ename": "BadZipFile",
     "evalue": "File is not a zip file",
     "output_type": "error",
     "traceback": [
      "\u001b[0;31m---------------------------------------------------------------------------\u001b[0m",
      "\u001b[0;31mBadZipFile\u001b[0m                                Traceback (most recent call last)",
      "\u001b[0;32m/var/folders/yc/b0_qh6xx67scyz1s3xhmn12m0000gn/T/ipykernel_54271/3612783911.py\u001b[0m in \u001b[0;36m<module>\u001b[0;34m\u001b[0m\n\u001b[0;32m----> 1\u001b[0;31m \u001b[0mtext\u001b[0m \u001b[0;34m=\u001b[0m \u001b[0mdownload_gutenberg\u001b[0m\u001b[0;34m(\u001b[0m\u001b[0mbook_id\u001b[0m\u001b[0;34m)\u001b[0m\u001b[0;34m\u001b[0m\u001b[0m\n\u001b[0m\u001b[1;32m      2\u001b[0m \u001b[0;34m\u001b[0m\u001b[0m\n\u001b[1;32m      3\u001b[0m \u001b[0mprint\u001b[0m\u001b[0;34m(\u001b[0m\u001b[0mtext\u001b[0m\u001b[0;34m[\u001b[0m\u001b[0;34m:\u001b[0m\u001b[0;36m1500\u001b[0m\u001b[0;34m]\u001b[0m\u001b[0;34m)\u001b[0m\u001b[0;34m\u001b[0m\u001b[0m\n",
      "\u001b[0;32m/var/folders/yc/b0_qh6xx67scyz1s3xhmn12m0000gn/T/ipykernel_54271/2260824451.py\u001b[0m in \u001b[0;36mdownload_gutenberg\u001b[0;34m(id)\u001b[0m\n\u001b[1;32m     11\u001b[0m         \u001b[0;32mbreak\u001b[0m\u001b[0;34m\u001b[0m\u001b[0m\n\u001b[1;32m     12\u001b[0m \u001b[0;34m\u001b[0m\u001b[0m\n\u001b[0;32m---> 13\u001b[0;31m     \u001b[0mz\u001b[0m \u001b[0;34m=\u001b[0m \u001b[0mzipfile\u001b[0m\u001b[0;34m.\u001b[0m\u001b[0mZipFile\u001b[0m\u001b[0;34m(\u001b[0m\u001b[0mBytesIO\u001b[0m\u001b[0;34m(\u001b[0m\u001b[0mr\u001b[0m\u001b[0;34m.\u001b[0m\u001b[0mcontent\u001b[0m\u001b[0;34m)\u001b[0m\u001b[0;34m)\u001b[0m\u001b[0;34m\u001b[0m\u001b[0m\n\u001b[0m\u001b[1;32m     14\u001b[0m \u001b[0;34m\u001b[0m\u001b[0m\n\u001b[1;32m     15\u001b[0m     \u001b[0;32mif\u001b[0m \u001b[0mlen\u001b[0m\u001b[0;34m(\u001b[0m\u001b[0mz\u001b[0m\u001b[0;34m.\u001b[0m\u001b[0mnamelist\u001b[0m\u001b[0;34m(\u001b[0m\u001b[0;34m)\u001b[0m\u001b[0;34m)\u001b[0m \u001b[0;34m!=\u001b[0m \u001b[0;36m1\u001b[0m\u001b[0;34m:\u001b[0m\u001b[0;34m\u001b[0m\u001b[0m\n",
      "\u001b[0;32m/Library/Frameworks/Python.framework/Versions/3.7/lib/python3.7/zipfile.py\u001b[0m in \u001b[0;36m__init__\u001b[0;34m(self, file, mode, compression, allowZip64, compresslevel)\u001b[0m\n\u001b[1;32m   1198\u001b[0m         \u001b[0;32mtry\u001b[0m\u001b[0;34m:\u001b[0m\u001b[0;34m\u001b[0m\u001b[0m\n\u001b[1;32m   1199\u001b[0m             \u001b[0;32mif\u001b[0m \u001b[0mmode\u001b[0m \u001b[0;34m==\u001b[0m \u001b[0;34m'r'\u001b[0m\u001b[0;34m:\u001b[0m\u001b[0;34m\u001b[0m\u001b[0m\n\u001b[0;32m-> 1200\u001b[0;31m                 \u001b[0mself\u001b[0m\u001b[0;34m.\u001b[0m\u001b[0m_RealGetContents\u001b[0m\u001b[0;34m(\u001b[0m\u001b[0;34m)\u001b[0m\u001b[0;34m\u001b[0m\u001b[0m\n\u001b[0m\u001b[1;32m   1201\u001b[0m             \u001b[0;32melif\u001b[0m \u001b[0mmode\u001b[0m \u001b[0;32min\u001b[0m \u001b[0;34m(\u001b[0m\u001b[0;34m'w'\u001b[0m\u001b[0;34m,\u001b[0m \u001b[0;34m'x'\u001b[0m\u001b[0;34m)\u001b[0m\u001b[0;34m:\u001b[0m\u001b[0;34m\u001b[0m\u001b[0m\n\u001b[1;32m   1202\u001b[0m                 \u001b[0;31m# set the modified flag so central directory gets written\u001b[0m\u001b[0;34m\u001b[0m\u001b[0;34m\u001b[0m\u001b[0m\n",
      "\u001b[0;32m/Library/Frameworks/Python.framework/Versions/3.7/lib/python3.7/zipfile.py\u001b[0m in \u001b[0;36m_RealGetContents\u001b[0;34m(self)\u001b[0m\n\u001b[1;32m   1265\u001b[0m             \u001b[0;32mraise\u001b[0m \u001b[0mBadZipFile\u001b[0m\u001b[0;34m(\u001b[0m\u001b[0;34m\"File is not a zip file\"\u001b[0m\u001b[0;34m)\u001b[0m\u001b[0;34m\u001b[0m\u001b[0m\n\u001b[1;32m   1266\u001b[0m         \u001b[0;32mif\u001b[0m \u001b[0;32mnot\u001b[0m \u001b[0mendrec\u001b[0m\u001b[0;34m:\u001b[0m\u001b[0;34m\u001b[0m\u001b[0m\n\u001b[0;32m-> 1267\u001b[0;31m             \u001b[0;32mraise\u001b[0m \u001b[0mBadZipFile\u001b[0m\u001b[0;34m(\u001b[0m\u001b[0;34m\"File is not a zip file\"\u001b[0m\u001b[0;34m)\u001b[0m\u001b[0;34m\u001b[0m\u001b[0m\n\u001b[0m\u001b[1;32m   1268\u001b[0m         \u001b[0;32mif\u001b[0m \u001b[0mself\u001b[0m\u001b[0;34m.\u001b[0m\u001b[0mdebug\u001b[0m \u001b[0;34m>\u001b[0m \u001b[0;36m1\u001b[0m\u001b[0;34m:\u001b[0m\u001b[0;34m\u001b[0m\u001b[0m\n\u001b[1;32m   1269\u001b[0m             \u001b[0mprint\u001b[0m\u001b[0;34m(\u001b[0m\u001b[0mendrec\u001b[0m\u001b[0;34m)\u001b[0m\u001b[0;34m\u001b[0m\u001b[0m\n",
      "\u001b[0;31mBadZipFile\u001b[0m: File is not a zip file"
     ]
    }
   ],
   "source": [
    "text = download_gutenberg(book_id)\n",
    "\n",
    "print(text[:1500])"
   ]
  },
  {
   "cell_type": "code",
   "execution_count": null,
   "metadata": {},
   "outputs": [],
   "source": [
    "import os\n",
    "import sys\n",
    "data_folder = os.path.join(os.path.expanduser(\"~\"), \"data\", \"books\")"
   ]
  },
  {
   "cell_type": "code",
   "execution_count": null,
   "metadata": {},
   "outputs": [],
   "source": [
    "from nltk.corpus import gutenberg\n",
    "\n",
    "# List of available books\n",
    "print(gutenberg.fileids())\n",
    "\n",
    "# Access a specific book\n",
    "book_id = \"austen-persuasion.txt\"\n",
    "text = gutenberg.raw(book_id)\n",
    "\n",
    "# Print the first few lines of the book\n",
    "print(len(text))\n"
   ]
  },
  {
   "cell_type": "code",
   "execution_count": null,
   "metadata": {},
   "outputs": [],
   "source": [
    "# %load getdata.py\n",
    "# Downloads the books and stores them in the below folder\n",
    "import os\n",
    "from time import sleep\n",
    "import urllib.request\n",
    "\n",
    "titles = {}\n",
    "\n",
    "\n",
    "titles['burton'] = [4657, 2400, 5760, 6036, 7111, 8821,\n",
    "                    18506, 4658, 5761, 6886, 7113]\n",
    "titles['dickens'] = [24022, 1392, 1414, 1467, 2324, 580,\n",
    "                     786, 888, 963, 27924, 1394, 1415, 15618,\n",
    "                     25985, 588, 807, 914, 967, 30127, 1400,\n",
    "                     1421, 16023, 28198, 644, 809, 917, 968, 1023,\n",
    "                     1406, 1422, 17879, 30368, 675, 810, 924, 98,\n",
    "                     1289, 1413, 1423, 17880, 32241, 699, 821, 927]\n",
    "titles['doyle'] = [2349, 11656, 1644, 22357, 2347, 290, 34627, 5148,\n",
    "                   8394, 26153, 12555, 1661, 23059, 2348, 294, 355,\n",
    "                   5260, 8727, 10446, 126, 17398, 2343, 2350, 3070,\n",
    "                   356, 5317, 903, 10581, 13152, 2038, 2344, 244, 32536,\n",
    "                   423, 537, 108, 139, 2097, 2345, 24951, 32777, 4295,\n",
    "                   7964, 11413, 1638, 21768, 2346, 2845, 3289, 439, 834]\n",
    "titles['gaboriau'] = [1748, 1651, 2736, 3336, 4604, 4002, 2451,\n",
    "                      305, 3802, 547]\n",
    "titles['nesbit'] = [34219, 23661, 28804, 4378, 778, 20404, 28725,\n",
    "                    33028, 4513, 794]\n",
    "titles['tarkington'] = [1098, 15855, 1983, 297, 402, 5798,\n",
    "                        8740, 980, 1158, 1611, 2326, 30092,\n",
    "                        483, 5949, 8867, 13275, 18259, 2595,\n",
    "                        3428, 5756, 6401, 9659]\n",
    "titles['twain'] = [1044, 1213, 245, 30092, 3176, 3179, 3183, 3189, 74,\n",
    "                   86, 1086, 142, 2572, 3173, 3177, 3180, 3186, 3192,\n",
    "                   76, 91, 119, 1837, 2895, 3174, 3178, 3181, 3187, 3432,\n",
    "                   8525]\n",
    "\n",
    "\n",
    "\n",
    "assert len(titles) == 7\n",
    "assert len(titles['tarkington']) == 22\n",
    "assert len(titles['dickens']) == 44\n",
    "assert len(titles['nesbit']) == 10\n",
    "assert len(titles['doyle']) == 51\n",
    "assert len(titles['twain']) == 29\n",
    "assert len(titles['burton']) == 11\n",
    "assert len(titles['gaboriau']) == 10\n",
    "\n",
    "\n",
    "url_base = \"https://www.gutenberg.myebook.bg/\"\n",
    "url_format = \"{url_base}{idstring}/{id}/{id}.txt\"\n",
    "\n",
    "fixes = {}\n",
    "fixes[1044] = url_base + \"1/0/4/1044/1044-0.txt\"\n",
    "fixes[5148] = url_base + \"5/1/4/5148/5148-0.txt\"\n",
    "fixes[4657] = \"https://archive.org/stream/personalnarrativ04657gut/pnpa110.txt\"\n",
    "fixes[1467] = \"https://archive.org/stream/somechristmassto01467gut/cdscs10p_djvu.txt\"\n",
    "\n",
    "# Make parent folder if not exists\n",
    "data_folder = \"books\"\n",
    "if not os.path.exists(data_folder):\n",
    "    os.makedirs(data_folder)\n",
    "\n",
    "for author in titles:\n",
    "    print(f\"Downloading titles from {author}\")\n",
    "    # Make author's folder if not exists\n",
    "    author_folder = os.path.join(data_folder, author)\n",
    "    if not os.path.exists(author_folder):\n",
    "        os.makedirs(author_folder)\n",
    "    \n",
    "    # Download each title to this folder\n",
    "    for bookid in titles[author]:\n",
    "        try:\n",
    "            print(f\" - Getting book with id {bookid}\")\n",
    "            idstring = \"/\".join([str(bookid)[i] for i in range(len(str(bookid))-1)])\n",
    "            url = url_format.format(url_base=url_base, idstring=idstring, id=bookid)\n",
    "            \n",
    "            filename = os.path.join(author_folder, f\"{bookid}.txt\")\n",
    "            if os.path.exists(filename):\n",
    "                print(f\" - File already exists, skipping\")\n",
    "            else:\n",
    "                urllib.request.urlretrieve(url, filename)\n",
    "                sleep(60*5)\n",
    "        except Exception as e:\n",
    "            print(f\"Error downloading book {bookid}: {str(e)}\")\n",
    "\n",
    "print(\"Download complete\")"
   ]
  },
  {
   "cell_type": "code",
   "execution_count": null,
   "metadata": {},
   "outputs": [],
   "source": [
    "def clean_book(document):\n",
    "    lines = document.split(\"\\n\")\n",
    "    start= 0\n",
    "    end = len(lines)\n",
    "    for i in range(len(lines)):\n",
    "        line = lines[i]\n",
    "        if line.startswith(\"*** START OF THIS PROJECT GUTENBERG\"):\n",
    "            start = i + 1\n",
    "        elif line.startswith(\"*** END OF THIS PROJECT GUTENBERG\"):\n",
    "            end = i - 1\n",
    "    return \"\\n\".join(lines[start:end])"
   ]
  },
  {
   "cell_type": "code",
   "execution_count": null,
   "metadata": {},
   "outputs": [],
   "source": [
    "import numpy as np\n",
    "\n",
    "def load_books_data(folder=data_folder):\n",
    "    documents = []\n",
    "    authors = []\n",
    "    subfolders = [subfolder for subfolder in os.listdir(folder)\n",
    "                  if os.path.isdir(os.path.join(folder, subfolder))]\n",
    "    for author_number, subfolder in enumerate(subfolders):\n",
    "        full_subfolder_path = os.path.join(folder, subfolder)\n",
    "        for document_name in os.listdir(full_subfolder_path):\n",
    "            with open(os.path.join(full_subfolder_path, document_name)) as inf:\n",
    "                documents.append(clean_book(inf.read()))\n",
    "                authors.append(author_number)\n",
    "    return documents, np.array(authors, dtype='int')"
   ]
  },
  {
   "cell_type": "code",
   "execution_count": null,
   "metadata": {},
   "outputs": [],
   "source": [
    "documents, classes = load_books_data(data_folder)"
   ]
  },
  {
   "cell_type": "code",
   "execution_count": null,
   "metadata": {},
   "outputs": [],
   "source": [
    "function_words = [\"a\", \"able\", \"aboard\", \"about\", \"above\", \"absent\",\n",
    "                  \"according\" , \"accordingly\", \"across\", \"after\", \"against\",\n",
    "                  \"ahead\", \"albeit\", \"all\", \"along\", \"alongside\", \"although\",\n",
    "                  \"am\", \"amid\", \"amidst\", \"among\", \"amongst\", \"amount\", \"an\",\n",
    "                    \"and\", \"another\", \"anti\", \"any\", \"anybody\", \"anyone\",\n",
    "                    \"anything\", \"are\", \"around\", \"as\", \"aside\", \"astraddle\",\n",
    "                    \"astride\", \"at\", \"away\", \"bar\", \"barring\", \"be\", \"because\",\n",
    "                    \"been\", \"before\", \"behind\", \"being\", \"below\", \"beneath\",\n",
    "                    \"beside\", \"besides\", \"better\", \"between\", \"beyond\", \"bit\",\n",
    "                    \"both\", \"but\", \"by\", \"can\", \"certain\", \"circa\", \"close\",\n",
    "                    \"concerning\", \"consequently\", \"considering\", \"could\",\n",
    "                    \"couple\", \"dare\", \"deal\", \"despite\", \"down\", \"due\", \"during\",\n",
    "                    \"each\", \"eight\", \"eighth\", \"either\", \"enough\", \"every\",\n",
    "                    \"everybody\", \"everyone\", \"everything\", \"except\", \"excepting\",\n",
    "                    \"excluding\", \"failing\", \"few\", \"fewer\", \"fifth\", \"first\",\n",
    "                    \"five\", \"following\", \"for\", \"four\", \"fourth\", \"from\", \"front\",\n",
    "                    \"given\", \"good\", \"great\", \"had\", \"half\", \"have\", \"he\",\n",
    "                    \"heaps\", \"hence\", \"her\", \"hers\", \"herself\", \"him\", \"himself\",\n",
    "                    \"his\", \"however\", \"i\", \"if\", \"in\", \"including\", \"inside\",\n",
    "                    \"instead\", \"into\", \"is\", \"it\", \"its\", \"itself\", \"keeping\",\n",
    "                    \"lack\", \"less\", \"like\", \"little\", \"loads\", \"lots\", \"majority\",\n",
    "                    \"many\", \"masses\", \"may\", \"me\", \"might\", \"mine\", \"minority\",\n",
    "                    \"minus\", \"more\", \"most\", \"much\", \"must\", \"my\", \"myself\",\n",
    "                    \"near\", \"need\", \"neither\", \"nevertheless\", \"next\", \"nine\",\n",
    "                    \"ninth\", \"no\", \"nobody\", \"none\", \"nor\", \"nothing\",\n",
    "                    \"notwithstanding\", \"number\", \"numbers\", \"of\", \"off\", \"on\",\n",
    "                    \"once\", \"one\", \"onto\", \"opposite\", \"or\", \"other\", \"ought\",\n",
    "                    \"our\", \"ours\", \"ourselves\", \"out\", \"outside\", \"over\", \"part\",\n",
    "                    \"past\", \"pending\", \"per\", \"pertaining\", \"place\", \"plenty\",\n",
    "                    \"plethora\", \"plus\", \"quantities\", \"quantity\", \"quarter\",\n",
    "                    \"regarding\", \"remainder\", \"respecting\", \"rest\", \"round\",\n",
    "                    \"save\", \"saving\", \"second\", \"seven\", \"seventh\", \"several\",\n",
    "                    \"shall\", \"she\", \"should\", \"similar\", \"since\", \"six\", \"sixth\",\n",
    "                    \"so\", \"some\", \"somebody\", \"someone\", \"something\", \"spite\",\n",
    "                    \"such\", \"ten\", \"tenth\", \"than\", \"thanks\", \"that\", \"the\",\n",
    "                    \"their\", \"theirs\", \"them\", \"themselves\", \"then\", \"thence\",\n",
    "                  \"therefore\", \"these\", \"they\", \"third\", \"this\", \"those\",\n",
    "\"though\", \"three\", \"through\", \"throughout\", \"thru\", \"thus\",\n",
    "\"till\", \"time\", \"to\", \"tons\", \"top\", \"toward\", \"towards\",\n",
    "\"two\", \"under\", \"underneath\", \"unless\", \"unlike\", \"until\",\n",
    "\"unto\", \"up\", \"upon\", \"us\", \"used\", \"various\", \"versus\",\n",
    "\"via\", \"view\", \"wanting\", \"was\", \"we\", \"were\", \"what\",\n",
    "\"whatever\", \"when\", \"whenever\", \"where\", \"whereas\",\n",
    "\"wherever\", \"whether\", \"which\", \"whichever\", \"while\",\n",
    "                  \"whilst\", \"who\", \"whoever\", \"whole\", \"whom\", \"whomever\",\n",
    "\"whose\", \"will\", \"with\", \"within\", \"without\", \"would\", \"yet\",\n",
    "\"you\", \"your\", \"yours\", \"yourself\", \"yourselves\"]"
   ]
  },
  {
   "cell_type": "code",
   "execution_count": null,
   "metadata": {},
   "outputs": [],
   "source": [
    "from sklearn.feature_extraction.text import CountVectorizer\n",
    "extractor = CountVectorizer(vocabulary=function_words)"
   ]
  },
  {
   "cell_type": "code",
   "execution_count": null,
   "metadata": {},
   "outputs": [],
   "source": [
    "\n",
    "from sklearn.svm import SVC\n",
    "from sklearn.model_selection import cross_val_score\n",
    "from sklearn.pipeline import Pipeline\n",
    "from sklearn import grid_search"
   ]
  },
  {
   "cell_type": "code",
   "execution_count": null,
   "metadata": {},
   "outputs": [],
   "source": [
    "\n",
    "parameters = {'kernel':('linear', 'rbf'), 'C':[1, 10]}\n",
    "svr = SVC()\n",
    "grid = grid_search.GridSearchCV(svr, parameters)"
   ]
  },
  {
   "cell_type": "code",
   "execution_count": null,
   "metadata": {},
   "outputs": [],
   "source": [
    "pipeline1 = Pipeline([('feature_extraction', extractor),\n",
    "                      ('clf', grid)])"
   ]
  },
  {
   "cell_type": "code",
   "execution_count": null,
   "metadata": {},
   "outputs": [],
   "source": [
    "scores = cross_val_score(pipeline1, documents, classes,\n",
    "scoring='f1')"
   ]
  },
  {
   "cell_type": "code",
   "execution_count": null,
   "metadata": {},
   "outputs": [],
   "source": [
    "print(np.mean(scores))"
   ]
  },
  {
   "cell_type": "code",
   "execution_count": null,
   "metadata": {},
   "outputs": [],
   "source": [
    "pipeline = Pipeline([('feature_extraction',\n",
    "CountVectorizer(analyzer='char', ngram_range=(3, 3))),\n",
    "('classifier', grid)\n",
    "])\n",
    "scores = cross_val_score(pipeline, documents, classes,\n",
    "scoring='f1')\n",
    "print(\"Score: {:.3f}\".format(np.mean(scores)))"
   ]
  },
  {
   "cell_type": "code",
   "execution_count": null,
   "metadata": {},
   "outputs": [],
   "source": [
    "enron_data_folder = os.path.join(os.path.expanduser(\"~\"), \"Data\",\n",
    "\"enron_mail_20110402\", \"maildir\")"
   ]
  },
  {
   "cell_type": "code",
   "execution_count": null,
   "metadata": {},
   "outputs": [],
   "source": [
    "\n",
    "from email.parser import Parser\n",
    "p = Parser()"
   ]
  },
  {
   "cell_type": "code",
   "execution_count": null,
   "metadata": {},
   "outputs": [],
   "source": [
    "from sklearn.utils import check_random_state"
   ]
  },
  {
   "cell_type": "code",
   "execution_count": null,
   "metadata": {},
   "outputs": [],
   "source": [
    "def get_enron_corpus(num_authors=10, data_folder=data_folder,\n",
    "                     min_docs_author=10, max_docs_author=100,\n",
    "                     random_state=None):\n",
    "    random_state = check_random_state(random_state)\n",
    "    email_addresses = sorted(os.listdir(data_folder))\n",
    "    random_state.shuffle(email_addresses)\n",
    "    documents = []\n",
    "    classes = []\n",
    "    author_num = 0\n",
    "    authors = {}\n",
    "    for user in email_addresses:\n",
    "        users_email_folder = os.path.join(data_folder, user)\n",
    "        mail_folders = [os.path.join(users_email_folder, subfolder)\n",
    "                        for subfolder in os.listdir(users_email_folder)\n",
    "                        if \"sent\" in subfolder]\n",
    "        try:\n",
    "            authored_emails = [open(os.path.join(mail_folder, email_filename), encoding='cp1252').read()\n",
    "                               for mail_folder in mail_folders\n",
    "                               for email_filename in os.listdir(mail_folder)]\n",
    "        except IsADirectoryError:\n",
    "            continue\n",
    "        if len(authored_emails) < min_docs_author:\n",
    "            continue\n",
    "        if len(authored_emails) > max_docs_author:\n",
    "            authored_emails = authored_emails[:max_docs_author]\n",
    "        contents = [p.parsestr(email)._payload for email in authored_emails]\n",
    "        documents.extend(contents)\n",
    "        classes.extend([author_num] * len(authored_emails))\n",
    "        authors[user] = author_num\n",
    "        author_num += 1\n",
    "        if author_num >= num_authors or author_num >= len(email_addresses):\n",
    "            break\n",
    "    return documents, np.array(classes), authors"
   ]
  },
  {
   "cell_type": "code",
   "execution_count": null,
   "metadata": {},
   "outputs": [],
   "source": [
    "documents, classes, authors = get_enron_corpus(data_folder=enron_data_folder, random_state=14)"
   ]
  },
  {
   "cell_type": "code",
   "execution_count": null,
   "metadata": {},
   "outputs": [],
   "source": [
    "documents[100]"
   ]
  },
  {
   "cell_type": "code",
   "execution_count": null,
   "metadata": {},
   "outputs": [],
   "source": [
    "import quotequail"
   ]
  },
  {
   "cell_type": "code",
   "execution_count": null,
   "metadata": {},
   "outputs": [],
   "source": [
    "\n",
    "def remove_replies(email_contents):\n",
    "    r = quotequail.unwrap(email_contents)\n",
    "    if r is None:\n",
    "        return email_contents\n",
    "    if 'text_top' in r:\n",
    "        return r['text_top']\n",
    "    elif 'text' in r:\n",
    "        return r['text']\n",
    "    return email_contents"
   ]
  },
  {
   "cell_type": "code",
   "execution_count": null,
   "metadata": {},
   "outputs": [],
   "source": [
    "documents = [remove_replies(document) for document in documents]"
   ]
  },
  {
   "cell_type": "code",
   "execution_count": null,
   "metadata": {},
   "outputs": [],
   "source": [
    "scores = cross_val_score(pipeline, documents, classes, scoring='f1')\n",
    "print(\"Score: {:.3f}\".format(np.mean(scores)))"
   ]
  },
  {
   "cell_type": "code",
   "execution_count": null,
   "metadata": {},
   "outputs": [],
   "source": [
    "from sklearn.model_selection import train_test_split\n",
    "training_documents, testing_documents, y_train, y_test = train_test_split(documents, classes, random_state=14)"
   ]
  },
  {
   "cell_type": "code",
   "execution_count": null,
   "metadata": {},
   "outputs": [],
   "source": [
    "pipeline.fit(training_documents, y_train)\n",
    "y_pred = pipeline.predict(testing_documents)"
   ]
  },
  {
   "cell_type": "code",
   "execution_count": null,
   "metadata": {},
   "outputs": [],
   "source": [
    "print(pipeline.named_steps['classifier'].best_params_)"
   ]
  },
  {
   "cell_type": "code",
   "execution_count": null,
   "metadata": {},
   "outputs": [],
   "source": [
    "from sklearn.metrics import confusion_matrix\n",
    "cm = confusion_matrix(y_pred, y_test)\n",
    "cm = cm / cm.astype(np.float).sum(axis=1)\n",
    "sorted_authors = sorted(authors.keys(), key=lambda x:authors[x])"
   ]
  },
  {
   "cell_type": "code",
   "execution_count": null,
   "metadata": {},
   "outputs": [],
   "source": [
    "%matplotlib inline\n",
    "from matplotlib import pyplot as plt\n",
    "plt.figure(figsize=(30, 30))\n",
    "plt.imshow(cm, cmap='Blues')\n",
    "tick_marks = np.arange(len( sorted_authors ))\n",
    "plt.xticks(tick_marks, sorted_authors )\n",
    "plt.yticks(tick_marks, sorted_authors )\n",
    "plt.ylabel('Actual')\n",
    "plt.xlabel('Predicted')\n",
    "plt.show()"
   ]
  }
 ],
 "metadata": {
  "kernelspec": {
   "display_name": "Python 3",
   "language": "python",
   "name": "python3"
  },
  "language_info": {
   "codemirror_mode": {
    "name": "ipython",
    "version": 3
   },
   "file_extension": ".py",
   "mimetype": "text/x-python",
   "name": "python",
   "nbconvert_exporter": "python",
   "pygments_lexer": "ipython3",
   "version": "3.7.0"
  }
 },
 "nbformat": 4,
 "nbformat_minor": 2
}
