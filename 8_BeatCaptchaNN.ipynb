{
 "cells": [
  {
   "cell_type": "markdown",
   "metadata": {},
   "source": [
    "# Beating CAPTCHAs with Neural Networks\n",
    "\n",
    "Interpreting information contained in images has long been a difficult problem in\n",
    "data mining, but it is one that is really starting to be addressed. The latest research is\n",
    "providing algorithms to detect and understand images to the point where automated\n",
    "commercial surveillance systems are now being used—in real-world scenarios—by\n",
    "major vendors. These systems are capable of understanding and recognizing objects\n",
    "and people in video footage.\n",
    "\n",
    "It is difficult to extract information from images. There is lots of raw data in an\n",
    "image, and the standard method for encoding images—pixels—isn't that informative\n",
    "by itself. Images—particularly photos—can be blurry, too close to the targets, too\n",
    "dark, too light, scaled, cropped, skewed, or any other of a variety of problems that\n",
    "cause havoc for a computer system trying to extract useful information.\n",
    "\n",
    "In this chapter, we look at extracting text from images by using neural networks\n",
    "for predicting each letter. The problem we are trying to solve is to automatically\n",
    "understand CAPTCHA messages. CAPTCHAs are images designed to be easy for\n",
    "humans to solve and hard for a computer to solve, as per the acronym: Completely\n",
    "Automated Public Turing test to tell Computers and Humans Apart. Many websites\n",
    "use them for registration and commenting systems to stop automated programs\n",
    "flooding their site with fake accounts and spam comments.\n",
    "\n",
    "The topics covered include:\n",
    "- Neural networks\n",
    "- Creating our own dataset of CAPTCHAs and letters\n",
    "- The scikit-image library for working with image data\n",
    "- The PyBrain library for neural networks\n",
    "- Extracting basic features from images\n",
    "- Using neural networks for larger-scale classification tasks\n",
    "- Improving performance using postprocessing"
   ]
  },
  {
   "cell_type": "markdown",
   "metadata": {},
   "source": []
  }
 ],
 "metadata": {
  "language_info": {
   "name": "python"
  }
 },
 "nbformat": 4,
 "nbformat_minor": 2
}
