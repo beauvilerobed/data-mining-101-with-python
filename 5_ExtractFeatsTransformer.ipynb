{
 "cells": [
  {
   "cell_type": "markdown",
   "metadata": {},
   "source": [
    "# Extracting Features with Transformers\n",
    "\n",
    "The datasets we have used so far have been described in terms of features. In the previous notebooks, we used a transaction-centric dataset. However, ultimately this was just a different format for representing feature-based data.\n",
    "\n",
    "There are many other types of datasets, including text, images, sounds, movies, or even real objects. Most data mining algorithms, however, rely on having numerical or categorical features. This means we need a way to represent these types before we input them into the data mining algorithm.\n",
    "\n",
    "The key concepts:\n",
    "- Extracting features from datasets\n",
    "- Creating new features\n",
    "- Selecting good features\n",
    "- Creating your own transformer for custom datasets"
   ]
  },
  {
   "cell_type": "code",
   "execution_count": null,
   "metadata": {},
   "outputs": [],
   "source": []
  }
 ],
 "metadata": {
  "language_info": {
   "name": "python"
  }
 },
 "nbformat": 4,
 "nbformat_minor": 2
}
