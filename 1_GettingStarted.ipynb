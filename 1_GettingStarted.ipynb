{
 "cells": [
  {
   "cell_type": "markdown",
   "metadata": {},
   "source": [
    "# Getting Started with Data Mining\n",
    "\n",
    "Data mining is a methodology that we can employ to train computers to make decisions with data and forms the backbone of many high-tech systems of today.\n",
    "\n",
    "The Python language is fast growing in popularity, for a good reason. It gives the programmer a lot of flexibility; it has a large number of modules to perform different tasks; and Python code is usually more readable and concise than in any other languages. There is a large and an active community of researchers, practitioners, and beginners using Python for data mining.\n",
    "\n",
    "- **Introducing data mining**\n",
    "- **A simple affiniy analysis example**\n",
    "- **A simple classification example**\n",
    "- **What is classification**\n",
    "\n",
    "## Introducing data mining\n",
    "\n",
    "Data mining provides a way for a computer to learn how to make decisions with data. This decision could be predicting tomorrow's weather, blocking a spam email from entering your inbox, detecting the language of a website, or finding a new romance on a dating site. \n",
    "\n",
    "Data mining is part of algorithms, statistics, engineering, optimization, and computer science. We also use concepts and knowledge from other fields such as linguistics, neuroscience, or town planning. Applying it effectively usually requires this domain-specific knowledge to be integrated with the algorithms.\n",
    "\n",
    "We start our data mining process by creating a dataset, describing an aspect of the real world. Datasets comprise of two aspects:\n",
    "\n",
    "- Samples that are objects in the real world. This can be a book, photograph, animal, person, or any other object.\n",
    "- Features that are descriptions of the samples in our dataset. They could be the length, frequency of a given word, number of legs, date it was created, and so on. \n",
    "\n",
    "The next step is tuning the data mining algorithm. Each data mining algorithm has parameters, either within the algorithm or supplied by the user. This tuning allows the algorithm to learn how to make decisions about the data.\n",
    "\n",
    "## A simple affinity analysis example"
   ]
  },
  {
   "cell_type": "code",
   "execution_count": null,
   "metadata": {},
   "outputs": [],
   "source": [
    "#"
   ]
  }
 ],
 "metadata": {
  "language_info": {
   "name": "python"
  }
 },
 "nbformat": 4,
 "nbformat_minor": 2
}
