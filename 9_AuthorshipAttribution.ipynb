{
 "cells": [
  {
   "cell_type": "markdown",
   "metadata": {},
   "source": [
    "# Authorship Attribution\n",
    "\n",
    "Authorship analysis is, predominately, a text mining task that aims to identify certain aspects about an author, based only on the content of their writings. This could include characteristics such as age, gender, or background. In the specific authorship attribution task, we aim to identify who out of a set of authors wrote a particular document. This is a classic case of a classification task. In many ways, authorship analysis tasks are performed using standard data mining methodologies, such as cross fold validation, feature extraction, and classification algorithms.\n",
    "\n",
    "In this chapter, we will use the problem of authorship attribution to piece together the parts of the data mining methodology we developed in the previous chapters. We identify the problem and discuss the background and knowledge of the problem. This lets us choose features to extract, which we will build a pipeline for achieving. We will test two different types of features: function words and character n-grams. Finally, we will perform an in-depth analysis of the results. We will work with a book dataset, and then a very messy real-world corpus of e-mails.\n",
    "\n",
    "The topics we will cover in this chapter are as follows:\n",
    "- Feature engineering and how the features differ based on application\n",
    "- Revisiting the bag-of-words model with a specific goal in mind\n",
    "- Feature types and the character n-grams model\n",
    "- Support vector machines\n",
    "- Cleaning up a messy dataset for data mining"
   ]
  },
  {
   "cell_type": "markdown",
   "metadata": {},
   "source": [
    "## Getting the data\n",
    "\n",
    "The data we will use for this chapter is a set of books from Project Gutenberg at www.gutenberg.org, which is a repository of public domain literature works.\n",
    "\n",
    "The books I used for these experiments come from a variety of authors:\n",
    "- Booth Tarkington (22 titles)\n",
    "- Charles Dickens (44 titles)\n",
    "- Edith Nesbit (10 titles)\n",
    "- Arthur Conan Doyle (51 titles)\n",
    "- Mark Twain (29 titles)\n",
    "- Sir Richard Francis Burton (11 titles)\n",
    "- Emile Gaboriau (10 titles)\n",
    "\n",
    "Overall, there are 177 documents from 7 authors, giving a significant amount of text to work with. A full list of the titles, along with download links and a script to automatically fetch them, is given in the code bundle. To download these books, we use the requests library to download the files into our data directory. First, set up the data directory and ensure the following code\n",
    "links to it:"
   ]
  },
  {
   "cell_type": "code",
   "execution_count": 1,
   "metadata": {},
   "outputs": [],
   "source": [
    "import csv\n",
    "from collections import Counter\n",
    "from io import BytesIO, StringIO\n",
    "from pathlib import Path\n",
    "import requests\n",
    "import pandas as pd\n",
    "import re\n",
    "import os\n"
   ]
  },
  {
   "cell_type": "code",
   "execution_count": 2,
   "metadata": {},
   "outputs": [
    {
     "name": "stdout",
     "output_type": "stream",
     "text": [
      "Total size: 19.28MB\n",
      "Text#,Type,Issued,Title,Language,Authors,Subjects,LoCC,Bookshelves\n",
      "1,Text,1971-12-01,The Declaration of Independence of the United States of America,en,\"Jefferson, Thomas, 1743-1826\",\"United States -- History -- Revolution, 1775-1783 -- Sources; United States. Declaration of Independence\",E201; JK,Politics; American Revolutionary War; United States Law; Browsing: History - American; Browsing: His\n"
     ]
    }
   ],
   "source": [
    "GUTENBERG_CSV_URL = \"https://www.gutenberg.org/cache/epub/feeds/pg_catalog.csv.gz\"\n",
    "\n",
    "r = requests.get(GUTENBERG_CSV_URL)\n",
    "csv_text = r.content.decode(\"utf-8\")\n",
    "\n",
    "print(f\"Total size: {len(r.content) / 1024**2:0.2f}MB\")\n",
    "print(csv_text[:400])"
   ]
  },
  {
   "cell_type": "code",
   "execution_count": 3,
   "metadata": {},
   "outputs": [
    {
     "data": {
      "text/html": [
       "<div>\n",
       "<style scoped>\n",
       "    .dataframe tbody tr th:only-of-type {\n",
       "        vertical-align: middle;\n",
       "    }\n",
       "\n",
       "    .dataframe tbody tr th {\n",
       "        vertical-align: top;\n",
       "    }\n",
       "\n",
       "    .dataframe thead th {\n",
       "        text-align: right;\n",
       "    }\n",
       "</style>\n",
       "<table border=\"1\" class=\"dataframe\">\n",
       "  <thead>\n",
       "    <tr style=\"text-align: right;\">\n",
       "      <th></th>\n",
       "      <th>Text#</th>\n",
       "      <th>Type</th>\n",
       "      <th>Issued</th>\n",
       "      <th>Title</th>\n",
       "      <th>Language</th>\n",
       "      <th>Authors</th>\n",
       "      <th>Subjects</th>\n",
       "      <th>LoCC</th>\n",
       "      <th>Bookshelves</th>\n",
       "    </tr>\n",
       "  </thead>\n",
       "  <tbody>\n",
       "    <tr>\n",
       "      <th>0</th>\n",
       "      <td>1</td>\n",
       "      <td>Text</td>\n",
       "      <td>1971-12-01</td>\n",
       "      <td>The Declaration of Independence of the United ...</td>\n",
       "      <td>en</td>\n",
       "      <td>Jefferson, Thomas, 1743-1826</td>\n",
       "      <td>United States -- History -- Revolution, 1775-1...</td>\n",
       "      <td>E201; JK</td>\n",
       "      <td>Politics; American Revolutionary War; United S...</td>\n",
       "    </tr>\n",
       "    <tr>\n",
       "      <th>1</th>\n",
       "      <td>2</td>\n",
       "      <td>Text</td>\n",
       "      <td>1972-12-01</td>\n",
       "      <td>The United States Bill of Rights\\r\\nThe Ten Or...</td>\n",
       "      <td>en</td>\n",
       "      <td>United States</td>\n",
       "      <td>Civil rights -- United States -- Sources; Unit...</td>\n",
       "      <td>JK; KF</td>\n",
       "      <td>Politics; American Revolutionary War; United S...</td>\n",
       "    </tr>\n",
       "    <tr>\n",
       "      <th>2</th>\n",
       "      <td>3</td>\n",
       "      <td>Text</td>\n",
       "      <td>1973-11-01</td>\n",
       "      <td>John F. Kennedy's Inaugural Address</td>\n",
       "      <td>en</td>\n",
       "      <td>Kennedy, John F. (John Fitzgerald), 1917-1963</td>\n",
       "      <td>United States -- Foreign relations -- 1961-196...</td>\n",
       "      <td>E838</td>\n",
       "      <td>Browsing: History - American; Browsing: Politics</td>\n",
       "    </tr>\n",
       "    <tr>\n",
       "      <th>3</th>\n",
       "      <td>4</td>\n",
       "      <td>Text</td>\n",
       "      <td>1973-11-01</td>\n",
       "      <td>Lincoln's Gettysburg Address\\r\\nGiven November...</td>\n",
       "      <td>en</td>\n",
       "      <td>Lincoln, Abraham, 1809-1865</td>\n",
       "      <td>Consecration of cemeteries -- Pennsylvania -- ...</td>\n",
       "      <td>E456</td>\n",
       "      <td>US Civil War; Browsing: History - American; Br...</td>\n",
       "    </tr>\n",
       "    <tr>\n",
       "      <th>4</th>\n",
       "      <td>5</td>\n",
       "      <td>Text</td>\n",
       "      <td>1975-12-01</td>\n",
       "      <td>The United States Constitution</td>\n",
       "      <td>en</td>\n",
       "      <td>United States</td>\n",
       "      <td>United States -- Politics and government -- 17...</td>\n",
       "      <td>JK; KF</td>\n",
       "      <td>United States; Politics; American Revolutionar...</td>\n",
       "    </tr>\n",
       "  </tbody>\n",
       "</table>\n",
       "</div>"
      ],
      "text/plain": [
       "  Text#  Type      Issued                                              Title  \\\n",
       "0     1  Text  1971-12-01  The Declaration of Independence of the United ...   \n",
       "1     2  Text  1972-12-01  The United States Bill of Rights\\r\\nThe Ten Or...   \n",
       "2     3  Text  1973-11-01                John F. Kennedy's Inaugural Address   \n",
       "3     4  Text  1973-11-01  Lincoln's Gettysburg Address\\r\\nGiven November...   \n",
       "4     5  Text  1975-12-01                     The United States Constitution   \n",
       "\n",
       "  Language                                        Authors  \\\n",
       "0       en                   Jefferson, Thomas, 1743-1826   \n",
       "1       en                                  United States   \n",
       "2       en  Kennedy, John F. (John Fitzgerald), 1917-1963   \n",
       "3       en                    Lincoln, Abraham, 1809-1865   \n",
       "4       en                                  United States   \n",
       "\n",
       "                                            Subjects      LoCC  \\\n",
       "0  United States -- History -- Revolution, 1775-1...  E201; JK   \n",
       "1  Civil rights -- United States -- Sources; Unit...    JK; KF   \n",
       "2  United States -- Foreign relations -- 1961-196...      E838   \n",
       "3  Consecration of cemeteries -- Pennsylvania -- ...      E456   \n",
       "4  United States -- Politics and government -- 17...    JK; KF   \n",
       "\n",
       "                                         Bookshelves  \n",
       "0  Politics; American Revolutionary War; United S...  \n",
       "1  Politics; American Revolutionary War; United S...  \n",
       "2   Browsing: History - American; Browsing: Politics  \n",
       "3  US Civil War; Browsing: History - American; Br...  \n",
       "4  United States; Politics; American Revolutionar...  "
      ]
     },
     "execution_count": 3,
     "metadata": {},
     "output_type": "execute_result"
    }
   ],
   "source": [
    "books_info = pd.DataFrame(csv.DictReader(StringIO(csv_text)))\n",
    "books_info.head()"
   ]
  },
  {
   "cell_type": "code",
   "execution_count": 4,
   "metadata": {},
   "outputs": [
    {
     "data": {
      "text/plain": [
       "[('Booth', 'Tarkington'),\n",
       " ('Charles', 'Dickens'),\n",
       " ('Edith', 'Nesbit'),\n",
       " ('Arthur', 'Conan', 'Doyle'),\n",
       " ('Mark', 'Twain'),\n",
       " ('Sir', 'Richard', 'Francis', 'Burton'),\n",
       " ('Emile', 'Gaboriau')]"
      ]
     },
     "execution_count": 4,
     "metadata": {},
     "output_type": "execute_result"
    }
   ],
   "source": [
    "books_info['Authors_parsed'] = books_info['Authors'].apply(lambda x:\\\n",
    "                                                        x.replace(',', '').\\\n",
    "                                                        replace('(', '').\\\n",
    "                                                        replace(')', ''))\n",
    "rel_authors = ['Booth Tarkington', 'Charles Dickens', 'Edith Nesbit', \n",
    "    'Arthur Conan Doyle', 'Mark Twain', 'Sir Richard Francis Burton', \n",
    "    'Emile Gaboriau']\n",
    "\n",
    "authors = [tuple(authors.split()) for authors in rel_authors]\n",
    "authors"
   ]
  },
  {
   "cell_type": "code",
   "execution_count": 5,
   "metadata": {},
   "outputs": [
    {
     "data": {
      "text/plain": [
       "[('Jefferson', 'Thomas', '1743-1826'), ('United', 'States')]"
      ]
     },
     "execution_count": 5,
     "metadata": {},
     "output_type": "execute_result"
    }
   ],
   "source": [
    "authors_to_check = books_info['Authors_parsed'].unique()\n",
    "authors_to_check = [tuple(authors.split()) for authors in authors_to_check]\n",
    "authors_to_check[:2]"
   ]
  },
  {
   "cell_type": "code",
   "execution_count": 6,
   "metadata": {},
   "outputs": [],
   "source": [
    "from collections import defaultdict\n",
    "\n",
    "authors_to_keep = defaultdict(set)\n",
    "authors_to_keep_for_df = []\n",
    "for author_to_check in authors_to_check:\n",
    "    for author in authors:\n",
    "        if set(author).issubset(set(author_to_check)):\n",
    "            authors_to_keep[author].add(' '.join(author_to_check))\n",
    "            authors_to_keep_for_df.append( ' '.join(author_to_check))"
   ]
  },
  {
   "cell_type": "code",
   "execution_count": 7,
   "metadata": {},
   "outputs": [],
   "source": [
    "books_for_training = books_info[books_info['Authors_parsed'].isin(authors_to_keep_for_df)]\n",
    "book_id = books_for_training.iloc[1][\"Text#\"]"
   ]
  },
  {
   "cell_type": "code",
   "execution_count": 8,
   "metadata": {},
   "outputs": [],
   "source": [
    "alternative_author_list = []\n",
    "for author in authors_to_keep.keys():\n",
    "    for alternative in authors_to_keep[author]:\n",
    "        alternative_author_list.append([' '.join(author), alternative])\n",
    "alternatives = pd.DataFrame(alternative_author_list, columns=['Alternative_names', 'Authors_parsed'])\n",
    "books_for_training = pd.merge(books_for_training, alternatives, on='Authors_parsed')"
   ]
  },
  {
   "cell_type": "code",
   "execution_count": 9,
   "metadata": {},
   "outputs": [
    {
     "data": {
      "text/plain": [
       "Mark Twain                    257\n",
       "Charles Dickens               207\n",
       "Arthur Conan Doyle            156\n",
       "Sir Richard Francis Burton     60\n",
       "Edith Nesbit                   42\n",
       "Emile Gaboriau                 34\n",
       "Booth Tarkington               33\n",
       "Name: Alternative_names, dtype: int64"
      ]
     },
     "execution_count": 9,
     "metadata": {},
     "output_type": "execute_result"
    }
   ],
   "source": [
    "books_for_training['Alternative_names'].value_counts(dropna=False)"
   ]
  },
  {
   "cell_type": "code",
   "execution_count": 10,
   "metadata": {},
   "outputs": [
    {
     "data": {
      "text/plain": [
       "Mark Twain                    47\n",
       "Charles Dickens               39\n",
       "Arthur Conan Doyle            38\n",
       "Sir Richard Francis Burton    15\n",
       "Edith Nesbit                   7\n",
       "Emile Gaboriau                 6\n",
       "Booth Tarkington               6\n",
       "Name: Alternative_names, dtype: int64"
      ]
     },
     "execution_count": 10,
     "metadata": {},
     "output_type": "execute_result"
    }
   ],
   "source": [
    "from sklearn.model_selection import train_test_split\n",
    "\n",
    "_, books_for_training = train_test_split(books_for_training, test_size=.2, random_state=42)\n",
    "books_for_training['Alternative_names'].value_counts(dropna=False)"
   ]
  },
  {
   "cell_type": "code",
   "execution_count": 11,
   "metadata": {},
   "outputs": [],
   "source": [
    "GUTENBERG_ROBOT_URL = \"http://www.gutenberg.org/robot/harvest?filetypes[]=txt\"\n",
    "r = requests.get(GUTENBERG_ROBOT_URL)\n",
    "GUTENBERG_MIRROR = re.search('(https?://[^/]+)[^\"]*.zip', r.text).group(1)"
   ]
  },
  {
   "cell_type": "code",
   "execution_count": 12,
   "metadata": {},
   "outputs": [
    {
     "data": {
      "text/plain": [
       "['http://aleph.gutenberg.org/7/70/70.zip',\n",
       " 'http://aleph.gutenberg.org/7/70/70-8.zip',\n",
       " 'http://aleph.gutenberg.org/7/70/70-0.zip']"
      ]
     },
     "execution_count": 12,
     "metadata": {},
     "output_type": "execute_result"
    }
   ],
   "source": [
    "def gutenberg_text_urls(id, mirror=GUTENBERG_MIRROR, suffixes=(\"\", \"-8\", \"-0\")):\n",
    "    path = \"/\".join(id[:-1]) or \"0\"\n",
    "    return [f\"{mirror}/{path}/{id}/{id}{suffix}.zip\" for suffix in suffixes]\n",
    "\n",
    "gutenberg_text_urls(book_id)"
   ]
  },
  {
   "cell_type": "code",
   "execution_count": 13,
   "metadata": {},
   "outputs": [],
   "source": [
    "import logging\n",
    "import zipfile\n",
    "\n",
    "def download_gutenberg(id):\n",
    "    for url in gutenberg_text_urls(id):\n",
    "        r = requests.get(url)\n",
    "        if r.status_code == 404:\n",
    "            logging.warning(f\"404 for {url}\")\n",
    "            continue\n",
    "        r.raise_for_status()\n",
    "        break\n",
    "    try:\n",
    "        z = zipfile.ZipFile(BytesIO(r.content))\n",
    "        print(f'success with {id}')\n",
    "    \n",
    "        if len(z.namelist()) != 1:\n",
    "            raise Exception(f\"Expected 1 file in {z.namelist()}\")\n",
    "    except:\n",
    "        print('file not a zip')\n",
    "        return\n",
    "        \n",
    "    return z.read(z.namelist()[0]).decode('utf-8')"
   ]
  },
  {
   "cell_type": "code",
   "execution_count": 14,
   "metadata": {},
   "outputs": [
    {
     "name": "stderr",
     "output_type": "stream",
     "text": [
      "WARNING:root:404 for http://aleph.gutenberg.org/7/70/70.zip\n",
      "WARNING:root:404 for http://aleph.gutenberg.org/7/70/70-8.zip\n"
     ]
    },
    {
     "name": "stdout",
     "output_type": "stream",
     "text": [
      "success with 70\n",
      "﻿The Project Gutenberg eBook of What Is Man? And Other Stories, by Mark Twain (Samuel Clemens)\n",
      "\n",
      "This eBook is for the use of anyone anywhere in the United States and\n",
      "most other parts of the world at no cost and with almost no restrictions\n",
      "whatsoever. You may copy it, give it away or re-use it under the terms\n",
      "of the Project Gutenberg License included with this eBook or online at\n",
      "www.gutenberg.org. If you are not located in the United States, you\n",
      "will have to check the laws of the country where you are located before\n",
      "using this eBook.\n",
      "\n",
      "Title: What Is Man? And Other Stories\n",
      "\n",
      "Author: Mark Twain (Samuel Clemens)\n",
      "\n",
      "Release Date: June, 1993 [eBook #70]\n",
      "[Most recently updated: May 26, 2022]\n",
      "\n",
      "Language: English\n",
      "\n",
      "Character set encoding: UTF-8\n",
      "\n",
      "Produced by: An Anonymous Volunteer and David Widger\n",
      "\n",
      "*** START OF THE PROJECT GUTENBERG EBOOK WHAT IS MAN? AND OTHER STORIES ***\n",
      "\n",
      "\n",
      "\n",
      "\n",
      "WHAT IS MAN?\n",
      "AND OTHER ESSAYS\n",
      "\n",
      "By Mark Twain\n",
      "\n",
      "(Samuel Langhorne Clemens, 1835-1910)\n",
      "\n",
      "\n",
      "CONTENTS\n",
      "\n",
      " WHAT IS MAN?\n",
      " THE DEATH OF JEAN\n",
      " THE TURNING-POINT OF MY LIFE\n",
      " HOW TO MAKE HISTORY DATES STICK\n",
      " THE MEMORABLE ASSASSINATION\n",
      " A SCRAP OF CURIOUS HISTORY\n",
      " SWITZERLAND, THE CRADLE OF LIBERTY\n",
      " AT THE SHRINE OF ST. WAGNER\n",
      " WILLIAM DEAN HOWELLS\n",
      " ENGLISH AS SHE IS TAUGHT\n",
      " A SIMPLIFIED ALPHABET\n",
      " AS CONCERNS INTERPRETING THE DEITY\n",
      " CONCERNING TOBACCO\n",
      " THE BEE\n",
      " TAMING THE BICYCLE\n",
      " IS SHAKESPEARE DEAD?\n",
      "\n",
      "\n",
      "\n",
      "\n",
      "\n",
      "WHAT IS MAN?\n",
      "\n",
      "I\n",
      "\n",
      "a. Man the Machine. b. Personal Merit\n",
      "\n",
      "[The O\n"
     ]
    }
   ],
   "source": [
    "text = download_gutenberg(book_id)\n",
    "print(text[:1500])"
   ]
  },
  {
   "cell_type": "markdown",
   "metadata": {},
   "source": [
    "## Downloading all the files\n",
    "Now we can download all the files in a simple loop; let’s create a simple function that gets and cleans the text:"
   ]
  },
  {
   "cell_type": "code",
   "execution_count": 16,
   "metadata": {},
   "outputs": [],
   "source": [
    "GUTENBERG_TEXT = \"PROJECT GUTENBERG EBOOK \"\n",
    "\n",
    "def strip_headers(text):\n",
    "    in_text = False\n",
    "    output = []\n",
    "    \n",
    "    for line in text.splitlines():        \n",
    "        if GUTENBERG_TEXT in line:\n",
    "            if not in_text:\n",
    "                in_text = True\n",
    "            else:\n",
    "                break\n",
    "        else:\n",
    "            if in_text:\n",
    "                output.append(line)\n",
    "\n",
    "    return \"\\n\".join(output).strip()\n",
    "\n",
    "stripped_text = strip_headers(text)"
   ]
  },
  {
   "cell_type": "code",
   "execution_count": 17,
   "metadata": {},
   "outputs": [
    {
     "name": "stdout",
     "output_type": "stream",
     "text": [
      "finished 0/158\n",
      "Saving New Treasure Seekers; Or, The Bastable Children in Search of a Fortune by Nesbit E. Edith 1858-1924 containing 367_421 characters\n",
      "Saving 1601: Conversation as it was by the Social Fireside in the Time of the Tudors by Twain Mark 1835-1910 containing 67_227 characters\n",
      "Saving Speeches: Literary and Social by Dickens Charles 1812-1870 containing 567_696 characters\n",
      "Saving The Haunted Man and the Ghost's Bargain by Dickens Charles 1812-1870 containing 186_280 characters\n",
      "Saving Doctor Marigold by Dickens Charles 1812-1870 containing 63_064 characters\n",
      "Saving Mudfog and Other Sketches by Dickens Charles 1812-1870 containing 185_802 characters\n",
      "Saving The Book of the Thousand Nights and a Night — Volume 16 by Burton Richard Francis Sir 1821-1890 [Translator] containing 945_509 characters\n",
      "Saving The Parasite by Doyle Arthur Conan 1859-1930 containing 0 characters\n",
      "Saving A Christmas Carol by Dickens Charles 1812-1870 containing 0 characters\n",
      "Saving On the Decay of the Art of Lying by Twain Mark 1835-1910 containing 0 characters\n",
      "Saving Mark Twain's Letters — Volume 6 (1907-1910) by Twain Mark 1835-1910; Paine Albert Bigelow 1861-1937 [Compiler] containing 76_613 characters\n",
      "Saving Barnaby Rudge: A Tale of the Riots of 'Eighty by Dickens Charles 1812-1870 containing 1_418_715 characters\n",
      "Saving Eve's Diary by Twain Mark 1835-1910 containing 0 characters\n",
      "Saving His Own People by Tarkington Booth 1869-1946 containing 93_390 characters\n",
      "Saving Extracts from Adam's Diary by Twain Mark 1835-1910 containing 0 characters\n",
      "Saving Sketches New and Old, Part 3. by Twain Mark 1835-1910 containing 85_257 characters\n",
      "Saving Kertoelmia ja jutelmia: Suomennoksia ja alkuperäisiä by Dilling Lars 1848-1887; Erg Julle; Harte Bret 1836-1902; Twain Mark 1835-1910 containing 162_358 characters\n",
      "Saving My friend the murderer, and other mysteries and adventures by Doyle Arthur Conan 1859-1930 containing 460_366 characters\n",
      "Saving The Cabman's Story\n",
      "The Mysteries of a London 'Growler' by Doyle Arthur Conan 1859-1930 containing 16_736 characters\n",
      "Saving Dombey ja Poika 1 by Dickens Charles 1812-1870; Tuomikoski Aino 1889-1958 [Translator] containing 1_020_306 characters\n",
      "Saving Les gens de bureau by Gaboriau Emile 1832-1873 containing 282_741 characters\n",
      "Saving Jenkkejä maailmalla I\n",
      "Heidän toivioretkensä Pyhälle Maalle by Twain Mark 1835-1910; Inha Into Konrad 1865-1930 [Translator] containing 554_714 characters\n",
      "Saving Mark Twain's Letters — Volume 2 (1867-1875) by Twain Mark 1835-1910; Paine Albert Bigelow 1861-1937 [Compiler] containing 271_080 characters\n",
      "Saving The Gilded Age: A Tale of Today by Twain Mark 1835-1910; Warner Charles Dudley 1829-1900 containing 888_095 characters\n",
      "Saving Essays on Paul Bourget by Twain Mark 1835-1910 containing 61_362 characters\n",
      "finished 25/158\n",
      "Saving All the Year Round by Dickens Charles 1812-1870 containing 0 characters\n",
      "Saving Goa and the Blue Mountains; or, Six months of sick leave by Burton Richard Francis Sir 1821-1890 containing 451_234 characters\n",
      "Saving The Valley of Fear by Doyle Arthur Conan 1859-1930 containing 0 characters\n",
      "Saving Un pari de milliardaires et autres nouvelles by Twain Mark 1835-1910; Gaïl François de 1874-1947 [Translator] containing 240_358 characters\n",
      "Saving Other People's Money by Gaboriau Emile 1832-1873 containing 825_379 characters\n",
      "Saving The Adventure of the Cardboard Box by Doyle Arthur Conan 1859-1930 containing 0 characters\n",
      "Saving Huckleberry Finn kalandjai by Twain Mark 1835-1910; Pólya Tibor 1886-1937 [Illustrator]; Rákosi Jenő 1842-1929 [Translator] containing 585_033 characters\n",
      "Saving L'argent des autres: 1. Les hommes de paille by Gaboriau Emile 1832-1873 containing 525_854 characters\n",
      "Saving The New Revelation by Doyle Arthur Conan 1859-1930 containing 0 characters\n",
      "Saving The Adventures of Tom Sawyer, Part 8. by Twain Mark 1835-1910 containing 38_898 characters\n",
      "Saving The Adventure of the Devil's Foot by Doyle Arthur Conan 1859-1930 containing 0 characters\n",
      "Saving Two Trips to Gorilla Land and the Cataracts of the Congo, Volume 1 by Burton Richard Francis Sir 1821-1890 containing 343_540 characters\n",
      "Saving Songs of love and empire by Nesbit E. Edith 1858-1924 containing 122_446 characters\n",
      "Saving De avonturen van Oliver Twist by Dickens Charles 1812-1870; Cruikshank George 1792-1878 [Illustrator]; Van der Veer Elizabeth Arnolda 1887-1941 [Illustrator]; Gogh-Kaulbach Anna van 1869-1960 [Translator] containing 979_710 characters\n",
      "Saving Cantique de Noël by Dickens Charles 1812-1870 containing 192_999 characters\n",
      "Saving The Book of the Thousand Nights and a Night — Volume 07 by Burton Richard Francis Sir 1821-1890 [Translator] containing 922_287 characters\n",
      "Saving The Beautiful Lady by Tarkington Booth 1869-1946 containing 89_868 characters\n",
      "Saving The Book of the Thousand Nights and a Night—Volume 04 [Supplement] by Burton Richard Francis Sir 1821-1890 [Translator] containing 815_225 characters\n",
      "Saving Oliver Twist by Dickens Charles 1812-1870; Gaulke Johannes 1869- [Contributor] containing 769_978 characters\n",
      "Saving Mr. Pickwick's Christmas\n",
      "Being an Account of the Pickwickians' Christmas at the Manor Farm, of the Adventures There; the Tale of the Goblin Who Stole a Sexton, and of the Famous Sports on the Ice by Dickens Charles 1812-1870; Williams George Alfred 1875-1932 [Illustrator] containing 116_698 characters\n",
      "Saving In Homespun by Nesbit E. Edith 1858-1924 containing 197_676 characters\n",
      "Saving Roughing It, Part 2. by Twain Mark 1835-1910 containing 112_655 characters\n",
      "Saving The Prince and the Pauper, Part 6. by Twain Mark 1835-1910 containing 47_146 characters\n",
      "Saving All Round the Year by Nesbit E. Edith 1858-1924; Brooke Caris 1844-1899; Smith H. Bellingham [Illustrator] containing 11_124 characters\n",
      "Saving Adventures of Huckleberry Finn, Chapters 26 to 30 by Twain Mark 1835-1910 containing 72_373 characters\n",
      "finished 50/158\n",
      "Saving A Plain and Literal Translation of the Arabian Nights Entertainments, Now Entituled the Book of the Thousand Nights and a Night, Volume 01 (of 17) by Burton Richard Francis Sir 1821-1890 [Translator] containing 1_000_511 characters\n",
      "Saving Pikku Dorrit II by Dickens Charles 1812-1870; Kesäniemi Helena 1878-1968 [Translator] containing 999_420 characters\n",
      "Saving Micah Clarke - Tome II\n",
      "Le Capitaine Micah Clarke by Doyle Arthur Conan 1859-1930; Savine Albert 1859-1927 [Translator] containing 362_885 characters\n",
      "Saving The Innocents Abroad — Volume 05 by Twain Mark 1835-1910 containing 168_558 characters\n",
      "Saving Adventures of Huckleberry Finn, Chapters 21 to 25 by Twain Mark 1835-1910 containing 68_936 characters\n",
      "Saving The Perils of Certain English Prisoners by Dickens Charles 1812-1870 containing 104_577 characters\n",
      "Saving Wet Magic by Nesbit E. Edith 1858-1924; Millar H. R. Harold Robert 1869-1942 [Illustrator] containing 274_211 characters\n",
      "Saving Sketches New and Old, Part 2. by Twain Mark 1835-1910 containing 79_867 characters\n",
      "Saving Speeches: Literary and Social by Dickens Charles 1812-1870 containing 0 characters\n",
      "Saving A Plain and Literal Translation of the Arabian Nights Entertainments, Now Entituled the Book of the Thousand Nights and a Night Volume 08 (of 17) by Burton Richard Francis Sir 1821-1890 [Translator] containing 881_391 characters\n",
      "Saving The Kasîdah of Hâjî Abdû El-Yezdî by Burton Richard Francis Sir 1821-1890 containing 105_764 characters\n",
      "Saving The Lock and Key Library: Classic Mystery and Detective Stories: Old Time English by Hawthorne Julian 1846-1934 [Editor]; De Quincey Thomas 1785-1859 [Contributor]; Dickens Charles 1812-1870 [Contributor]; Lytton Edward Bulwer Lytton Baron 1803-1873 [Contributor]; Maturin Charles Robert 1780-1824 [Contributor]; Sterne Laurence 1713-1768 [Contributor]; Thackeray William Makepeace 1811-1863 [Contributor] containing 737_347 characters\n",
      "Saving The Stolen White Elephant by Twain Mark 1835-1910 containing 40_511 characters\n",
      "Saving A New System of Sword Exercise for Infantry by Burton Richard Francis Sir 1821-1890 containing 80_403 characters\n",
      "Saving Alonzo Fitz, and Other Stories by Twain Mark 1835-1910 containing 169_965 characters\n",
      "Saving Some Rambling Notes of an Idle Excursion by Twain Mark 1835-1910 containing 90_902 characters\n",
      "Saving Sketches of Young Couples by Dickens Charles 1812-1870 containing 0 characters\n",
      "Saving Cricket on the Hearth by Dickens Charles 1812-1870 containing 0 characters\n",
      "Saving The case-book of Sherlock Holmes by Doyle Arthur Conan 1859-1930 containing 453_755 characters\n",
      "Saving Monsieur Lecoq — Volume2\n",
      "L'honneur du nom by Gaboriau Emile 1832-1873 containing 962_590 characters\n",
      "Saving The Two Vanrevels by Tarkington Booth 1869-1946 containing 348_836 characters\n",
      "Saving The Sign of the Four by Doyle Arthur Conan 1859-1930 containing 0 characters\n",
      "Saving Hilda Wade, a Woman with Tenacity of Purpose by Allen Grant 1848-1899; Doyle Arthur Conan 1859-1930 [Contributor] containing 493_220 characters\n",
      "Saving The Green Flag, and Other Stories of War and Sport by Doyle Arthur Conan 1859-1930 containing 414_182 characters\n",
      "Saving Micah Clarke - Tome III\n",
      "La Bataille de Sedgemoor by Doyle Arthur Conan 1859-1930; Savine Albert 1859-1927 [Translator] containing 368_891 characters\n",
      "finished 75/158\n",
      "Saving The Adventure of the Cardboard Box by Doyle Arthur Conan 1859-1930 containing 46_287 characters\n",
      "Saving Somebody's Luggage by Dickens Charles 1812-1870 containing 110_553 characters\n",
      "Saving Seventeen\n",
      "A Tale of Youth and Summer Time and the Baxter Family, Especially William by Tarkington Booth 1869-1946 containing 382_804 characters\n",
      "Saving The Adventure of the Dying Detective by Doyle Arthur Conan 1859-1930 containing 0 characters\n",
      "Saving Rodney Stone by Doyle Arthur Conan 1859-1930 containing 491_226 characters\n",
      "Saving Life on the Mississippi, Part 3. by Twain Mark 1835-1910 containing 78_766 characters\n",
      "Saving A Tramp Abroad — Volume 04 by Twain Mark 1835-1910 containing 131_057 characters\n",
      "Saving Vainottu: Romaani by Doyle Arthur Conan 1859-1930; Tuura Timo 1885-1963 [Translator] containing 227_169 characters\n",
      "Saving Wie Hadleyburg verderbt wurde: Nebst anderen Erzählungen by Twain Mark 1835-1910 containing 337_847 characters\n",
      "Saving Kauhun laakso 1: Murhenäytelmä Birlstonen kartanossa by Doyle Arthur Conan 1859-1930; Tuura Timo 1885-1963 [Translator] containing 151_895 characters\n",
      "Saving Life on the Mississippi, Part 12. by Twain Mark 1835-1910 containing 131_856 characters\n",
      "Saving A Plain and Literal Translation of the Arabian Nights Entertainments, Now Entituled the Book of the Thousand Nights and a Night, Volume 04 (of 17) by Burton Richard Francis Sir 1821-1890 [Translator] containing 759_250 characters\n",
      "Saving The Crime of the Congo by Doyle Arthur Conan 1859-1930 containing 304_085 characters\n",
      "Saving Index of the Project Gutenberg Works of Arthur Conan Doyle by Doyle Arthur Conan 1859-1930; Widger David 1932-2021? [Editor] containing 42_111 characters\n",
      "Saving Two Trips to Gorilla Land and the Cataracts of the Congo, Volume 2 by Burton Richard Francis Sir 1821-1890 containing 468_159 characters\n",
      "Saving Tales of Terror and Mystery by Doyle Arthur Conan 1859-1930 containing 0 characters\n",
      "Saving The Hound of the Baskervilles by Doyle Arthur Conan 1859-1930 containing 354_131 characters\n",
      "Saving The Conquest of Canaan by Tarkington Booth 1869-1946 containing 465_229 characters\n",
      "Saving The Prince and the Pauper, Part 4. by Twain Mark 1835-1910 containing 51_185 characters\n",
      "Saving Life on the Mississippi by Twain Mark 1835-1910 containing 808_336 characters\n",
      "Saving Aventures de Monsieur Pickwick, Vol. II by Dickens Charles 1812-1870; Grolier Pierre [Translator] containing 897_700 characters\n",
      "Saving Neljän merkit by Doyle Arthur Conan 1859-1930; Wickstedt Ida [Translator] containing 243_537 characters\n",
      "Saving Index of the Project Gutenberg Works of Booth Tarkington by Tarkington Booth 1869-1946; Widger David 1932-2021? [Editor] containing 11_407 characters\n",
      "Saving Contributions to All The Year Round by Dickens Charles 1812-1870 [Editor] containing 134_354 characters\n",
      "Saving Victorian Short Stories of Troubled Marriages by Kipling Rudyard 1865-1936 [Contributor]; D'Arcy Ella 1857-1937 [Contributor]; Doyle Arthur Conan 1859-1930 [Contributor]; Gissing George 1857-1903 [Contributor]; Morrison Arthur 1863-1945 [Contributor] containing 136_985 characters\n",
      "finished 100/158\n",
      "Saving Tom Sawyer: Koulupojan historia by Twain Mark 1835-1910; Weisell Josua [Translator] containing 424_456 characters\n",
      "Saving A Double Barrelled Detective Story by Twain Mark 1835-1910 containing 105_413 characters\n",
      "Saving Sunday Under Three Heads by Dickens Charles 1812-1870 containing 64_782 characters\n",
      "Saving The Sign of the Four by Doyle Arthur Conan 1859-1930 containing 232_120 characters\n",
      "Saving Sketches New and Old, Part 1. by Twain Mark 1835-1910 containing 106_840 characters\n",
      "Saving Going into Society by Dickens Charles 1812-1870 containing 27_656 characters\n",
      "Saving Five Children and It by Nesbit E. Edith 1858-1924; Millar H. R. Harold Robert 1869-1942 [Illustrator] containing 297_300 characters\n",
      "Saving David Copperfield - Tome II by Dickens Charles 1812-1870; Lorain P. Paul 1799-1861 [Translator] containing 1_065_854 characters\n",
      "Saving The Prince and the Pauper, Part 1. by Twain Mark 1835-1910 containing 33_496 characters\n",
      "Saving Le crime d'Orcival by Gaboriau Emile 1832-1873 containing 707_106 characters\n",
      "Saving The Book of the Thousand Nights and a Night—Volume 06 [Supplement] by Burton Richard Francis Sir 1821-1890 [Translator] containing 1_335_427 characters\n",
      "Saving Atlantic Narratives: Modern Short Stories by Thomas Charles Swain 1868-1943 [Editor]; Ashe Elizabeth; Butler Katharine; Canby Henry Seidel 1878-1961; Comer Cornelia A. P. Cornelia Atwood Pratt 1865-1929; Dobie Charles Caldwell 1881-1943; Doty Madeleine Z. Madeleine Zabriskie 1877-1963; Dwight H. G. Harrison Griswold 1875-1959; Galsworthy John 1867-1933; Gerould Katharine Fullerton 1879-1944; Humphrey Zephine 1874-1956; Lerner Mary; Louriet F. J.; Lucas E. V. Edward Verrall 1868-1938; Lynn Margaret; Mercer C. A.; Montague Margaret Prescott 1878-1955; Nesbit E. Edith 1858-1924; Sedgwick Anne Douglas 1873-1935; Sharp Dallas Lore 1870-1929; Sherwood Margaret Pollock 1864-1955; Starr Ernest; Stone Amy Wentworth; Taylor Arthur Russell containing 613_981 characters\n",
      "Saving The Holly-Tree by Dickens Charles 1812-1870 containing 0 characters\n",
      "Saving The Book of the Thousand Nights and a Night — Volume 02 [Supplement] by Burton Richard Francis Sir 1821-1890 [Translator] containing 845_364 characters\n",
      "Saving The Gilded Age, Part 5. by Twain Mark 1835-1910; Warner Charles Dudley 1829-1900 containing 126_721 characters\n",
      "Saving The Adventure of the Red Circle by Doyle Arthur Conan 1859-1930 containing 40_120 characters\n",
      "Saving Adventures of Huckleberry Finn, Chapters 16 to 20 by Twain Mark 1835-1910 containing 94_756 characters\n",
      "Saving The Footpath Way: An Anthology for Walkers by Smith Sydney 1771-1845 [Contributor]; Belloc Hilaire 1870-1953 [Author of introduction etc.]; Borrow George 1803-1881 [Contributor]; Brown John 1810-1882 [Contributor]; Burroughs John 1837-1921 [Contributor]; De Quincey Thomas 1785-1859 [Contributor]; Dickens Charles 1812-1870 [Contributor]; Hazlitt William 1778-1830 [Contributor]; Scott Walter 1771-1832 [Contributor]; Stephen Leslie 1832-1904 [Contributor]; Stevenson Robert Louis 1850-1894 [Contributor]; Thoreau Henry David 1817-1862 [Contributor]; Walton Izaak 1593-1683 [Contributor]; Whitman Walt 1819-1892 [Contributor]; Wordsworth William 1770-1850 [Contributor] containing 289_221 characters\n",
      "Saving The Mystery of Edwin Drood by Dickens Charles 1812-1870 containing 539_928 characters\n",
      "Saving Elämän taistelu by Dickens Charles 1812-1870 containing 188_082 characters\n",
      "Saving A Connecticut Yankee in King Arthur's Court by Twain Mark 1835-1910 containing 0 characters\n",
      "Saving American Notes by Dickens Charles 1812-1870; Stone Marcus 1840-1921 [Illustrator] containing 590_938 characters\n",
      "Saving Los Ladrones de Londres by Dickens Charles 1812-1870; J. J. y C. [Translator] containing 652_823 characters\n",
      "Saving The Book of the Sword by Burton Richard Francis Sir 1821-1890 containing 1_046_103 characters\n",
      "Saving Oliver Twist by Dickens Charles 1812-1870 containing 893_154 characters\n",
      "finished 125/158\n",
      "Saving Following the Equator: A Journey Around the World. Part 6 by Twain Mark 1835-1910 containing 174_970 characters\n",
      "Saving The Lost World by Doyle Arthur Conan 1859-1930 containing 424_011 characters\n",
      "Saving A Budget of Christmas Tales by Charles Dickens and Others by Dickens Charles 1812-1870 [Contributor]; Collingwood Herbert W. Herbert Winslow 1857-1927 [Contributor]; Ewing Juliana Horatia 1841-1885 [Contributor]; Molesworth Mrs. 1839-1921 [Contributor]; Schayer Julia Thompson von Stosch 1840-1928 [Contributor]; Stowe Harriet Beecher 1811-1896 [Contributor]; Wilcox Ella Wheeler 1850-1919 [Contributor] containing 489_325 characters\n",
      "Saving Joulun-aatto by Dickens Charles 1812-1870; Churberg Waldemar 1848-1924 [Translator] containing 171_001 characters\n",
      "Saving Scenes and Characters from the Works of Charles Dickens\n",
      "Being Eight Hundred and Sixty-six Pictures Printed from the Original Wood Blocks by Barnard Frederick 1846-1896 [Illustrator]; Dickens Charles 1812-1870; Browne Hablot Knight 1815-1882 [Illustrator]; Dalziel Edward Gurdon 1849-1889 [Illustrator]; Fildes Luke Sir 1844-1927 [Illustrator]; Fraser Francis Arthur 1846-1924 [Illustrator]; French Henry active 1868-1875 [Illustrator]; Frost A. B. Arthur Burdett 1851-1928 [Illustrator]; Green Charles 1840-1898 [Illustrator]; Mahoney J. James 1816-1879 [Illustrator]; Ralston John McL. [Illustrator]; Thomson J. Gordon [Illustrator] containing 124_341 characters\n",
      "Saving A House to Let by Dickens Charles 1812-1870; Collins Wilkie 1824-1889; Gaskell Elizabeth Cleghorn 1810-1865; Procter Adelaide Anne 1825-1864 containing 185_039 characters\n",
      "Saving The British Campaign in France and Flanders, 1916 by Doyle Arthur Conan 1859-1930 containing 561_695 characters\n",
      "Saving A Child's Dream of a Star by Dickens Charles 1812-1870; Billings Hammatt 1818-1874 [Illustrator] containing 7_724 characters\n",
      "Saving Sir Nigel by Doyle Arthur Conan 1859-1930 containing 698_373 characters\n",
      "Saving The Tragedy of Pudd'nhead Wilson by Twain Mark 1835-1910 containing 294_728 characters\n",
      "Saving Round the Fire Stories by Doyle Arthur Conan 1859-1930; Castaigne J. André 1861-1929 [Illustrator] containing 561_108 characters\n",
      "Saving A Connecticut Yankee in King Arthur's Court, Part 4. by Twain Mark 1835-1910 containing 104_606 characters\n",
      "Saving The Stark Munro Letters\n",
      "Being series of twelve letters written by J. Stark Munro, M.B., to his friend and former fellow-student, Herbert Swanborough, of Lowell, Massachusetts, during the years 1881-1884 by Doyle Arthur Conan 1859-1930 containing 414_121 characters\n",
      "Saving The Valley of Fear by Doyle Arthur Conan 1859-1930 containing 313_043 characters\n",
      "Saving Eve's Diary, Part 3 by Twain Mark 1835-1910; Ralph Lester [Illustrator] containing 13_681 characters\n",
      "Saving What Is Man? and Other Essays by Twain Mark 1835-1910 containing 531_451 characters\n",
      "Saving A Duet, with an Occasional Chorus by Doyle Arthur Conan 1859-1930 containing 0 characters\n",
      "Saving Oliver Twist, Vol. 1 (of 3) by Dickens Charles 1812-1870; Cruikshank George 1792-1878 [Illustrator] containing 311_940 characters\n",
      "Saving L'ancien Figaro by Anonymous; Gaboriau Emile 1832-1873 [Annotator] containing 478_044 characters\n",
      "Saving Holiday Romance by Dickens Charles 1812-1870 containing 75_095 characters\n",
      "Saving The British Campaign in France and Flanders, 1915 by Doyle Arthur Conan 1859-1930 containing 423_200 characters\n",
      "Saving The Mysterious Stranger: A Romance by Twain Mark 1835-1910; Wyeth N. C. Newell Convers 1882-1945 [Illustrator] containing 200_113 characters\n",
      "Saving Les Aventures De Tom Sawyer by Twain Mark 1835-1910; Carner Josep 1884-1971 [Translator] containing 418_417 characters\n",
      "Saving Mark Twain's Speeches by Twain Mark 1835-1910 containing 0 characters\n",
      "Saving His Last Bow: An Epilogue of Sherlock Holmes by Doyle Arthur Conan 1859-1930 containing 323_842 characters\n",
      "finished 150/158\n",
      "Saving Memories and Adventures by Doyle Arthur Conan 1859-1930 containing 885_262 characters\n",
      "Saving The Great English Short-Story Writers, Volume 1 by Dawson W. J. William James 1854-1928 [Editor]; Brown John 1810-1882 [Contributor]; Defoe Daniel 1661?-1731 [Contributor]; Dickens Charles 1812-1870 [Contributor]; Hardy Thomas 1840-1928 [Contributor]; Harte Bret 1836-1902 [Contributor]; Hawthorne Nathaniel 1804-1864 [Contributor]; Hogg James 1770-1835 [Contributor]; Irving Washington 1783-1859 [Contributor]; James Henry 1843-1916 [Contributor]; Poe Edgar Allan 1809-1849 [Contributor]; Stevenson Robert Louis 1850-1894 [Contributor]; Stockton Frank R. 1834-1902 [Contributor]; Twain Mark 1835-1910 [Contributor]; Dawson Coningsby 1883-1959 [Editor] containing 483_115 characters\n",
      "Saving The Adventures of Gerard by Doyle Arthur Conan 1859-1930 containing 0 characters\n",
      "Saving Adventures of Huckleberry Finn, Chapters 31 to 35 by Twain Mark 1835-1910 containing 68_981 characters\n",
      "Saving Fenimore Cooper's Literary Offences by Twain Mark 1835-1910 containing 0 characters\n",
      "Saving The Hound of the Baskervilles by Doyle Arthur Conan 1859-1930 containing 318_611 characters\n",
      "Saving To The Gold Coast for Gold: A Personal Narrative. Vol. II by Burton Richard Francis Sir 1821-1890; Cameron Verney Lovett 1844-1894 containing 547_715 characters\n",
      "Saving A Christmas Carol by Dickens Charles 1812-1870 containing 0 characters\n"
     ]
    }
   ],
   "source": [
    "GUTENBERG_TEXT_URL = \"https://www.gutenberg.org/ebooks/{id}.txt.utf-8\"\n",
    "\n",
    "\n",
    "def book_text(book_id):\n",
    "    r = requests.get(GUTENBERG_TEXT_URL.format(id=book_id))\n",
    "    text = r.text\n",
    "    clean_text = strip_headers(text)\n",
    "    return clean_text\n",
    "\n",
    "data_path = Path(\"data/author_texts\")\n",
    "data_path.mkdir(exist_ok=True)\n",
    "\n",
    "count = 0\n",
    "for idx, book in books_for_training.iterrows():\n",
    "    if count%25 == 0:\n",
    "        print(f'finished {count}/{books_for_training.shape[0]}')\n",
    "    count += 1\n",
    "    id = book[\"Text#\"]\n",
    "    text = book_text(id)\n",
    "    print(f\"Saving {book['Title']} by {book['Authors_parsed']} containing {len(text):_} characters\")\n",
    "    with open(data_path / (id + \".txt\"), \"wt\") as f:\n",
    "        f.write(text)"
   ]
  },
  {
   "cell_type": "code",
   "execution_count": 18,
   "metadata": {},
   "outputs": [],
   "source": [
    "data_folder = Path(\"data/author_texts\")"
   ]
  },
  {
   "cell_type": "code",
   "execution_count": 19,
   "metadata": {},
   "outputs": [],
   "source": [
    "def clean_book(document):\n",
    "    lines = document.split(\"\\n\")\n",
    "    start= 0\n",
    "    end = len(lines)\n",
    "    for i in range(len(lines)):\n",
    "        line = lines[i]\n",
    "        if line.startswith(\"*** START OF THIS PROJECT GUTENBERG\"):\n",
    "            start = i + 1\n",
    "        elif line.startswith(\"*** END OF THIS PROJECT GUTENBERG\"):\n",
    "            end = i - 1\n",
    "    return \"\\n\".join(lines[start:end])"
   ]
  },
  {
   "cell_type": "code",
   "execution_count": 20,
   "metadata": {},
   "outputs": [
    {
     "name": "stdout",
     "output_type": "stream",
     "text": [
      "Text files: ['data/author_texts/8473.txt', 'data/author_texts/65044.txt', 'data/author_texts/922.txt', 'data/author_texts/50162.txt', 'data/author_texts/5785.txt', 'data/author_texts/59813.txt', 'data/author_texts/24026.txt', 'data/author_texts/61751.txt', 'data/author_texts/102.txt', 'data/author_texts/9021.txt', 'data/author_texts/3450.txt', 'data/author_texts/50361.txt', 'data/author_texts/11301.txt', 'data/author_texts/7154.txt', 'data/author_texts/9743.txt', 'data/author_texts/53254.txt', 'data/author_texts/65043.txt', 'data/author_texts/5838.txt', 'data/author_texts/66991.txt', 'data/author_texts/66952.txt', 'data/author_texts/675.txt', 'data/author_texts/18718.txt', 'data/author_texts/3441.txt', 'data/author_texts/8528.txt', 'data/author_texts/61193.txt', 'data/author_texts/66159.txt', 'data/author_texts/50164.txt', 'data/author_texts/7157.txt', 'data/author_texts/51252.txt', 'data/author_texts/17398.txt', 'data/author_texts/139.txt', 'data/author_texts/5813.txt', 'data/author_texts/37712.txt', 'data/author_texts/9557.txt', 'data/author_texts/3182.txt', 'data/author_texts/55091.txt', 'data/author_texts/9691.txt', 'data/author_texts/10446.txt', 'data/author_texts/35348.txt', 'data/author_texts/17314.txt', 'data/author_texts/52099.txt', 'data/author_texts/74248.txt', 'data/author_texts/564.txt', 'data/author_texts/3181.txt', 'data/author_texts/34652.txt', 'data/author_texts/809.txt', 'data/author_texts/5692.txt', 'data/author_texts/10135.txt', 'data/author_texts/17869.txt', 'data/author_texts/7245.txt', 'data/author_texts/9042.txt', 'data/author_texts/16021.txt', 'data/author_texts/52677.txt', 'data/author_texts/1422.txt', 'data/author_texts/58574.txt', 'data/author_texts/3180.txt', 'data/author_texts/3194.txt', 'data/author_texts/59336.txt', 'data/author_texts/3190.txt', 'data/author_texts/3184.txt', 'data/author_texts/824.txt', 'data/author_texts/70.txt', 'data/author_texts/45333.txt', 'data/author_texts/2852.txt', 'data/author_texts/48415.txt', 'data/author_texts/19841.txt', 'data/author_texts/19505.txt', 'data/author_texts/3178.txt', 'data/author_texts/2845.txt', 'data/author_texts/11588.txt', 'data/author_texts/62201.txt', 'data/author_texts/57721.txt', 'data/author_texts/15466.txt', 'data/author_texts/7104.txt', 'data/author_texts/2097.txt', 'data/author_texts/1415.txt', 'data/author_texts/8627.txt', 'data/author_texts/8633.txt', 'data/author_texts/1831.txt', 'data/author_texts/9706.txt', 'data/author_texts/1414.txt', 'data/author_texts/7105.txt', 'data/author_texts/52253.txt', 'data/author_texts/1748.txt', 'data/author_texts/14789.txt', 'data/author_texts/56586.txt', 'data/author_texts/20404.txt', 'data/author_texts/8618.txt', 'data/author_texts/8631.txt', 'data/author_texts/47529.txt', 'data/author_texts/9711.txt', 'data/author_texts/9739.txt', 'data/author_texts/7106.txt', 'data/author_texts/50109.txt', 'data/author_texts/6036.txt', 'data/author_texts/62140.txt', 'data/author_texts/2324.txt', 'data/author_texts/43207.txt', 'data/author_texts/1611.txt', 'data/author_texts/8621.txt', 'data/author_texts/1406.txt', 'data/author_texts/7103.txt', 'data/author_texts/4378.txt', 'data/author_texts/3198.txt', 'data/author_texts/3173.txt', 'data/author_texts/8583.txt', 'data/author_texts/8622.txt', 'data/author_texts/8623.txt', 'data/author_texts/3776.txt', 'data/author_texts/2326.txt', 'data/author_texts/3428.txt', 'data/author_texts/44620.txt', 'data/author_texts/70778.txt', 'data/author_texts/46285.txt', 'data/author_texts/37093.txt', 'data/author_texts/5837.txt', 'data/author_texts/4903.txt', 'data/author_texts/5836.txt', 'data/author_texts/5822.txt', 'data/author_texts/64384.txt', 'data/author_texts/25496.txt', 'data/author_texts/18717.txt', 'data/author_texts/20673.txt', 'data/author_texts/8719.txt', 'data/author_texts/917.txt', 'data/author_texts/730.txt', 'data/author_texts/30890.txt', 'data/author_texts/5798.txt', 'data/author_texts/74036.txt', 'data/author_texts/9029.txt', 'data/author_texts/28198.txt', 'data/author_texts/644.txt', 'data/author_texts/9558.txt', 'data/author_texts/59953.txt', 'data/author_texts/5148.txt', 'data/author_texts/69700.txt', 'data/author_texts/7159.txt', 'data/author_texts/69260.txt', 'data/author_texts/245.txt', 'data/author_texts/912.txt', 'data/author_texts/9010.txt', 'data/author_texts/1464.txt', 'data/author_texts/18506.txt', 'data/author_texts/38172.txt', 'data/author_texts/3070.txt', 'data/author_texts/8482.txt', 'data/author_texts/54109.txt', 'data/author_texts/5761.txt', 'data/author_texts/2350.txt', 'data/author_texts/2344.txt', 'data/author_texts/483.txt', 'data/author_texts/7200.txt', 'data/author_texts/2345.txt', 'data/author_texts/5760.txt', 'data/author_texts/42232.txt', 'data/author_texts/6533.txt', 'data/author_texts/69510.txt', 'data/author_texts/290.txt']\n"
     ]
    }
   ],
   "source": [
    "import os\n",
    "import glob\n",
    "\n",
    "txt_files = glob.glob('data/author_texts/*.txt')\n",
    "print(\"Text files:\", txt_files)\n"
   ]
  },
  {
   "cell_type": "code",
   "execution_count": 21,
   "metadata": {},
   "outputs": [],
   "source": [
    "# Import label encoder \n",
    "from sklearn import preprocessing \n",
    "\n",
    "label_encoder = preprocessing.LabelEncoder() \n",
    "books_for_training['Alternative_names_code']= label_encoder.fit_transform(books_for_training['Alternative_names']) \n",
    "  \n"
   ]
  },
  {
   "cell_type": "code",
   "execution_count": 22,
   "metadata": {},
   "outputs": [
    {
     "data": {
      "text/plain": [
       "(158, 158)"
      ]
     },
     "execution_count": 22,
     "metadata": {},
     "output_type": "execute_result"
    }
   ],
   "source": [
    "import numpy as np\n",
    "\n",
    "def load_books_data(folder=data_folder):\n",
    "    documents = []\n",
    "    authors = []\n",
    "    subfolders = [subfolder for subfolder in glob.glob('data/author_texts/*.txt')]\n",
    "    for _, subfolder in enumerate(subfolders):\n",
    "        id = subfolder.split('/')[-1][:-4]\n",
    "        class_val = int(books_for_training[books_for_training['Text#']==id]['Alternative_names_code'])\n",
    "        with open(subfolder) as inf:\n",
    "            documents.append(clean_book(inf.read()))\n",
    "            authors.append(class_val)\n",
    "    return documents, np.array(authors, dtype='int')\n",
    "\n",
    "documents, classes = load_books_data(data_folder)\n",
    "len(documents), len(classes)"
   ]
  },
  {
   "cell_type": "code",
   "execution_count": 23,
   "metadata": {},
   "outputs": [],
   "source": [
    "function_words = [\"a\", \"able\", \"aboard\", \"about\", \"above\", \"absent\",\n",
    "                  \"according\" , \"accordingly\", \"across\", \"after\", \"against\",\n",
    "                  \"ahead\", \"albeit\", \"all\", \"along\", \"alongside\", \"although\",\n",
    "                  \"am\", \"amid\", \"amidst\", \"among\", \"amongst\", \"amount\", \"an\",\n",
    "                    \"and\", \"another\", \"anti\", \"any\", \"anybody\", \"anyone\",\n",
    "                    \"anything\", \"are\", \"around\", \"as\", \"aside\", \"astraddle\",\n",
    "                    \"astride\", \"at\", \"away\", \"bar\", \"barring\", \"be\", \"because\",\n",
    "                    \"been\", \"before\", \"behind\", \"being\", \"below\", \"beneath\",\n",
    "                    \"beside\", \"besides\", \"better\", \"between\", \"beyond\", \"bit\",\n",
    "                    \"both\", \"but\", \"by\", \"can\", \"certain\", \"circa\", \"close\",\n",
    "                    \"concerning\", \"consequently\", \"considering\", \"could\",\n",
    "                    \"couple\", \"dare\", \"deal\", \"despite\", \"down\", \"due\", \"during\",\n",
    "                    \"each\", \"eight\", \"eighth\", \"either\", \"enough\", \"every\",\n",
    "                    \"everybody\", \"everyone\", \"everything\", \"except\", \"excepting\",\n",
    "                    \"excluding\", \"failing\", \"few\", \"fewer\", \"fifth\", \"first\",\n",
    "                    \"five\", \"following\", \"for\", \"four\", \"fourth\", \"from\", \"front\",\n",
    "                    \"given\", \"good\", \"great\", \"had\", \"half\", \"have\", \"he\",\n",
    "                    \"heaps\", \"hence\", \"her\", \"hers\", \"herself\", \"him\", \"himself\",\n",
    "                    \"his\", \"however\", \"i\", \"if\", \"in\", \"including\", \"inside\",\n",
    "                    \"instead\", \"into\", \"is\", \"it\", \"its\", \"itself\", \"keeping\",\n",
    "                    \"lack\", \"less\", \"like\", \"little\", \"loads\", \"lots\", \"majority\",\n",
    "                    \"many\", \"masses\", \"may\", \"me\", \"might\", \"mine\", \"minority\",\n",
    "                    \"minus\", \"more\", \"most\", \"much\", \"must\", \"my\", \"myself\",\n",
    "                    \"near\", \"need\", \"neither\", \"nevertheless\", \"next\", \"nine\",\n",
    "                    \"ninth\", \"no\", \"nobody\", \"none\", \"nor\", \"nothing\",\n",
    "                    \"notwithstanding\", \"number\", \"numbers\", \"of\", \"off\", \"on\",\n",
    "                    \"once\", \"one\", \"onto\", \"opposite\", \"or\", \"other\", \"ought\",\n",
    "                    \"our\", \"ours\", \"ourselves\", \"out\", \"outside\", \"over\", \"part\",\n",
    "                    \"past\", \"pending\", \"per\", \"pertaining\", \"place\", \"plenty\",\n",
    "                    \"plethora\", \"plus\", \"quantities\", \"quantity\", \"quarter\",\n",
    "                    \"regarding\", \"remainder\", \"respecting\", \"rest\", \"round\",\n",
    "                    \"save\", \"saving\", \"second\", \"seven\", \"seventh\", \"several\",\n",
    "                    \"shall\", \"she\", \"should\", \"similar\", \"since\", \"six\", \"sixth\",\n",
    "                    \"so\", \"some\", \"somebody\", \"someone\", \"something\", \"spite\",\n",
    "                    \"such\", \"ten\", \"tenth\", \"than\", \"thanks\", \"that\", \"the\",\n",
    "                    \"their\", \"theirs\", \"them\", \"themselves\", \"then\", \"thence\",\n",
    "                    \"therefore\", \"these\", \"they\", \"third\", \"this\", \"those\",\n",
    "                    \"though\", \"three\", \"through\", \"throughout\", \"thru\", \"thus\",\n",
    "                    \"till\", \"time\", \"to\", \"tons\", \"top\", \"toward\", \"towards\",\n",
    "                    \"two\", \"under\", \"underneath\", \"unless\", \"unlike\", \"until\",\n",
    "                    \"unto\", \"up\", \"upon\", \"us\", \"used\", \"various\", \"versus\",\n",
    "                    \"via\", \"view\", \"wanting\", \"was\", \"we\", \"were\", \"what\",\n",
    "                    \"whatever\", \"when\", \"whenever\", \"where\", \"whereas\",\n",
    "                    \"wherever\", \"whether\", \"which\", \"whichever\", \"while\",\n",
    "                    \"whilst\", \"who\", \"whoever\", \"whole\", \"whom\", \"whomever\",\n",
    "                    \"whose\", \"will\", \"with\", \"within\", \"without\", \"would\", \"yet\",\n",
    "                    \"you\", \"your\", \"yours\", \"yourself\", \"yourselves\"]"
   ]
  },
  {
   "cell_type": "code",
   "execution_count": 24,
   "metadata": {},
   "outputs": [],
   "source": [
    "from sklearn.feature_extraction.text import CountVectorizer\n",
    "extractor = CountVectorizer(vocabulary=function_words)"
   ]
  },
  {
   "cell_type": "code",
   "execution_count": 25,
   "metadata": {},
   "outputs": [],
   "source": [
    "\n",
    "from sklearn.svm import SVC\n",
    "from sklearn.model_selection import cross_val_score, GridSearchCV\n",
    "from sklearn.pipeline import Pipeline"
   ]
  },
  {
   "cell_type": "code",
   "execution_count": 26,
   "metadata": {},
   "outputs": [],
   "source": [
    "\n",
    "parameters = {'kernel':('linear', 'rbf'), 'C':[1, 10]}\n",
    "svr = SVC()\n",
    "grid = GridSearchCV(svr, parameters)"
   ]
  },
  {
   "cell_type": "code",
   "execution_count": 27,
   "metadata": {},
   "outputs": [],
   "source": [
    "pipeline1 = Pipeline([('feature_extraction', extractor),\n",
    "                      ('clf', grid)])"
   ]
  },
  {
   "cell_type": "code",
   "execution_count": 28,
   "metadata": {},
   "outputs": [
    {
     "name": "stderr",
     "output_type": "stream",
     "text": [
      "/Library/Frameworks/Python.framework/Versions/3.7/lib/python3.7/site-packages/sklearn/model_selection/_split.py:680: UserWarning: The least populated class in y has only 4 members, which is less than n_splits=5.\n",
      "  UserWarning,\n",
      "/Library/Frameworks/Python.framework/Versions/3.7/lib/python3.7/site-packages/sklearn/model_selection/_split.py:680: UserWarning: The least populated class in y has only 4 members, which is less than n_splits=5.\n",
      "  UserWarning,\n"
     ]
    }
   ],
   "source": [
    "from sklearn.model_selection import cross_val_score\n",
    "from sklearn.metrics import make_scorer,f1_score\n",
    "\n",
    "f1_ = make_scorer(f1_score, average='weighted')\n",
    "scores = cross_val_score(pipeline1, documents, classes, scoring=f1_)\n"
   ]
  },
  {
   "cell_type": "code",
   "execution_count": 29,
   "metadata": {},
   "outputs": [
    {
     "name": "stdout",
     "output_type": "stream",
     "text": [
      "0.5066009257894807\n"
     ]
    }
   ],
   "source": [
    "print(np.mean(scores))"
   ]
  },
  {
   "cell_type": "code",
   "execution_count": 30,
   "metadata": {},
   "outputs": [
    {
     "name": "stderr",
     "output_type": "stream",
     "text": [
      "/Library/Frameworks/Python.framework/Versions/3.7/lib/python3.7/site-packages/sklearn/model_selection/_split.py:680: UserWarning: The least populated class in y has only 4 members, which is less than n_splits=5.\n",
      "  UserWarning,\n",
      "/Library/Frameworks/Python.framework/Versions/3.7/lib/python3.7/site-packages/sklearn/model_selection/_split.py:680: UserWarning: The least populated class in y has only 4 members, which is less than n_splits=5.\n",
      "  UserWarning,\n"
     ]
    },
    {
     "name": "stdout",
     "output_type": "stream",
     "text": [
      "Score: 0.632\n"
     ]
    }
   ],
   "source": [
    "pipeline = Pipeline([('feature_extraction',\n",
    "                      CountVectorizer(analyzer='char', ngram_range=(3, 3))),\n",
    "                      ('classifier', grid)])\n",
    "scores = cross_val_score(pipeline, documents, classes, scoring=f1_)\n",
    "print(f\"Score: {np.mean(scores):.3f}\")"
   ]
  },
  {
   "cell_type": "code",
   "execution_count": null,
   "metadata": {},
   "outputs": [],
   "source": []
  }
 ],
 "metadata": {
  "kernelspec": {
   "display_name": "Python 3",
   "language": "python",
   "name": "python3"
  },
  "language_info": {
   "codemirror_mode": {
    "name": "ipython",
    "version": 3
   },
   "file_extension": ".py",
   "mimetype": "text/x-python",
   "name": "python",
   "nbconvert_exporter": "python",
   "pygments_lexer": "ipython3",
   "version": "3.7.0"
  }
 },
 "nbformat": 4,
 "nbformat_minor": 2
}
