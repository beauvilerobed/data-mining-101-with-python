{
 "cells": [
  {
   "cell_type": "markdown",
   "metadata": {},
   "source": [
    "# Clustering News Articles\n",
    "\n",
    "In most of the previous chapters, we performed data mining knowing what we\n",
    "were looking for. Our use of target classes allowed us to learn how our variables\n",
    "model those targets during the training phase. This type of learning, where we have\n",
    "targets to train against, is called **supervised learning**. In this chapter, we consider\n",
    "what we do without those targets. This is **unsupervised learning** and is much more\n",
    "of an exploratory task. Rather than wanting to classify with our model, the goal in\n",
    "unsupervised learning is more about exploring the data to find insights.\n",
    "\n",
    "In this chapter, we look at clustering news articles to find trends and patterns in\n",
    "the data. We look at how we can extract data from different websites using a link\n",
    "aggregation website to show a variety of news stories.\n",
    "\n",
    "The key concepts covered in this chapter include:\n",
    "- Obtaining text from arbitrary websites\n",
    "- Using the reddit API to collect interesting news stories\n",
    "- Cluster analysis for unsupervised data mining\n",
    "- Extracting topics from documents\n",
    "- Online learning for updating a model without retraining it\n",
    "- Cluster ensembling to combine different models"
   ]
  },
  {
   "cell_type": "markdown",
   "metadata": {},
   "source": []
  }
 ],
 "metadata": {
  "language_info": {
   "name": "python"
  }
 },
 "nbformat": 4,
 "nbformat_minor": 2
}
