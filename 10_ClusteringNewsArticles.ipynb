{
 "cells": [
  {
   "cell_type": "markdown",
   "metadata": {},
   "source": [
    "# Clustering News Articles\n",
    "\n",
    "Previously, we performed data mining knowing what we were looking for. Our use of target classes allowed us to learn how our variables model those targets during the training phase. This type of learning, where we have targets to train against, is called **supervised learning**. Here, we consider what we do without those targets. This is **unsupervised learning** and is much more of an exploratory task. Rather than wanting to classify with our model, the goal in unsupervised learning is more about exploring the data to find insights.\n",
    "\n",
    "We will look at clustering news articles to find trends and patterns in the data. We look at how we can extract data from different websites using a link aggregation website to show a variety of news stories.\n",
    "\n",
    "The key concepts covered in this chapter include:\n",
    "- Obtaining text from arbitrary websites\n",
    "- Using the reddit API to collect interesting news stories\n",
    "- Cluster analysis for unsupervised data mining\n",
    "- Extracting topics from documents\n",
    "- Online learning for updating a model without retraining it\n",
    "- Cluster ensembling to combine different models\n",
    "\n",
    "## Obtaining news articles\n",
    "\n",
    "We will build a system that takes a news articles and groups them together, where the groups have similar topics. Our goal is to generate fake news articles in python and then cluster them to\n",
    "see any major themes or concepts that occur.\n",
    "\n",
    "## Generate news articles"
   ]
  },
  {
   "cell_type": "code",
   "execution_count": 1,
   "metadata": {},
   "outputs": [],
   "source": [
    "import faker\n",
    "import random\n",
    "from datetime import datetime, timedelta"
   ]
  },
  {
   "cell_type": "code",
   "execution_count": 2,
   "metadata": {},
   "outputs": [],
   "source": [
    "fake = faker.Faker()"
   ]
  },
  {
   "cell_type": "markdown",
   "metadata": {},
   "source": [
    "## Create articles with indicators\n",
    "\n",
    "We will create fake articles with indicators, i.e. a string of words that only occur in a select few articles. Idealy we will create 6 clusters with 6 indicators that is a sample of 3 words from a list of popular words. In our case we use the words:\n",
    "\n",
    "```\n",
    "danish,cheesecake,sugar,\n",
    "Lollipop,wafer,Gummies,\n",
    "sesame,Jelly,beans,\n",
    "pie,bar,Ice,oat \n",
    "```\n",
    "\n",
    "**Note**: Indicators are a simple way of creating trivial clusters. This is for learning purposes and in real life it is hard to find these indicator and may not exist."
   ]
  },
  {
   "cell_type": "code",
   "execution_count": 3,
   "metadata": {},
   "outputs": [
    {
     "name": "stdout",
     "output_type": "stream",
     "text": [
      "Indicator 0 ['bar', 'cheesecake', 'danish']:\n",
      "Indicator 1 ['Ice', 'wafer', 'Lollipop']:\n",
      "Indicator 2 ['Lollipop', 'sugar', 'cheesecake']:\n",
      "Indicator 3 ['bar', 'Ice', 'beans']:\n",
      "Indicator 4 ['cheesecake', 'pie', 'sesame']:\n",
      "Indicator 5 ['danish', 'oat', 'cheesecake']:\n"
     ]
    }
   ],
   "source": [
    "random.seed(42)\n",
    "\n",
    "sample_size = 3\n",
    "num_of_iters = 6\n",
    "samples = []\n",
    "\n",
    "my_word_list = [\n",
    "    'danish','cheesecake','sugar',\n",
    "    'Lollipop','wafer','Gummies',\n",
    "    'sesame','Jelly','beans',\n",
    "    'pie','bar','Ice','oat' ]\n",
    "\n",
    "for _ in range(num_of_iters):\n",
    "    random_sample = random.sample(my_word_list, sample_size)\n",
    "    samples.append(random_sample)\n",
    "\n",
    "for i, sample in enumerate(samples):\n",
    "    print(f\"Indicator {i} {sample}:\")\n"
   ]
  },
  {
   "cell_type": "code",
   "execution_count": 4,
   "metadata": {},
   "outputs": [],
   "source": [
    "def generate_title():\n",
    "    max_words = 5  # Maximum number of words\n",
    "    num_words = random.randint(1, max_words)\n",
    "    return ' '.join(fake.word() for _ in range(num_words))\n",
    "\n",
    "def generate_author():\n",
    "    return f\"{fake.first_name()} {fake.last_name()}\"\n",
    "\n",
    "def generate_content(sample, num_indicators=1):\n",
    "    lines = []\n",
    "    for _ in range(300):\n",
    "        lines.append(fake.text())\n",
    "    # here is where we insert the indicators in the fake article\n",
    "    for _ in range(num_indicators):\n",
    "        lines.append(fake.sentence(ext_word_list=sample))\n",
    "    \n",
    "    random.shuffle(lines)\n",
    "    text = '/n'.join(lines)\n",
    "\n",
    "    return text"
   ]
  },
  {
   "cell_type": "code",
   "execution_count": 5,
   "metadata": {},
   "outputs": [],
   "source": [
    "def generate_article(samples, num_indicators=1):\n",
    "    docs = []\n",
    "    for sample in samples:\n",
    "\n",
    "        title = generate_title()\n",
    "        author = generate_author()\n",
    "        content = generate_content(sample, num_indicators)\n",
    "\n",
    "        article = f\"\"\"\n",
    "        Title: {title}\n",
    "        Author: {author}\n",
    "        {content}\n",
    "        \"\"\"\n",
    "        docs.append(article)\n",
    "\n",
    "    return docs\n",
    "\n",
    "def return_docs(return_docs=60, num_indicators=1):\n",
    "    dcuments = []\n",
    "    for _ in range(return_docs):\n",
    "        # this should return 6 articles with 6 indicators\n",
    "        dcuments += generate_article(samples, num_indicators)\n",
    "    # this should return 6*60=360 (by default) articles with 6 indicators\n",
    "    return dcuments"
   ]
  },
  {
   "cell_type": "code",
   "execution_count": 6,
   "metadata": {},
   "outputs": [
    {
     "name": "stdout",
     "output_type": "stream",
     "text": [
      "360\n"
     ]
    }
   ],
   "source": [
    "documents = return_docs(num_indicators=10)\n",
    "print(len(documents))"
   ]
  },
  {
   "cell_type": "code",
   "execution_count": 7,
   "metadata": {},
   "outputs": [
    {
     "name": "stdout",
     "output_type": "stream",
     "text": [
      "\n",
      "        Title: fear I\n",
      "        Author: Mark Hicks\n",
      "        Author beautiful huge little develop specific along plant. Usually woman stay kind.\n",
      "Mention cultural risk college mission dream also. Million certain beat firm well wish throughout./nStart fast among risk college.\n",
      "Area well seven source among ten why. Table though window statement./nNational under along after. Though white six responsibilit\n"
     ]
    }
   ],
   "source": [
    "print(documents[0][:400])"
   ]
  },
  {
   "cell_type": "markdown",
   "metadata": {},
   "source": [
    "## Grouping news articles\n",
    "\n",
    "The aim is to discover trends in news articles by clustering, or grouping, them together. To do that, we will use the k-means algorithm, a classic machine-learning algorithm originally developed in 1957.\n",
    "\n",
    "Clustering is an unsupervised learning technique and we use clustering algorithms for exploring data. Our dataset contains approximately 360 stories, and it would be quite arduous to examine each of those stories individually. Even if we used summary statistics, that is still a lot of data. Using clustering allows us to group similar stories together, and we can explore the themes in each cluster independently.\n",
    "\n",
    "We use clustering techniques when we don't have a clear set of target classes for our data. In that sense, clustering algorithms have little direction in their learning. They learn according to some function, regardless of the underlying meaning of the data. For this reason, it is critical to choose good features. In supervised learning, if you choose poor features, the learning algorithm can choose to not use those features. For instance, support vector machines will give little weight to features that aren't useful in classification. However, with clustering, all features are used in the final result—even if those features don't provide us with the answer we were looking for.\n",
    "\n",
    "When performing cluster analysis on real-world data, it is always a good idea to have a sense of what sorts of features will work for your scenario. We will use the bag-of-words model. We are looking for topic-based groups, so we will use topic-based features to model the documents. We know those features work because of the work others have done in supervised versions of our problem. In contrast, if we were to perform an authorship-based clustering, we would use features such as those found in 9, Authorship Attribution experiment."
   ]
  },
  {
   "cell_type": "markdown",
   "metadata": {},
   "source": [
    "## The k-means algorithm\n",
    "\n",
    "The k-means clustering algorithm finds **centroids** that best represent the data using an iterative process. The algorithm starts with a predefined set of centroids, which are normally data points taken from the training data. The $k$ in k-means is the number of centroids to look for and how many clusters the algorithm will find. For instance, setting k to 3 will find three clusters in the dataset.\n",
    "\n",
    "There are two phases to the k-means: assignment and updating.\n",
    "\n",
    "- First, we set a label to every sample in the dataset linking it to the nearest centroid. \n",
    "    - For each sample nearest to centroid 1, we assign the label 1. \n",
    "    - For each sample nearest to centroid 2, we assign a label 2 and so on for each of the k centroids. \n",
    "    - We say that each data point with the label 1 is in cluster 1 (at this time only, as assignments can change as the algorithm runs).\n",
    "- In the updating step, we take each of the clusters and compute the centroid, which is the mean of all of the samples in that cluster.\n",
    "\n",
    "The algorithm then iterates between the assignment step and the updating step; each time the updating step occurs, each of the centroids moves a small amount. This causes the assignments to change slightly, causing the centroids to move a small amount in\n",
    "the next iteration. This repeats until some stopping criterion is reached. It is common to stop after a certain number of iterations, or when the total movement of the centroids is very low. The algorithm can also complete in some scenarios, which means that the\n",
    "clusters are stable—the assignments do not change and neither do the centroids.\n",
    "\n",
    "The k-means algorithm is fascinating for its mathematical properties and historical significance. It is an algorithm that (roughly) only has a single parameter, and is quite effective and frequently used, even more than 50 years after its discovery.\n",
    "\n",
    "There is a k-means algorithm in scikit-learn, which we import from the cluster\n",
    "subpackage:"
   ]
  },
  {
   "cell_type": "code",
   "execution_count": 8,
   "metadata": {},
   "outputs": [],
   "source": [
    "from sklearn.cluster import KMeans\n",
    "from sklearn.feature_extraction.text import CountVectorizer, TfidfVectorizer"
   ]
  },
  {
   "cell_type": "code",
   "execution_count": 9,
   "metadata": {},
   "outputs": [],
   "source": [
    "from sklearn.pipeline import Pipeline\n",
    "\n",
    "n_clusters = 10\n",
    "pipeline = Pipeline([('feature_extraction', TfidfVectorizer(max_df=0.4)),\n",
    "                     ('clusterer', KMeans(n_clusters=n_clusters))])\n"
   ]
  },
  {
   "cell_type": "markdown",
   "metadata": {},
   "source": [
    "## Evaluating the results\n",
    "\n",
    "Clustering is mainly an exploratory analysis, and therefore it is difficult to evaluate a clustering algorithm's results effectively. A straightforward way is to evaluate the algorithm based on the criteria the algorithm tries to learn from.\n",
    "\n",
    "In the case of the k-means algorithm, the criterion that it uses when developing the centroids is to minimize the distance from each sample to its nearest centroid. This is called the **inertia** of the algorithm and can be retrieved from any KMeans instance that has had fit called on it:"
   ]
  },
  {
   "cell_type": "code",
   "execution_count": 10,
   "metadata": {},
   "outputs": [
    {
     "name": "stdout",
     "output_type": "stream",
     "text": [
      "Cluster 0 contains 60 samples\n",
      "Cluster 1 contains 48 samples\n",
      "Cluster 2 contains 29 samples\n",
      "Cluster 3 contains 41 samples\n",
      "Cluster 4 contains 60 samples\n",
      "Cluster 5 contains 4 samples\n",
      "Cluster 6 contains 12 samples\n",
      "Cluster 7 contains 31 samples\n",
      "Cluster 8 contains 56 samples\n",
      "Cluster 9 contains 19 samples\n"
     ]
    }
   ],
   "source": [
    "pipeline.fit(documents)\n",
    "labels = pipeline.predict(documents)\n",
    "\n",
    "from collections import Counter\n",
    "c = Counter(labels)\n",
    "for cluster_number in range(n_clusters):\n",
    "    print(\"Cluster {} contains {} samples\".format(cluster_number, c[cluster_number]))"
   ]
  },
  {
   "cell_type": "code",
   "execution_count": 11,
   "metadata": {},
   "outputs": [
    {
     "data": {
      "text/plain": [
       "60"
      ]
     },
     "execution_count": 11,
     "metadata": {},
     "output_type": "execute_result"
    }
   ],
   "source": [
    "c[0]"
   ]
  },
  {
   "cell_type": "code",
   "execution_count": 12,
   "metadata": {},
   "outputs": [
    {
     "data": {
      "text/plain": [
       "127.39709236494782"
      ]
     },
     "execution_count": 12,
     "metadata": {},
     "output_type": "execute_result"
    }
   ],
   "source": [
    "pipeline.named_steps['clusterer'].inertia_"
   ]
  },
  {
   "cell_type": "markdown",
   "metadata": {},
   "source": [
    "Unfortunately, this value is quite meaningless by itself, but we can use it to determine how many clusters we should use. In\n",
    "the preceding example, we set `n_clusters` to 10, but is this the best value? The following code runs the k-means algorithm 10 times with each value of n_clusters from 2 to 15. For each run, it records the inertia of the result. "
   ]
  },
  {
   "cell_type": "code",
   "execution_count": 13,
   "metadata": {},
   "outputs": [
    {
     "name": "stdout",
     "output_type": "stream",
     "text": [
      "starting n_clusster: 2\n",
      "finished 15/30\n",
      "starting n_clusster: 3\n",
      "finished 15/30\n",
      "starting n_clusster: 4\n",
      "finished 15/30\n",
      "starting n_clusster: 5\n",
      "finished 15/30\n",
      "starting n_clusster: 6\n",
      "finished 15/30\n",
      "starting n_clusster: 7\n",
      "finished 15/30\n",
      "starting n_clusster: 8\n",
      "finished 15/30\n",
      "starting n_clusster: 9\n",
      "finished 15/30\n",
      "starting n_clusster: 10\n",
      "finished 15/30\n",
      "starting n_clusster: 11\n",
      "finished 15/30\n",
      "starting n_clusster: 12\n",
      "finished 15/30\n",
      "starting n_clusster: 13\n",
      "finished 15/30\n",
      "starting n_clusster: 14\n",
      "finished 15/30\n"
     ]
    }
   ],
   "source": [
    "import numpy as np\n",
    "\n",
    "inertia_scores = []\n",
    "n_cluster_values = list(range(2, 15))\n",
    "for n_clusters in n_cluster_values:\n",
    "    print(f'starting n_clusster: {n_clusters}')\n",
    "    cur_inertia_scores = []\n",
    "    X = TfidfVectorizer(max_df=0.4).fit_transform(documents)\n",
    "    for i in range(30):\n",
    "        if (i%15 == 0) & (i > 0):\n",
    "            print(f'finished {i}/30')\n",
    "        km = KMeans(n_clusters=n_clusters).fit(X)\n",
    "        cur_inertia_scores.append(km.inertia_)\n",
    "    inertia_scores.append(cur_inertia_scores)\n",
    "inertia_scores = np.array(inertia_scores)"
   ]
  },
  {
   "cell_type": "markdown",
   "metadata": {},
   "source": [
    "The `inertia_scores` variable now contains a list of inertia scores for each `n_clusters` value between 2 and 15. We can plot this to get a sense of how this value interacts with n_clusters:"
   ]
  },
  {
   "cell_type": "code",
   "execution_count": 14,
   "metadata": {},
   "outputs": [
    {
     "data": {
      "image/png": "[encoded data removed]",
      "text/plain": [
       "<Figure size 2880x1440 with 1 Axes>"
      ]
     },
     "metadata": {
      "needs_background": "light"
     },
     "output_type": "display_data"
    }
   ],
   "source": [
    "%matplotlib inline\n",
    "from matplotlib import pyplot as plt\n",
    "\n",
    "inertia_means = np.mean(inertia_scores, axis=1)\n",
    "inertia_stderr = np.std(inertia_scores, axis=1)\n",
    "\n",
    "fig = plt.figure(figsize=(40,20))\n",
    "plt.errorbar(n_cluster_values, inertia_means, inertia_stderr, color='green')\n",
    "plt.show()"
   ]
  },
  {
   "cell_type": "markdown",
   "metadata": {},
   "source": [
    "Overall, the value of the inertia should decrease with reducing improvement as the number of clusters improves, which we can broadly see from these results. The increase between values of 6 to 7 is due only to the randomness in selecting the centroids, which directly affect how good the final results are. Despite this, there is a general trend (in these results; your results may vary) that about 6 clusters is the last time a major improvement in the inertia occurred. \n",
    "\n",
    "After this point, only slight improvements are made to the inertia, although it is hard to be specific about vague criteria such as this. Looking for this type of pattern is called the elbow rule, in that we are looking for an elbow-esque bend in the graph. Some datasets have more pronounced elbows, but this feature isn't guaranteed to even appear (some graphs may be smooth!). Based on this analysis, we set n_clusters to be 6 and then rerun the algorithm:"
   ]
  },
  {
   "cell_type": "code",
   "execution_count": 15,
   "metadata": {},
   "outputs": [
    {
     "data": {
      "text/plain": [
       "Pipeline(steps=[('feature_extraction', TfidfVectorizer(max_df=0.4)),\n",
       "                ('clusterer', KMeans(n_clusters=6))])"
      ]
     },
     "execution_count": 15,
     "metadata": {},
     "output_type": "execute_result"
    }
   ],
   "source": [
    "n_clusters = 6\n",
    "\n",
    "pipeline = Pipeline([('feature_extraction', TfidfVectorizer(max_df=0.4)),\n",
    "                     ('clusterer', KMeans(n_clusters=n_clusters))\n",
    "                     ])\n",
    "pipeline.fit(documents)"
   ]
  },
  {
   "cell_type": "code",
   "execution_count": 16,
   "metadata": {},
   "outputs": [],
   "source": [
    "labels = pipeline.predict(documents)"
   ]
  },
  {
   "cell_type": "markdown",
   "metadata": {},
   "source": [
    "## Extracting topic information from clusters\n",
    "\n",
    "Now we set our sights on the clusters in an attempt to discover the topics in each. We first extract the term list from our feature extraction step:"
   ]
  },
  {
   "cell_type": "code",
   "execution_count": 18,
   "metadata": {},
   "outputs": [
    {
     "name": "stdout",
     "output_type": "stream",
     "text": [
      "Cluster 0 contains 60 samples\n",
      "  Most important terms\n",
      "  1) danish (score: 0.5455)\n",
      "  2) ndanish (score: 0.1222)\n",
      "  3) nstandard (score: 0.0222)\n",
      "  4) npretty (score: 0.0213)\n",
      "  5) nnear (score: 0.0209)\n",
      "\n",
      "Cluster 1 contains 60 samples\n",
      "  Most important terms\n",
      "  1) beans (score: 0.5807)\n",
      "  2) ice (score: 0.4312)\n",
      "  3) nbeans (score: 0.1307)\n",
      "  4) nfull (score: 0.0169)\n",
      "  5) nreligious (score: 0.0166)\n",
      "\n",
      "Cluster 2 contains 60 samples\n",
      "  Most important terms\n",
      "  1) sesame (score: 0.5607)\n",
      "  2) pie (score: 0.5147)\n",
      "  3) npie (score: 0.1375)\n",
      "  4) nsesame (score: 0.1171)\n",
      "  5) ntrial (score: 0.0160)\n",
      "\n",
      "Cluster 3 contains 60 samples\n",
      "  Most important terms\n",
      "  1) sugar (score: 0.5803)\n",
      "  2) lollipop (score: 0.4247)\n",
      "  3) nsugar (score: 0.1395)\n",
      "  4) nlollipop (score: 0.0917)\n",
      "  5) nbad (score: 0.0182)\n",
      "\n",
      "Cluster 4 contains 60 samples\n",
      "  Most important terms\n",
      "  1) oat (score: 0.5631)\n",
      "  2) danish (score: 0.4548)\n",
      "  3) noat (score: 0.1342)\n",
      "  4) ndanish (score: 0.0995)\n",
      "  5) nwar (score: 0.0173)\n",
      "\n",
      "Cluster 5 contains 60 samples\n",
      "  Most important terms\n",
      "  1) wafer (score: 0.5330)\n",
      "  2) ice (score: 0.3998)\n",
      "  3) lollipop (score: 0.3904)\n",
      "  4) nwafer (score: 0.1208)\n",
      "  5) nlollipop (score: 0.0944)\n",
      "\n"
     ]
    }
   ],
   "source": [
    "\n",
    "c = Counter(labels)\n",
    "\n",
    "terms = pipeline.named_steps['feature_extraction'].get_feature_names_out()\n",
    "\n",
    "for cluster_number in range(n_clusters):\n",
    "    print(\"Cluster {} contains {} samples\".format(cluster_number, c[cluster_number]))\n",
    "    print(\"  Most important terms\")\n",
    "    centroid = pipeline.named_steps['clusterer'].cluster_centers_[cluster_number]\n",
    "    most_important = centroid.argsort()\n",
    "    for i in range(5):\n",
    "        term_index = most_important[-(i+1)]\n",
    "        print(\"  {0}) {1} (score: {2:.4f})\".format(i+1, terms[term_index], centroid[term_index]))\n",
    "    print()"
   ]
  },
  {
   "cell_type": "markdown",
   "metadata": {},
   "source": [
    "The results can be quite indicative of current trends. In my results (March 2015),\n",
    "the clusters correspond to health matters, Middle East tensions, Korean tensions,\n",
    "and Russian affairs. These were the main topics frequenting news around this\n",
    "time—although this has hardly changed for a number of years!\n",
    "\n",
    "## Using clustering algorithms as transformers\n",
    "\n",
    "As a side note, one interesting property about the k-means algorithm (and any\n",
    "clustering algorithm) is that you can use it for feature reduction. There are many\n",
    "methods to reduce the number of features (or create new features to embed the\n",
    "dataset on), such as Principle Component Analysis, Latent Semantic Indexing, and\n",
    "many others. One issue with many of these algorithms is that they often need lots\n",
    "of computing power.\n",
    "\n",
    "In the preceding example, the terms list had more than 14,000 entries in it—it is\n",
    "quite a large dataset. Our k-means algorithm transformed these into just six clusters.\n",
    "We can then create a dataset with a much lower number of features by taking the\n",
    "distance to each centroid as a feature. The code is as follows:\n",
    "\n",
    "To do this, we call the transform function on a KMeans instance. Our pipeline is fit\n",
    "for this purpose, as it has a k-means instance at the end:"
   ]
  },
  {
   "cell_type": "code",
   "execution_count": null,
   "metadata": {},
   "outputs": [],
   "source": [
    "for sample in samples:\n",
    "    print(sample)"
   ]
  },
  {
   "cell_type": "code",
   "execution_count": null,
   "metadata": {},
   "outputs": [],
   "source": [
    "from sklearn.metrics import silhouette_score\n",
    "X = pipeline.named_steps['feature_extraction'].transform(documents)\n",
    "silhouette_score(X, labels)"
   ]
  },
  {
   "cell_type": "code",
   "execution_count": null,
   "metadata": {},
   "outputs": [],
   "source": [
    "len(terms)"
   ]
  },
  {
   "cell_type": "code",
   "execution_count": null,
   "metadata": {},
   "outputs": [],
   "source": [
    "Y = pipeline.transform(documents) "
   ]
  },
  {
   "cell_type": "code",
   "execution_count": null,
   "metadata": {},
   "outputs": [],
   "source": [
    "km = KMeans(n_clusters=n_clusters)\n",
    "labels = km.fit_predict(Y)"
   ]
  },
  {
   "cell_type": "code",
   "execution_count": null,
   "metadata": {},
   "outputs": [],
   "source": [
    "c = Counter(labels)\n",
    "for cluster_number in range(n_clusters):\n",
    "    print(\"Cluster {} contains {} samples\".format(cluster_number, c[cluster_number]))"
   ]
  },
  {
   "cell_type": "code",
   "execution_count": null,
   "metadata": {},
   "outputs": [],
   "source": [
    "silhouette_score(Y, labels)"
   ]
  },
  {
   "cell_type": "code",
   "execution_count": null,
   "metadata": {},
   "outputs": [],
   "source": [
    "Y.shape"
   ]
  },
  {
   "cell_type": "markdown",
   "metadata": {},
   "source": [
    "## Clustering ensembles\n",
    "In Chapter 3, Predicting Sports Winners with Decision Trees, we looked at a classification\n",
    "ensemble using the random forest algorithm, which is an ensemble of many lowquality, tree-based classifiers. Ensembling can also be performed using clustering\n",
    "algorithms. One of the key reasons for doing this is to smooth the results from many\n",
    "runs of an algorithm. As we saw before, the results from running k-means are varied,\n",
    "depending on the selection of the initial centroids. Variation can be reduced by\n",
    "running the algorithm many times and then combining the results.\n",
    "\n",
    "Ensembling also reduces the effects of choosing parameters on the final result.\n",
    "Most clustering algorithms are quite sensitive to the parameter values chosen for\n",
    "the algorithm. Choosing slightly different parameters results in different clusters."
   ]
  },
  {
   "cell_type": "markdown",
   "metadata": {},
   "source": [
    "## Evidence accumulation\n",
    "\n",
    "As a basic ensemble, we can first cluster the data many times and record the labels\n",
    "from each run. We then record how many times each pair of samples was clustered\n",
    "together in a new matrix. This is the essence of the Evidence Accumulation\n",
    "Clustering (EAC) algorithm.\n",
    "\n",
    "EAC has two major steps. The first step is to cluster the data many times using\n",
    "a lower-level clustering algorithm such as k-means and record the frequency\n",
    "that samples were in the same cluster, in each iteration. This is stored in a\n",
    "coassociation matrix. The second step is to perform a cluster analysis on the\n",
    "resulting coassociation matrix, which is performed using another type of\n",
    "clustering algorithm called hierarchical clustering. This has an interesting property,\n",
    "as it is mathematically the same as finding a tree that links all the nodes together\n",
    "and removing weak links.\n",
    "\n",
    "We can create a coassociation matrix from an array of labels by iterating over\n",
    "each of the labels and recording where two samples have the same label. We use\n",
    "SciPy's csr_matrix, which is a type of sparse matrix:"
   ]
  },
  {
   "cell_type": "code",
   "execution_count": null,
   "metadata": {},
   "outputs": [],
   "source": [
    "from scipy.sparse import csr_matrix\n",
    "\n",
    "\n",
    "def create_coassociation_matrix(labels):\n",
    "    rows = []\n",
    "    cols = []\n",
    "    unique_labels = set(labels)\n",
    "    for label in unique_labels:\n",
    "        indices = np.where(labels == label)[0]\n",
    "        for index1 in indices:\n",
    "            for index2 in indices:\n",
    "                rows.append(index1)\n",
    "                cols.append(index2)\n",
    "    data = np.ones((len(rows),))\n",
    "    return csr_matrix((data, (rows, cols)), dtype='float')\n"
   ]
  },
  {
   "cell_type": "code",
   "execution_count": null,
   "metadata": {},
   "outputs": [],
   "source": [
    "C = create_coassociation_matrix(labels)"
   ]
  },
  {
   "cell_type": "markdown",
   "metadata": {},
   "source": [
    "From here, we can add multiple instances of these matrices together. This allows us\n",
    "to combine the results from multiple runs of k-means. Printing out C (just enter C\n",
    "into a new cell and run it) will tell you how many cells have nonzero values in them.\n",
    "In my case, about half of the cells had values in them, as my clustering result had a\n",
    "large cluster (the more even the clusters, the lower the number of nonzero values).\n",
    "\n",
    "The next step involves the hierarchical clustering of the coassociation matrix. We will\n",
    "do this by finding minimum spanning trees on this matrix and removing edges with\n",
    "a weight lower than a given threshold.\n",
    "\n",
    "In graph theory, a spanning tree is a set of edges on a graph that connects all of the\n",
    "nodes together. The Minimum Spanning Tree (MST) is simply the spanning tree\n",
    "with the lowest total weight. For our application, the nodes in our graph are samples\n",
    "from our dataset, and the edge weights are the number of times those two samples\n",
    "were clustered together—that is, the value from our coassociation matrix.\n",
    "\n",
    "In the following figure, a MST on a graph of six nodes is shown. Nodes on the graph\n",
    "can be used more than once in the MST. The only criterion for a spanning tree is that\n",
    "all nodes should be connected together."
   ]
  },
  {
   "cell_type": "code",
   "execution_count": null,
   "metadata": {},
   "outputs": [],
   "source": [
    "C"
   ]
  },
  {
   "cell_type": "code",
   "execution_count": null,
   "metadata": {},
   "outputs": [],
   "source": [
    "C.shape, C.shape[0] * C.shape[1]"
   ]
  },
  {
   "cell_type": "code",
   "execution_count": null,
   "metadata": {},
   "outputs": [],
   "source": [
    "len(C.nonzero()[0]) / (C.shape[0] * C.shape[1])"
   ]
  },
  {
   "cell_type": "code",
   "execution_count": null,
   "metadata": {},
   "outputs": [],
   "source": [
    "from scipy.sparse.csgraph import minimum_spanning_tree"
   ]
  },
  {
   "cell_type": "code",
   "execution_count": null,
   "metadata": {},
   "outputs": [],
   "source": [
    "mst = minimum_spanning_tree(C)"
   ]
  },
  {
   "cell_type": "code",
   "execution_count": null,
   "metadata": {},
   "outputs": [],
   "source": [
    "mst"
   ]
  },
  {
   "cell_type": "code",
   "execution_count": null,
   "metadata": {},
   "outputs": [],
   "source": [
    "pipeline = Pipeline([('feature_extraction', TfidfVectorizer(max_df=0.4)),\n",
    "                     ('clusterer', KMeans(n_clusters=3))\n",
    "                     ])\n",
    "pipeline.fit(documents)\n",
    "labels2 = pipeline.predict(documents)\n",
    "C2 = create_coassociation_matrix(labels2)"
   ]
  },
  {
   "cell_type": "code",
   "execution_count": null,
   "metadata": {},
   "outputs": [],
   "source": [
    "\n",
    "C_sum = (C + C2) / 2\n",
    "#C_sum.data = C_sum.data\n",
    "C_sum.todense()"
   ]
  },
  {
   "cell_type": "code",
   "execution_count": null,
   "metadata": {},
   "outputs": [],
   "source": [
    "mst = minimum_spanning_tree(-C_sum)\n",
    "mst"
   ]
  },
  {
   "cell_type": "code",
   "execution_count": null,
   "metadata": {},
   "outputs": [],
   "source": [
    "\n",
    "#mst.data[mst.data < 1] = 0\n",
    "mst.data[mst.data > -1] = 0\n",
    "mst.eliminate_zeros()\n",
    "mst"
   ]
  },
  {
   "cell_type": "markdown",
   "metadata": {},
   "source": [
    "We find all of the connected components, which is simply a way to find\n",
    "all of the samples that are still connected by edges after we removed the edges\n",
    "with low weights. The first returned value is the number of connected components\n",
    "(that is, the number of clusters) and the second is the labels for each sample. The\n",
    "code is as follows:"
   ]
  },
  {
   "cell_type": "code",
   "execution_count": null,
   "metadata": {},
   "outputs": [],
   "source": [
    "from scipy.sparse.csgraph import connected_components\n",
    "number_of_clusters, labels = connected_components(mst)"
   ]
  },
  {
   "cell_type": "markdown",
   "metadata": {},
   "source": [
    "In my dataset, I obtained eight clusters, with the clusters being approximately\n",
    "the same as before. This is hardly a surprise, given we only used two iterations\n",
    "of k-means; using more iterations of k-means (as we do in the next section) will\n",
    "result in more variance.\n",
    "\n",
    "## How it works\n",
    "\n",
    "In the k-means algorithm, each feature is used without any regard to its weight. In\n",
    "essence, all features are assumed to be on the same scale. We saw the problems with\n",
    "not scaling features in Chapter 2, Classifying with scikit-learn Estimators. The result of this\n",
    "is that k-means is looking for circular clusters, as shown in the following screenshot:\n",
    "\n",
    "As we can see in the preceding screenshot, not all clusters have this shape. The blue\n",
    "cluster is circular and is of the type that k-means is very good at picking up. The\n",
    "red cluster is an ellipse. The k-means algorithm can pick up clusters of this shape\n",
    "with some feature scaling. The third cluster isn't even convex—it is an odd shape\n",
    "that k-means will have trouble discovering.\n",
    "\n",
    "The EAC algorithm works by remapping the features onto a new space, in essence\n",
    "turning each run of the k-means algorithm into a transformer using the same\n",
    "principles we saw the previous section using k-means for feature reduction. In\n",
    "this case, though, we only use the actual label and not the distance to each centroid.\n",
    "This is the data that is recorded in the co-association matrix.\n",
    "\n",
    "The result is that EAC now only cares about how close things are to each other,\n",
    "not how they are placed in the original feature space. There are still issues around\n",
    "unscaled features. Feature scaling is important and should be done anyway\n",
    "(we did it using tf-idf in this chapter, which results in feature values having\n",
    "the same scale).\n",
    "\n",
    "We saw a similar type of transformation in Chapter 9, Authorship Attribution,\n",
    "through the use of kernels in SVMs. These transformations are very powerful\n",
    "and should be kept in mind for complex datasets."
   ]
  },
  {
   "cell_type": "markdown",
   "metadata": {},
   "source": [
    "## Implementation\n",
    "\n",
    "Putting all this altogether, we can now create a simply clustering algorithm fitting\n",
    "the scikit-learn interface that performs all of the steps in EAC. First, we create the\n",
    "basic structure of the class using scikit-learn's ClusterMixin:"
   ]
  },
  {
   "cell_type": "code",
   "execution_count": null,
   "metadata": {},
   "outputs": [],
   "source": [
    "from sklearn.base import BaseEstimator, ClusterMixin\n",
    "\n",
    "class EAC(BaseEstimator, ClusterMixin):\n",
    "    def __init__(self, n_clusterings=10, cut_threshold=0.5, n_clusters_range=(3, 10)):\n",
    "        self.n_clusterings = n_clusterings\n",
    "        self.cut_threshold = cut_threshold\n",
    "        self.n_clusters_range = n_clusters_range\n",
    "    \n",
    "    def fit(self, X, y=None):\n",
    "        C = sum((create_coassociation_matrix(self._single_clustering(X))\n",
    "                 for i in range(self.n_clusterings)))\n",
    "        mst = minimum_spanning_tree(-C)\n",
    "        mst.data[mst.data > -self.cut_threshold] = 0\n",
    "        mst.eliminate_zeros()\n",
    "        self.n_components, self.labels_ = connected_components(mst)\n",
    "        return self\n",
    "    \n",
    "    def _single_clustering(self, X):\n",
    "        n_clusters = np.random.randint(*self.n_clusters_range)\n",
    "        km = KMeans(n_clusters=n_clusters)\n",
    "        return km.fit_predict(X)\n",
    "    \n",
    "    def fit_predict(self, X):\n",
    "        self.fit(X)\n",
    "        return self.labels_"
   ]
  },
  {
   "cell_type": "code",
   "execution_count": null,
   "metadata": {},
   "outputs": [],
   "source": [
    "\n",
    "pipeline = Pipeline([('feature_extraction', TfidfVectorizer(max_df=0.4)),\n",
    "                     ('clusterer', EAC())])"
   ]
  },
  {
   "cell_type": "code",
   "execution_count": null,
   "metadata": {},
   "outputs": [],
   "source": [
    "pipeline.fit(documents)"
   ]
  },
  {
   "cell_type": "code",
   "execution_count": null,
   "metadata": {},
   "outputs": [],
   "source": [
    "labels = pipeline.named_steps['clusterer'].labels_"
   ]
  },
  {
   "cell_type": "code",
   "execution_count": null,
   "metadata": {},
   "outputs": [],
   "source": [
    "c = Counter(labels)\n",
    "c"
   ]
  },
  {
   "cell_type": "markdown",
   "metadata": {},
   "source": [
    "## Online Learning\n",
    "\n",
    "In some cases, we don't have all of the data we need for training before we\n",
    "start our learning. Sometimes, we are waiting for new data to arrive, perhaps\n",
    "the data we have is too large to fit into memory, or we receive extra data after\n",
    "a prediction has been made. In cases like these, online learning is an option for\n",
    "training models over time.\n",
    "\n",
    "## An introduction to online learning\n",
    "\n",
    "Online learning is the incremental updating of a model as new data arrives.\n",
    "Algorithms that support online learning can be trained on one or a few samples\n",
    "at a time, and updated as new samples arrive. In contrast, algorithms that are not\n",
    "online require access to all of the data at once. The standard k-means algorithm is\n",
    "like this, as are most of the algorithms we have seen so far in this book.\n",
    "\n",
    "Online versions of algorithms have a means to partially update their model with\n",
    "only a few samples. Neural networks are a standard example of an algorithm that\n",
    "works in an online fashion. As a new sample is given to the neural network, the\n",
    "weights in the network are updated according to a learning rate, which is often a\n",
    "very small value such as 0.01. This means that any single instance only makes a small\n",
    "(but hopefully improving) change to the model. \n",
    "\n",
    "Neural networks can also be trained in batch mode, where a group of samples are\n",
    "given at once and the training is done in one step. Algorithms are faster in batch\n",
    "mode, but use more memory.\n",
    "\n",
    "In this same vein, we can slightly update the k-means centroids after a single or small\n",
    "batch of samples. To do this, we apply a learning rate to the centroid movement in\n",
    "the updating step of the k-means algorithm. Assuming that samples are randomly\n",
    "chosen from the population, the centroids should tend to move towards the positions\n",
    "they would have in the standard, offline, and k-means algorithm.\n",
    "\n",
    "Online learning is related to streaming-based learning; however, there are some\n",
    "important differences. Online learning is capable of reviewing older samples after they\n",
    "have been used in the model, while a streaming-based machine learning algorithm\n",
    "typically only gets one pass—that is, one opportunity to look at each sample."
   ]
  },
  {
   "cell_type": "markdown",
   "metadata": {},
   "source": [
    "## Implementation\n",
    "\n",
    "The scikit-learn package contains the MiniBatchKMeans algorithm, which allows\n",
    "online learning. This class implements a partial_fit function, which takes a set of\n",
    "samples and updates the model. In contrast, calling fit() will remove any previous\n",
    "training and refit the model only on the new data.\n",
    "\n",
    "MiniBatchKMeans follows the same clustering format as other algorithms in\n",
    "scikit-learn, so creating and using it is much the same as other algorithms.\n",
    "\n",
    "Therefore, we can create a matrix X by extracting features from our dataset using\n",
    "TfIDFVectorizer, and then sample from this to incrementally update our model.\n",
    "The code is as follows:"
   ]
  },
  {
   "cell_type": "code",
   "execution_count": null,
   "metadata": {},
   "outputs": [],
   "source": [
    "from sklearn.cluster import MiniBatchKMeans\n",
    "vec = TfidfVectorizer(max_df=0.4)"
   ]
  },
  {
   "cell_type": "code",
   "execution_count": null,
   "metadata": {},
   "outputs": [],
   "source": [
    "X = vec.fit_transform(documents)"
   ]
  },
  {
   "cell_type": "code",
   "execution_count": null,
   "metadata": {},
   "outputs": [],
   "source": [
    "mbkm = MiniBatchKMeans(random_state=14, n_clusters=3)\n",
    "batch_size = 500\n",
    "\n",
    "indices = np.arange(0, X.shape[0])\n",
    "for iteration in range(100):\n",
    "    sample = np.random.choice(indices, size=batch_size, replace=True)\n",
    "    mbkm.partial_fit(X[sample[:batch_size]])"
   ]
  },
  {
   "cell_type": "code",
   "execution_count": null,
   "metadata": {},
   "outputs": [],
   "source": [
    "mbkm = MiniBatchKMeans(random_state=14, n_clusters=3)\n",
    "batch_size = 10\n",
    "\n",
    "for iteration in range(int(X.shape[0] / batch_size)):\n",
    "    start = batch_size * iteration\n",
    "    end = batch_size * (iteration + 1)\n",
    "    mbkm.partial_fit(X[start:end])"
   ]
  },
  {
   "cell_type": "code",
   "execution_count": null,
   "metadata": {},
   "outputs": [],
   "source": [
    "labels_mbkm = mbkm.predict(X)\n",
    "mbkm.inertia_"
   ]
  },
  {
   "cell_type": "markdown",
   "metadata": {},
   "source": [
    "At this stage, though, we can't do this in a pipeline as TfIDFVectorizer is\n",
    "not an online algorithm. To get over this, we use a HashingVectorizer. The\n",
    "HashingVectorizer class is a clever use of hashing algorithms to drastically reduce\n",
    "the memory of computing the bag-of-words model. Instead of recording the feature\n",
    "names, such as words found in documents, we record only hashes of those names.\n",
    "This allows us to know our features before we even look at the dataset, as it is the set\n",
    "of all possible hashes. This is a very large number, usually of the order 2^18. Using\n",
    "sparse matrices, we can quite easily store and compute even a matrix of this size, as\n",
    "a very large proportion of the matrix will have the value 0.\n",
    "\n",
    "Currently, the Pipeline class doesn't allow for its use in online learning.\n",
    "There are some nuances in different applications that mean there isn't an obvious\n",
    "one-size-fits-all approach that could be implemented. Instead, we can create our\n",
    "own subclass of Pipeline that allows us to use it for online learning. We first\n",
    "derive our class from Pipeline, as we only need to implement a single function:"
   ]
  },
  {
   "cell_type": "code",
   "execution_count": null,
   "metadata": {},
   "outputs": [],
   "source": [
    "km = KMeans(random_state=14, n_clusters=3)\n",
    "labels_km = km.fit_predict(X)\n",
    "km.inertia_"
   ]
  },
  {
   "cell_type": "code",
   "execution_count": null,
   "metadata": {},
   "outputs": [],
   "source": [
    "from sklearn.metrics import adjusted_mutual_info_score, homogeneity_score\n",
    "from sklearn.metrics import mutual_info_score, v_measure_score"
   ]
  },
  {
   "cell_type": "code",
   "execution_count": null,
   "metadata": {},
   "outputs": [],
   "source": [
    "v_measure_score(labels_mbkm, labels_km)"
   ]
  },
  {
   "cell_type": "code",
   "execution_count": null,
   "metadata": {},
   "outputs": [],
   "source": [
    "X.shape"
   ]
  },
  {
   "cell_type": "code",
   "execution_count": null,
   "metadata": {},
   "outputs": [],
   "source": [
    "labels_mbkm"
   ]
  },
  {
   "cell_type": "code",
   "execution_count": null,
   "metadata": {},
   "outputs": [],
   "source": [
    "from sklearn.feature_extraction.text import HashingVectorizer"
   ]
  },
  {
   "cell_type": "code",
   "execution_count": null,
   "metadata": {},
   "outputs": [],
   "source": [
    "class PartialFitPipeline(Pipeline):\n",
    "    def partial_fit(self, X, y=None):\n",
    "        Xt = X\n",
    "        for name, transform in self.steps[:-1]:\n",
    "            Xt = transform.transform(Xt)\n",
    "        return self.steps[-1][1].partial_fit(Xt, y=y)"
   ]
  },
  {
   "cell_type": "code",
   "execution_count": null,
   "metadata": {},
   "outputs": [],
   "source": [
    "pipeline = PartialFitPipeline([('feature_extraction', HashingVectorizer()),\n",
    "                             ('clusterer', MiniBatchKMeans(random_state=14, n_clusters=3))])"
   ]
  },
  {
   "cell_type": "code",
   "execution_count": null,
   "metadata": {},
   "outputs": [],
   "source": [
    "batch_size = 10\n",
    "\n",
    "for iteration in range(int(len(documents) / batch_size)):\n",
    "    start = batch_size * iteration\n",
    "    end = batch_size * (iteration + 1)\n",
    "    pipeline.partial_fit(documents[start:end])"
   ]
  },
  {
   "cell_type": "code",
   "execution_count": null,
   "metadata": {},
   "outputs": [],
   "source": [
    "labels = pipeline.predict(documents)\n",
    "labels"
   ]
  },
  {
   "cell_type": "markdown",
   "metadata": {},
   "source": [
    "There are some downsides to this approach though. For one, we can't easily find\n",
    "out which words are most important for each cluster. We can get around this by\n",
    "fitting another CountVectorizer and taking the hash of each word. We then look up\n",
    "values by hash rather than word. This is a bit cumbersome and defeats the memory\n",
    "gains from using HashingVectorizer. Further, we can't use the max_df parameter\n",
    "that we used earlier, as it requires us to know what the features mean and to count\n",
    "them over time.\n",
    "\n",
    "We also can't use tf-idf weighting when performing training online. It would\n",
    "be possible to approximate this and apply such weighting, but again this is a\n",
    "cumbersome approach. HashingVectorizer is still a very useful algorithm and a\n",
    "great use of hashing algorithms."
   ]
  }
 ],
 "metadata": {
  "kernelspec": {
   "display_name": "Python 3",
   "language": "python",
   "name": "python3"
  },
  "language_info": {
   "codemirror_mode": {
    "name": "ipython",
    "version": 3
   },
   "file_extension": ".py",
   "mimetype": "text/x-python",
   "name": "python",
   "nbconvert_exporter": "python",
   "pygments_lexer": "ipython3",
   "version": "3.7.0"
  }
 },
 "nbformat": 4,
 "nbformat_minor": 2
}
